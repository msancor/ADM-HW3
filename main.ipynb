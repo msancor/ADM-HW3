{
 "cells": [
  {
   "cell_type": "markdown",
   "metadata": {},
   "source": [
    "# **Algorithmic Methods for Data Mining: Homework 3**\n",
    "\n",
    "**Author:** Miguel Angel Sanchez Cortes\n",
    "\n",
    "*MSc. in Data Science, Sapienza University of Rome*\n",
    "\n",
    "---\n",
    "\n",
    "## **0. Uploading the Classes and Modules**\n",
    "\n",
    "Before doing any kind of analysis it is necessary to upload both the relevant Classes and Modules we will use to work."
   ]
  },
  {
   "cell_type": "code",
   "execution_count": 1,
   "metadata": {},
   "outputs": [],
   "source": [
    "from modules.web_scraper import WebScraper\n",
    "from modules.html_parser import HTMLParser\n",
    "from modules.data_preprocesser import DataPreprocesser\n",
    "from modules.search_engine import SearchEngine, TopKSearchEngine\n",
    "\n"
   ]
  },
  {
   "cell_type": "markdown",
   "metadata": {},
   "source": [
    "---\n",
    "\n",
    "## **1. Data Collection**\n",
    "\n",
    "For this homework, there was no provided dataset, instead, we had to build our own. We were asked to obtain relevant information for the courses contained in the [Find a Masters](https://www.findamasters.com/) website. Specifically, we were asked to obtain information for the Masters courses contained on the first **400** pages of the [MSc. Degrees](https://www.findamasters.com/masters-degrees/msc-degrees/) section of the [Find a Masters](https://www.findamasters.com/) website.\n",
    "\n",
    "To do this, we created two custom-made **Python classes** that performed *Web Scraping* and *HTML Parsing* on the first 400 pages of the [MSc. Degrees](https://www.findamasters.com/masters-degrees/msc-degrees/) section of the [Find a Masters](https://www.findamasters.com/) website and obtained as a result a **Pandas Dataframe** with all the relevant information for each course within these pages. Here is a brief description of each of the classes:\n",
    "\n",
    "- `WebScraper`. This class performs web scraping on multiple pages of the [MSc. Degrees](https://www.findamasters.com/masters-degrees/msc-degrees/) section of the [Find a Masters](https://www.findamasters.com/) website. To do this it uses the following methods:\n",
    "\n",
    "    - `scrape_urls()`. Scrapes the urls for all the courses within the [MSc. Degrees](https://www.findamasters.com/masters-degrees/msc-degrees/) section of the [Find a Masters](https://www.findamasters.com/) website and saves them in a text file.\n",
    "    \n",
    "    - `scrape_htmls()`. Scrapes and saves the HTML file for each URL contained in the text file produced by the `scrape_urls()` method.\n",
    "\n",
    "- `HTMLParser`. This class parses each HTML file obtained with the `WebScraper.scrape_htmls()` method and obtains relevant information within these files. To do this it uses the following methods:\n",
    "\n",
    "    - `parse_htmls()`. Parses information within the HTMLs (courses) obtained with the `WebScraper.scrape_htmls()` method and obtains: the name of the course, name of the university, name of the faculty, modality (MSc., full time/part time, online/on campus, etc.), description, start date, fees, duration, city, country, and URL, and saves all this information on tsv files.\n",
    "\n",
    "    - `get_dataframe()`: Obtains a dataframe containing the parsed information of all the courses obtained with the `parse_htmls()` method.\n",
    "\n",
    "For more information about the **implementation** of these classes and methods, please refer to their corresponding `web_scraper.py` and `html_parser.py` files contained in the `modules` directory of our repository.\n",
    "\n",
    "\n",
    "### **1.1. Getting the list of Master's Degrees courses**\n",
    "\n",
    "First, we start by web scraping the [MSc. Degrees](https://www.findamasters.com/masters-degrees/msc-degrees/) section of the [Find a Masters](https://www.findamasters.com/) website. In particular, we start by collecting the URLs associated with all the Master courses within the first 400 pages of this section, since each page has 15 courses, we obtained 6000 unique master's degree URLs. We obtained as an output a .txt file where each single line corresponds to a particular master's URL.\n",
    "\n",
    "To do this, we used our `WebScraper` class. In particular, the `scrape_urls()` method of our `WebScraper` class:"
   ]
  },
  {
   "cell_type": "code",
   "execution_count": 2,
   "metadata": {},
   "outputs": [],
   "source": [
    "#First, we have to initialize the WebScraper class by calling the constructor\n",
    "web_scraper = WebScraper()\n",
    "\n",
    "#As a second step, we can call the .scrape_urls() method to get the list of urls mentioned above. This method doesn't return anything. \n",
    "#Instead, the method saves the URLs in a text file called urls.txt\n",
    "web_scraper.scrape_urls()\n"
   ]
  },
  {
   "cell_type": "markdown",
   "metadata": {},
   "source": [
    "After performing the last step we generated an `urls.txt` file where each line was a different URL for a course within the [MSc. Degrees](https://www.findamasters.com/masters-degrees/msc-degrees/) section of the [Find a Masters](https://www.findamasters.com/) website. As an exercise, to see that our code indeed worked we can print the first **three** lines of this file:"
   ]
  },
  {
   "cell_type": "code",
   "execution_count": 4,
   "metadata": {},
   "outputs": [
    {
     "name": "stdout",
     "output_type": "stream",
     "text": [
      "https://www.findamasters.com/masters-degrees/course/3d-design-for-virtual-environments-msc/?i93d2645c19223\n",
      "\n",
      "https://www.findamasters.com/masters-degrees/course/accounting-and-finance-msc/?i321d3232c3891\n",
      "\n",
      "https://www.findamasters.com/masters-degrees/course/accounting-accountability-and-financial-management-msc/?i132d7816c25522\n",
      "\n"
     ]
    }
   ],
   "source": [
    "#Here we print the first 3 URLs from the urls.txt file\n",
    "with open('data/urls.txt', 'r') as f:\n",
    "    for _ in range(3):\n",
    "        print(f.readline())\n"
   ]
  },
  {
   "cell_type": "markdown",
   "metadata": {},
   "source": [
    "### **1.2. Crawling the master's degree pages**\n",
    "\n",
    "Once we got the URLs of the courses contained in the first 400 pages of the [MSc. Degrees](https://www.findamasters.com/masters-degrees/msc-degrees/) section of the [Find a Masters](https://www.findamasters.com/) website, we saved the HTML files of each individual URL. We performed the following steps:\n",
    "\n",
    "1. Downloading the HTML corresponding to each of the collected URLs.\n",
    "\n",
    "2. Saving the downloaded `HTML` file into folders. Where each folder contains the URLs belonging to a given page. In other words, each folder contains the `HTML` files of the courses on page 1, page 2, etc. of the list of master's programs.\n",
    "   \n",
    "To do this, we used our `WebScraper` class. In particular, the `scrape_htmls()` method of our `WebScraper` class:"
   ]
  },
  {
   "cell_type": "code",
   "execution_count": 3,
   "metadata": {},
   "outputs": [
    {
     "name": "stdout",
     "output_type": "stream",
     "text": [
      "Connection error: ('Connection aborted.', RemoteDisconnected('Remote end closed connection without response')). Waiting 60 seconds and trying again.\n",
      "Connection error: ('Connection aborted.', RemoteDisconnected('Remote end closed connection without response')). Waiting 60 seconds and trying again.\n"
     ]
    }
   ],
   "source": [
    "#Here, we can call the .scrape_htmls() method to get the HTMLs of the URLs mentioned above. This method doesn't return anything.\n",
    "#Instead, the method saves the HTMLs in a folder called htmls, where this folder contains subfolders for each page for the first 400 pages.\n",
    "#!!DO NOT RUN THIS METHOD IF YOU ALREADY HAVE THE HTMLS IN THE FOLDER!!\n",
    "web_scraper.scrape_htmls()\n"
   ]
  },
  {
   "cell_type": "markdown",
   "metadata": {},
   "source": [
    "It is important to notice that this method takes to run approximately $\\sim 10$ hours since we have to download $6000$ HTML files. We didn't try to optimize the running time since we encountered several issues that constrained our running time when performing web-scraping:\n",
    "\n",
    "1. When accessing the information, we encountered an error: **Error 429: Too Many Requests** since we were requesting information **too fast**, this constrained us to take a given amount of time between each request in order to ensure the correct obtention of information.\n",
    "\n",
    "3. We had a very *unstable* internet connection when trying to download the HTML files. In order to ensure the optimal obtention of data, we waited $60$ seconds every time there was a **ConnectionError** and tried again.\n",
    "\n",
    "4. Finally, even though we took a given amount of time between each request, there were cases where we obtained HTML files with only the text *\"Just a moment...\"* written on it. Therefore we augmented the time threshold between each request in order to avoid this situation and clearly this took a big toll on the running time of our final code.\n",
    "\n",
    "We consulted the following sources to solve each one of these problems:\n",
    "\n",
    "- [Problem HTTP error 403 in Python 3 Web Scraping](https://stackoverflow.com/questions/16627227/problem-http-error-403-in-python-3-web-scraping).\n",
    "\n",
    "- [urllib2 HTTP error 429](https://stackoverflow.com/questions/13213048/urllib2-http-error-429).\n",
    "\n",
    "- [Web Scraping using Python (and Beautiful Soup)](https://www.datacamp.com/tutorial/web-scraping-using-python).\n",
    "\n",
    "### **1.3. Parsing the downloaded pages**\n",
    "\n",
    "At this point, we have saved all the HTML documents about the master's degree of interest. The next step we need to perform is extracting relevant information from each one of the courses we have. The **structure** of the web pages for each course can be exemplified with the following image:\n",
    "\n",
    "\n",
    "<img align = \"right\" src=\"https://raw.githubusercontent.com/Sapienza-University-Rome/ADM/master/2023/Homework_3/img/example.jpeg\" width=\"650\" height = \"450\"/>\n",
    "\n",
    "<div style=\"text-align: left\"> \n",
    "\n",
    "The information we desire to obtain for each course and their format is as follows:\n",
    "\n",
    "1. Course Name (<span style='color:#CB0900'> **CourseName** </span>): `string`.\n",
    "\n",
    "2. University (<span style='color:#007B04'> **UniversityName** </span>): `string`.\n",
    "\n",
    "3. Faculty (<span style='color:orange'> **facultyName** </span>): `string`.\n",
    "\n",
    "4. Full or Part Time (<span style='color:#1A2E81'> **isItFullTime** </span>): `string`.\n",
    "\n",
    "5. Short Description (<span style='color:black'> **description** </span>): `string`.\n",
    "\n",
    "6. Start Date (<span style='color:purple'> **startDate** </span>): `string`.\n",
    "\n",
    "7. Fees (<span style='color:pink'> **fees** </span>): `string`.\n",
    "\n",
    "8. Modality (<span style='color:#FF9797'> **modality** </span>): `string`.\n",
    "\n",
    "9. Duration (<span style='color:#3ABC3C'> **duration** </span>): `string`.\n",
    "\n",
    "10. City (<span style='color:#F93345'> **city** </span>): `string`.\n",
    "\n",
    "11. Country (<span style='color:yellow'> **country** </span>): `string`.\n",
    "\n",
    "12. Presence or online modality (<span style='color:#0874FF'> **administration** </span>): `string`.\n",
    "\n",
    "13. Link to the page (**url**): `string`.\n",
    "</div>"
   ]
  },
  {
   "cell_type": "markdown",
   "metadata": {},
   "source": [
    "To obtain this information, we used our `HTMLParser` class. In particular, the `parse_htmls()` method of our `HTMLParser` class. This method extracts the previous information from each HTML file of every course contained in the first 400 pages of the [MSc. Degrees](https://www.findamasters.com/masters-degrees/msc-degrees/) section of the [Find a Masters](https://www.findamasters.com/) website and saves it in a `.tsv` file. At the end we should finish with $6000$ `.tsv` files:"
   ]
  },
  {
   "cell_type": "code",
   "execution_count": 6,
   "metadata": {},
   "outputs": [],
   "source": [
    "#First, we have to initialize the HTMLParser class by calling the constructor\n",
    "html_parser = HTMLParser()\n",
    "\n",
    "#As a second step, we can call the .parse_htmls() method to get the tsv files containing all the information mentioned before for each course.\n",
    "#Instead, the method saves the URLs in a text file called urls.txt\n",
    "html_parser.parse_htmls()\n"
   ]
  },
  {
   "cell_type": "markdown",
   "metadata": {},
   "source": [
    "As an exercise, to see that our code indeed worked we can print the first **three** `.tsv` files i.e., the `.tsv` for the first three courses in the first page of the [MSc. Degrees](https://www.findamasters.com/masters-degrees/msc-degrees/) section of the [Find a Masters](https://www.findamasters.com/) website:"
   ]
  },
  {
   "cell_type": "code",
   "execution_count": 8,
   "metadata": {},
   "outputs": [
    {
     "name": "stdout",
     "output_type": "stream",
     "text": [
      "3D Design for Virtual Environments - MSc\tGlasgow Caledonian University\tSchool of Engineering and Built Environment\tFull time\t3D visualisation and animation play a role in many areas, and the popularity of these media just keeps growing. Digital animation provides the eye-catching special effects in the 21st century's favourite films and television shows; 3D design is also essential to everyday work in everything from computer games development, online virtual world development and industrial design to marketing, product design and architecture. GCU's programme in 3D Design for Virtual Environments will help you develop the skills to thrive in a successful career as a visual designer. The programme is practical and career-focused, oriented towards current industry needs, technology and practice. No prior knowledge of 3D design is required.\tSeptember\tPlease see the university website for further information on fees for this course.\tMSc\t1 year full-time\tGlasgow\tUnited Kingdom\tOn Campus\thttps://www.findamasters.com/masters-degrees/course/3d-design-for-virtual-environments-msc/?i93d2645c19223\n",
      "\n",
      "Accounting and Finance - MSc\tUniversity of Leeds\tLeeds University Business School\tFull time\tBusinesses and governments rely on sound financial knowledge to underpin their strategies for success. This course will kick-start your professional career, providing you with advanced knowledge of modern financial theories, accounting practices and controls, as well as an understanding of the organisational context. You'll cover fundamental topics such as corporate finance and corporate reporting. Optional modules will allow you specialise your knowledge, ranging from international business finance to forensic accounting. You’ll also be able to apply your learning to practical case studies and simulations to test your knowledge in genuine business scenarios.\tSeptember\tUK: £18,000 (Total) International: £34,750 (Total)\tMSc\t1 year full time\tLeeds\tUnited Kingdom\tOn Campus\thttps://www.findamasters.com/masters-degrees/course/accounting-and-finance-msc/?i321d3232c3891\n",
      "\n",
      "Accounting, Accountability & Financial Management MSc\tKing’s College London\tKing’s Business School\tFull time\tOur Accounting, Accountability & Financial Management MSc course will provide you with an advanced understanding of the economic, technical and institutional foundations of accounting and financial management. You'll explore the importance of accountability and information, corporate governance, and ethics in global financial markets. With an undergraduate degree in a relevant social science subject, you'll be ready to tackle the intellectually challenging world of finance. Through a combination of core modules and your own choice of management areas, you'll come away fully equipped to thrive in any industry you choose to go into.\tSeptember\tPlease see the university website for further information on fees for this course.\tMSc\t1 year FT\tLondon\tUnited Kingdom\tOn Campus\thttps://www.findamasters.com/masters-degrees/course/accounting-accountability-and-financial-management-msc/?i132d7816c25522\n",
      "\n"
     ]
    }
   ],
   "source": [
    "#Here we print the first 3 .tsv files from the data/tsvs folder\n",
    "for i in range(3):\n",
    "    with open(f'data/tsvs/course_{i+1}.tsv', 'r') as f:\n",
    "        print(f.read())\n"
   ]
  },
  {
   "cell_type": "markdown",
   "metadata": {},
   "source": [
    "Once we've obtained the relevant data we can finally visualize it properly by creating a *Pandas DataFrame*. To do this we can use the `get_dataframe()` method of our `HTMLParser` class. This method joins all the `.tsv` files created before in a single DataFrame:"
   ]
  },
  {
   "cell_type": "code",
   "execution_count": 2,
   "metadata": {},
   "outputs": [
    {
     "data": {
      "text/html": [
       "<div>\n",
       "<style scoped>\n",
       "    .dataframe tbody tr th:only-of-type {\n",
       "        vertical-align: middle;\n",
       "    }\n",
       "\n",
       "    .dataframe tbody tr th {\n",
       "        vertical-align: top;\n",
       "    }\n",
       "\n",
       "    .dataframe thead th {\n",
       "        text-align: right;\n",
       "    }\n",
       "</style>\n",
       "<table border=\"1\" class=\"dataframe\">\n",
       "  <thead>\n",
       "    <tr style=\"text-align: right;\">\n",
       "      <th></th>\n",
       "      <th>courseName</th>\n",
       "      <th>universityName</th>\n",
       "      <th>facultyName</th>\n",
       "      <th>isItFullTime</th>\n",
       "      <th>description</th>\n",
       "      <th>startDate</th>\n",
       "      <th>fees</th>\n",
       "      <th>modality</th>\n",
       "      <th>duration</th>\n",
       "      <th>city</th>\n",
       "      <th>country</th>\n",
       "      <th>administration</th>\n",
       "      <th>url</th>\n",
       "    </tr>\n",
       "  </thead>\n",
       "  <tbody>\n",
       "    <tr>\n",
       "      <th>0</th>\n",
       "      <td>3D Design for Virtual Environments - MSc</td>\n",
       "      <td>Glasgow Caledonian University</td>\n",
       "      <td>School of Engineering and Built Environment</td>\n",
       "      <td>Full time</td>\n",
       "      <td>3D visualisation and animation play a role in ...</td>\n",
       "      <td>September</td>\n",
       "      <td>Please see the university website for further ...</td>\n",
       "      <td>MSc</td>\n",
       "      <td>1 year full-time</td>\n",
       "      <td>Glasgow</td>\n",
       "      <td>United Kingdom</td>\n",
       "      <td>On Campus</td>\n",
       "      <td>https://www.findamasters.com/masters-degrees/c...</td>\n",
       "    </tr>\n",
       "    <tr>\n",
       "      <th>1</th>\n",
       "      <td>Accounting and Finance - MSc</td>\n",
       "      <td>University of Leeds</td>\n",
       "      <td>Leeds University Business School</td>\n",
       "      <td>Full time</td>\n",
       "      <td>Businesses and governments rely on sound finan...</td>\n",
       "      <td>September</td>\n",
       "      <td>UK: £18,000 (Total) International: £34,750 (To...</td>\n",
       "      <td>MSc</td>\n",
       "      <td>1 year full time</td>\n",
       "      <td>Leeds</td>\n",
       "      <td>United Kingdom</td>\n",
       "      <td>On Campus</td>\n",
       "      <td>https://www.findamasters.com/masters-degrees/c...</td>\n",
       "    </tr>\n",
       "    <tr>\n",
       "      <th>2</th>\n",
       "      <td>Accounting, Accountability &amp; Financial Managem...</td>\n",
       "      <td>King’s College London</td>\n",
       "      <td>King’s Business School</td>\n",
       "      <td>Full time</td>\n",
       "      <td>Our Accounting, Accountability &amp; Financial Man...</td>\n",
       "      <td>September</td>\n",
       "      <td>Please see the university website for further ...</td>\n",
       "      <td>MSc</td>\n",
       "      <td>1 year FT</td>\n",
       "      <td>London</td>\n",
       "      <td>United Kingdom</td>\n",
       "      <td>On Campus</td>\n",
       "      <td>https://www.findamasters.com/masters-degrees/c...</td>\n",
       "    </tr>\n",
       "    <tr>\n",
       "      <th>3</th>\n",
       "      <td>Accounting, Financial Management and Digital B...</td>\n",
       "      <td>University of Reading</td>\n",
       "      <td>Henley Business School</td>\n",
       "      <td>Full time</td>\n",
       "      <td>Embark on a professional accounting career wit...</td>\n",
       "      <td>September</td>\n",
       "      <td>Please see the university website for further ...</td>\n",
       "      <td>MSc</td>\n",
       "      <td>1 year full time</td>\n",
       "      <td>Reading</td>\n",
       "      <td>United Kingdom</td>\n",
       "      <td>On Campus</td>\n",
       "      <td>https://www.findamasters.com/masters-degrees/c...</td>\n",
       "    </tr>\n",
       "    <tr>\n",
       "      <th>4</th>\n",
       "      <td>Addictions MSc</td>\n",
       "      <td>King’s College London</td>\n",
       "      <td>Institute of Psychiatry, Psychology and Neuros...</td>\n",
       "      <td>Full time</td>\n",
       "      <td>Join us for an online session for prospective ...</td>\n",
       "      <td>September</td>\n",
       "      <td>Please see the university website for further ...</td>\n",
       "      <td>MSc</td>\n",
       "      <td>One year FT</td>\n",
       "      <td>London</td>\n",
       "      <td>United Kingdom</td>\n",
       "      <td>On Campus</td>\n",
       "      <td>https://www.findamasters.com/masters-degrees/c...</td>\n",
       "    </tr>\n",
       "  </tbody>\n",
       "</table>\n",
       "</div>"
      ],
      "text/plain": [
       "                                          courseName  \\\n",
       "0           3D Design for Virtual Environments - MSc   \n",
       "1                       Accounting and Finance - MSc   \n",
       "2  Accounting, Accountability & Financial Managem...   \n",
       "3  Accounting, Financial Management and Digital B...   \n",
       "4                                     Addictions MSc   \n",
       "\n",
       "                  universityName  \\\n",
       "0  Glasgow Caledonian University   \n",
       "1            University of Leeds   \n",
       "2          King’s College London   \n",
       "3          University of Reading   \n",
       "4          King’s College London   \n",
       "\n",
       "                                         facultyName isItFullTime  \\\n",
       "0        School of Engineering and Built Environment    Full time   \n",
       "1                   Leeds University Business School    Full time   \n",
       "2                             King’s Business School    Full time   \n",
       "3                             Henley Business School    Full time   \n",
       "4  Institute of Psychiatry, Psychology and Neuros...    Full time   \n",
       "\n",
       "                                         description  startDate  \\\n",
       "0  3D visualisation and animation play a role in ...  September   \n",
       "1  Businesses and governments rely on sound finan...  September   \n",
       "2  Our Accounting, Accountability & Financial Man...  September   \n",
       "3  Embark on a professional accounting career wit...  September   \n",
       "4  Join us for an online session for prospective ...  September   \n",
       "\n",
       "                                                fees modality  \\\n",
       "0  Please see the university website for further ...      MSc   \n",
       "1  UK: £18,000 (Total) International: £34,750 (To...      MSc   \n",
       "2  Please see the university website for further ...      MSc   \n",
       "3  Please see the university website for further ...      MSc   \n",
       "4  Please see the university website for further ...      MSc   \n",
       "\n",
       "           duration     city         country administration  \\\n",
       "0  1 year full-time  Glasgow  United Kingdom      On Campus   \n",
       "1  1 year full time    Leeds  United Kingdom      On Campus   \n",
       "2         1 year FT   London  United Kingdom      On Campus   \n",
       "3  1 year full time  Reading  United Kingdom      On Campus   \n",
       "4       One year FT   London  United Kingdom      On Campus   \n",
       "\n",
       "                                                 url  \n",
       "0  https://www.findamasters.com/masters-degrees/c...  \n",
       "1  https://www.findamasters.com/masters-degrees/c...  \n",
       "2  https://www.findamasters.com/masters-degrees/c...  \n",
       "3  https://www.findamasters.com/masters-degrees/c...  \n",
       "4  https://www.findamasters.com/masters-degrees/c...  "
      ]
     },
     "execution_count": 2,
     "metadata": {},
     "output_type": "execute_result"
    }
   ],
   "source": [
    "html_parser = HTMLParser()\n",
    "#Here we can call the .get_dataframe() method to get the pandas dataframe containing all the information mentioned before for each course.\n",
    "course_dataset = html_parser.get_dataframe()\n",
    "#Here we print the first 5 rows of the dataframe\n",
    "course_dataset.head()\n"
   ]
  },
  {
   "cell_type": "markdown",
   "metadata": {},
   "source": [
    "----\n",
    "\n",
    "## **2. Search Engine**\n",
    "\n",
    "Now that we have our data cleaned and organized in one dataset, we want to build a Search Engine that, given as input a query, return the courses that match the query. To do this we created **two** custom-made Python classes that helped us build our Search Engine and pre-process our data in order to make our Search Engine efficient and accurate. Here is a brief description of each of the classes:\n",
    "\n",
    "- `DataPreprocesser`: This class preprocesses the fees column and the text columns (removes punctuation/stopwords and performs tokenizing and lemmatizing) of the MSc courses dataset. To do this it uses the following methods:\n",
    "\n",
    "    - `preprocess_fees_column()`. Finds and converts the course fees into Euros, obtains the maximum fee and saves it as a float in a new column.\n",
    "\n",
    "    - `preprocess_text_column()`. Removes punctuation and stopwords from the text, and performs tokenizing and lemmatizing of every word.\n",
    "\n",
    "\n",
    "- `Search Engine`:  This class\n",
    "\n",
    "\n",
    "### **2.0. Preprocessing the text**"
   ]
  },
  {
   "cell_type": "code",
   "execution_count": 3,
   "metadata": {},
   "outputs": [],
   "source": [
    "data_preprocesser = DataPreprocesser(course_dataset)\n",
    "data_preprocesser.preprocess_text_column(column_name=\"description\")\n"
   ]
  },
  {
   "cell_type": "code",
   "execution_count": 10,
   "metadata": {},
   "outputs": [
    {
     "data": {
      "text/html": [
       "<div>\n",
       "<style scoped>\n",
       "    .dataframe tbody tr th:only-of-type {\n",
       "        vertical-align: middle;\n",
       "    }\n",
       "\n",
       "    .dataframe tbody tr th {\n",
       "        vertical-align: top;\n",
       "    }\n",
       "\n",
       "    .dataframe thead th {\n",
       "        text-align: right;\n",
       "    }\n",
       "</style>\n",
       "<table border=\"1\" class=\"dataframe\">\n",
       "  <thead>\n",
       "    <tr style=\"text-align: right;\">\n",
       "      <th></th>\n",
       "      <th>courseName</th>\n",
       "      <th>universityName</th>\n",
       "      <th>description</th>\n",
       "      <th>url</th>\n",
       "    </tr>\n",
       "  </thead>\n",
       "  <tbody>\n",
       "    <tr>\n",
       "      <th>1</th>\n",
       "      <td>Accounting and Finance - MSc</td>\n",
       "      <td>University of Leeds</td>\n",
       "      <td>Businesses and governments rely on sound finan...</td>\n",
       "      <td>https://www.findamasters.com/masters-degrees/c...</td>\n",
       "    </tr>\n",
       "    <tr>\n",
       "      <th>198</th>\n",
       "      <td>Master of Public Health (MPH) Online</td>\n",
       "      <td>Brunel University Online</td>\n",
       "      <td>Brunel’s Master of Public Health (online) has ...</td>\n",
       "      <td>https://www.findamasters.com/masters-degrees/c...</td>\n",
       "    </tr>\n",
       "    <tr>\n",
       "      <th>204</th>\n",
       "      <td>Master of Science in Mechanical Engineering</td>\n",
       "      <td>The Hong Kong University of Science and Techno...</td>\n",
       "      <td>The program is designed to benefit students wi...</td>\n",
       "      <td>https://www.findamasters.com/masters-degrees/c...</td>\n",
       "    </tr>\n",
       "    <tr>\n",
       "      <th>215</th>\n",
       "      <td>Materials Science and Engineering - MSc</td>\n",
       "      <td>University of Leeds</td>\n",
       "      <td>Materials science is at the forefront of provi...</td>\n",
       "      <td>https://www.findamasters.com/masters-degrees/c...</td>\n",
       "    </tr>\n",
       "    <tr>\n",
       "      <th>239</th>\n",
       "      <td>MSc Advanced Computer Science</td>\n",
       "      <td>University of Sheffield</td>\n",
       "      <td>This MSc keeps you at the cutting edge of deve...</td>\n",
       "      <td>https://www.findamasters.com/masters-degrees/c...</td>\n",
       "    </tr>\n",
       "    <tr>\n",
       "      <th>...</th>\n",
       "      <td>...</td>\n",
       "      <td>...</td>\n",
       "      <td>...</td>\n",
       "      <td>...</td>\n",
       "    </tr>\n",
       "    <tr>\n",
       "      <th>5872</th>\n",
       "      <td>Master of Science in Professional Nursing</td>\n",
       "      <td>Atlantic Technological University</td>\n",
       "      <td>The programme provides the nurse with a broad-...</td>\n",
       "      <td>https://www.findamasters.com/masters-degrees/c...</td>\n",
       "    </tr>\n",
       "    <tr>\n",
       "      <th>5904</th>\n",
       "      <td>Master of Science/Postgraduate Diploma in Civi...</td>\n",
       "      <td>The Hong Kong University of Science and Techno...</td>\n",
       "      <td>The program offers advanced civil engineering ...</td>\n",
       "      <td>https://www.findamasters.com/masters-degrees/c...</td>\n",
       "    </tr>\n",
       "    <tr>\n",
       "      <th>5905</th>\n",
       "      <td>Master of Science/Postgraduate Diploma in Envi...</td>\n",
       "      <td>The Hong Kong University of Science and Techno...</td>\n",
       "      <td>The program is meant to meet the needs of prac...</td>\n",
       "      <td>https://www.findamasters.com/masters-degrees/c...</td>\n",
       "    </tr>\n",
       "    <tr>\n",
       "      <th>5943</th>\n",
       "      <td>Master's course in Cognitive Science</td>\n",
       "      <td>University of Trento</td>\n",
       "      <td>The two-year CIMeC Master’s in Cognitive Scien...</td>\n",
       "      <td>https://www.findamasters.com/masters-degrees/c...</td>\n",
       "    </tr>\n",
       "    <tr>\n",
       "      <th>5953</th>\n",
       "      <td>Masters in Economics</td>\n",
       "      <td>University of Lisbon</td>\n",
       "      <td>The MSc in Economics aims to provide: The MSc ...</td>\n",
       "      <td>https://www.findamasters.com/masters-degrees/c...</td>\n",
       "    </tr>\n",
       "  </tbody>\n",
       "</table>\n",
       "<p>186 rows × 4 columns</p>\n",
       "</div>"
      ],
      "text/plain": [
       "                                             courseName  \\\n",
       "1                          Accounting and Finance - MSc   \n",
       "198                Master of Public Health (MPH) Online   \n",
       "204         Master of Science in Mechanical Engineering   \n",
       "215             Materials Science and Engineering - MSc   \n",
       "239                       MSc Advanced Computer Science   \n",
       "...                                                 ...   \n",
       "5872          Master of Science in Professional Nursing   \n",
       "5904  Master of Science/Postgraduate Diploma in Civi...   \n",
       "5905  Master of Science/Postgraduate Diploma in Envi...   \n",
       "5943               Master's course in Cognitive Science   \n",
       "5953                               Masters in Economics   \n",
       "\n",
       "                                         universityName  \\\n",
       "1                                   University of Leeds   \n",
       "198                            Brunel University Online   \n",
       "204   The Hong Kong University of Science and Techno...   \n",
       "215                                 University of Leeds   \n",
       "239                             University of Sheffield   \n",
       "...                                                 ...   \n",
       "5872                  Atlantic Technological University   \n",
       "5904  The Hong Kong University of Science and Techno...   \n",
       "5905  The Hong Kong University of Science and Techno...   \n",
       "5943                               University of Trento   \n",
       "5953                               University of Lisbon   \n",
       "\n",
       "                                            description  \\\n",
       "1     Businesses and governments rely on sound finan...   \n",
       "198   Brunel’s Master of Public Health (online) has ...   \n",
       "204   The program is designed to benefit students wi...   \n",
       "215   Materials science is at the forefront of provi...   \n",
       "239   This MSc keeps you at the cutting edge of deve...   \n",
       "...                                                 ...   \n",
       "5872  The programme provides the nurse with a broad-...   \n",
       "5904  The program offers advanced civil engineering ...   \n",
       "5905  The program is meant to meet the needs of prac...   \n",
       "5943  The two-year CIMeC Master’s in Cognitive Scien...   \n",
       "5953  The MSc in Economics aims to provide: The MSc ...   \n",
       "\n",
       "                                                    url  \n",
       "1     https://www.findamasters.com/masters-degrees/c...  \n",
       "198   https://www.findamasters.com/masters-degrees/c...  \n",
       "204   https://www.findamasters.com/masters-degrees/c...  \n",
       "215   https://www.findamasters.com/masters-degrees/c...  \n",
       "239   https://www.findamasters.com/masters-degrees/c...  \n",
       "...                                                 ...  \n",
       "5872  https://www.findamasters.com/masters-degrees/c...  \n",
       "5904  https://www.findamasters.com/masters-degrees/c...  \n",
       "5905  https://www.findamasters.com/masters-degrees/c...  \n",
       "5943  https://www.findamasters.com/masters-degrees/c...  \n",
       "5953  https://www.findamasters.com/masters-degrees/c...  \n",
       "\n",
       "[186 rows x 4 columns]"
      ]
     },
     "execution_count": 10,
     "metadata": {},
     "output_type": "execute_result"
    }
   ],
   "source": [
    "search_engine = SearchEngine(data_preprocesser.dataset)\n",
    "result = search_engine.query(\"advanced knowledge\")\n",
    "result\n"
   ]
  },
  {
   "cell_type": "code",
   "execution_count": 23,
   "metadata": {},
   "outputs": [
    {
     "data": {
      "text/html": [
       "<div>\n",
       "<style scoped>\n",
       "    .dataframe tbody tr th:only-of-type {\n",
       "        vertical-align: middle;\n",
       "    }\n",
       "\n",
       "    .dataframe tbody tr th {\n",
       "        vertical-align: top;\n",
       "    }\n",
       "\n",
       "    .dataframe thead th {\n",
       "        text-align: right;\n",
       "    }\n",
       "</style>\n",
       "<table border=\"1\" class=\"dataframe\">\n",
       "  <thead>\n",
       "    <tr style=\"text-align: right;\">\n",
       "      <th></th>\n",
       "      <th>courseName</th>\n",
       "      <th>universityName</th>\n",
       "      <th>description</th>\n",
       "      <th>url</th>\n",
       "      <th>similarity</th>\n",
       "    </tr>\n",
       "  </thead>\n",
       "  <tbody>\n",
       "    <tr>\n",
       "      <th>651</th>\n",
       "      <td>Advanced Clinical Practice - MSc</td>\n",
       "      <td>Canterbury Christ Church University</td>\n",
       "      <td>Gain the knowledge and skills needed to become...</td>\n",
       "      <td>https://www.findamasters.com/masters-degrees/c...</td>\n",
       "      <td>0.344516</td>\n",
       "    </tr>\n",
       "    <tr>\n",
       "      <th>5242</th>\n",
       "      <td>Management and Digital Business (with Advanced...</td>\n",
       "      <td>Liverpool John Moores University</td>\n",
       "      <td>This Advanced Practice course provides an in-d...</td>\n",
       "      <td>https://www.findamasters.com/masters-degrees/c...</td>\n",
       "      <td>0.342258</td>\n",
       "    </tr>\n",
       "    <tr>\n",
       "      <th>753</th>\n",
       "      <td>Advanced Computing MSc</td>\n",
       "      <td>King’s College London</td>\n",
       "      <td>Our Advanced Computing MSc provides knowledge ...</td>\n",
       "      <td>https://www.findamasters.com/masters-degrees/c...</td>\n",
       "      <td>0.335546</td>\n",
       "    </tr>\n",
       "    <tr>\n",
       "      <th>857</th>\n",
       "      <td>Advanced Nurse Practitioner/Professional Pract...</td>\n",
       "      <td>University of the Highlands and Islands</td>\n",
       "      <td>Developed in partnership with expert clinical ...</td>\n",
       "      <td>https://www.findamasters.com/masters-degrees/c...</td>\n",
       "      <td>0.304013</td>\n",
       "    </tr>\n",
       "    <tr>\n",
       "      <th>698</th>\n",
       "      <td>Advanced Clinical Practice MSc</td>\n",
       "      <td>University of Greenwich</td>\n",
       "      <td>Develop your skills and deepen your knowledge ...</td>\n",
       "      <td>https://www.findamasters.com/masters-degrees/c...</td>\n",
       "      <td>0.297118</td>\n",
       "    </tr>\n",
       "  </tbody>\n",
       "</table>\n",
       "</div>"
      ],
      "text/plain": [
       "                                             courseName  \\\n",
       "651                    Advanced Clinical Practice - MSc   \n",
       "5242  Management and Digital Business (with Advanced...   \n",
       "753                              Advanced Computing MSc   \n",
       "857   Advanced Nurse Practitioner/Professional Pract...   \n",
       "698                      Advanced Clinical Practice MSc   \n",
       "\n",
       "                               universityName  \\\n",
       "651       Canterbury Christ Church University   \n",
       "5242         Liverpool John Moores University   \n",
       "753                     King’s College London   \n",
       "857   University of the Highlands and Islands   \n",
       "698                   University of Greenwich   \n",
       "\n",
       "                                            description  \\\n",
       "651   Gain the knowledge and skills needed to become...   \n",
       "5242  This Advanced Practice course provides an in-d...   \n",
       "753   Our Advanced Computing MSc provides knowledge ...   \n",
       "857   Developed in partnership with expert clinical ...   \n",
       "698   Develop your skills and deepen your knowledge ...   \n",
       "\n",
       "                                                    url  similarity  \n",
       "651   https://www.findamasters.com/masters-degrees/c...    0.344516  \n",
       "5242  https://www.findamasters.com/masters-degrees/c...    0.342258  \n",
       "753   https://www.findamasters.com/masters-degrees/c...    0.335546  \n",
       "857   https://www.findamasters.com/masters-degrees/c...    0.304013  \n",
       "698   https://www.findamasters.com/masters-degrees/c...    0.297118  "
      ]
     },
     "execution_count": 23,
     "metadata": {},
     "output_type": "execute_result"
    }
   ],
   "source": [
    "search_engine = TopKSearchEngine(data_preprocesser.dataset)\n",
    "result = search_engine.query(\"advanced knowledge\")\n",
    "result\n"
   ]
  },
  {
   "cell_type": "code",
   "execution_count": 25,
   "metadata": {},
   "outputs": [],
   "source": [
    "df_city= list(data_preprocesser.dataset.iloc[[651, 5242, 753, 857, 698]][\"city\"])\n",
    "df_country= list(data_preprocesser.dataset.iloc[[651, 5242, 753, 857, 698]][\"country\"])\n",
    "df_fees= list(data_preprocesser.dataset.iloc[[651, 5242, 753, 857, 698]][\"fees\"])\n",
    "duration= list(data_preprocesser.dataset.iloc[[651, 5242, 753, 857, 698]][\"duration\"])\n",
    "faculty= list(data_preprocesser.dataset.iloc[[651, 5242, 753, 857, 698]][\"facultyName\"])\n"
   ]
  },
  {
   "cell_type": "code",
   "execution_count": 74,
   "metadata": {},
   "outputs": [
    {
     "data": {
      "text/plain": [
       "['Canterbury', 'Liverpool', 'London', 'Inverness', 'London']"
      ]
     },
     "execution_count": 74,
     "metadata": {},
     "output_type": "execute_result"
    }
   ],
   "source": [
    "df_result\n"
   ]
  },
  {
   "cell_type": "code",
   "execution_count": 28,
   "metadata": {},
   "outputs": [],
   "source": [
    "#Here we add to result dataframe its cities and countries, fees and duration\n",
    "result[\"city\"] = df_city\n",
    "result[\"country\"] = df_country\n",
    "result[\"fees\"] = df_fees\n",
    "result[\"duration\"] = duration\n",
    "result[\"facultyName\"] = faculty\n",
    "\n",
    "#Here we add also the full address\n",
    "result['Full_Address'] = result['facultyName'] + ',' + result['universityName'] + ',' + \\\n",
    "                result['city'] + ',' + \\\n",
    "                result['country']\n",
    "\n"
   ]
  },
  {
   "cell_type": "code",
   "execution_count": 29,
   "metadata": {},
   "outputs": [
    {
     "data": {
      "text/html": [
       "<div>\n",
       "<style scoped>\n",
       "    .dataframe tbody tr th:only-of-type {\n",
       "        vertical-align: middle;\n",
       "    }\n",
       "\n",
       "    .dataframe tbody tr th {\n",
       "        vertical-align: top;\n",
       "    }\n",
       "\n",
       "    .dataframe thead th {\n",
       "        text-align: right;\n",
       "    }\n",
       "</style>\n",
       "<table border=\"1\" class=\"dataframe\">\n",
       "  <thead>\n",
       "    <tr style=\"text-align: right;\">\n",
       "      <th></th>\n",
       "      <th>courseName</th>\n",
       "      <th>universityName</th>\n",
       "      <th>description</th>\n",
       "      <th>url</th>\n",
       "      <th>similarity</th>\n",
       "      <th>city</th>\n",
       "      <th>country</th>\n",
       "      <th>fees</th>\n",
       "      <th>duration</th>\n",
       "      <th>facultyName</th>\n",
       "      <th>Full_Address</th>\n",
       "    </tr>\n",
       "  </thead>\n",
       "  <tbody>\n",
       "    <tr>\n",
       "      <th>651</th>\n",
       "      <td>Advanced Clinical Practice - MSc</td>\n",
       "      <td>Canterbury Christ Church University</td>\n",
       "      <td>Gain the knowledge and skills needed to become...</td>\n",
       "      <td>https://www.findamasters.com/masters-degrees/c...</td>\n",
       "      <td>0.344516</td>\n",
       "      <td>Canterbury</td>\n",
       "      <td>United Kingdom</td>\n",
       "      <td>UK Part time - £915 or £1,580 per 20 credit mo...</td>\n",
       "      <td>2 or 3 years part time</td>\n",
       "      <td>Faculty of Medicine, Health and Social Care</td>\n",
       "      <td>Faculty of Medicine, Health and Social Care,Ca...</td>\n",
       "    </tr>\n",
       "    <tr>\n",
       "      <th>5242</th>\n",
       "      <td>Management and Digital Business (with Advanced...</td>\n",
       "      <td>Liverpool John Moores University</td>\n",
       "      <td>This Advanced Practice course provides an in-d...</td>\n",
       "      <td>https://www.findamasters.com/masters-degrees/c...</td>\n",
       "      <td>0.342258</td>\n",
       "      <td>Liverpool</td>\n",
       "      <td>United Kingdom</td>\n",
       "      <td>Please see the university website for further ...</td>\n",
       "      <td>See course dates on website</td>\n",
       "      <td>Faculty of Business and Law</td>\n",
       "      <td>Faculty of Business and Law,Liverpool John Moo...</td>\n",
       "    </tr>\n",
       "    <tr>\n",
       "      <th>753</th>\n",
       "      <td>Advanced Computing MSc</td>\n",
       "      <td>King’s College London</td>\n",
       "      <td>Our Advanced Computing MSc provides knowledge ...</td>\n",
       "      <td>https://www.findamasters.com/masters-degrees/c...</td>\n",
       "      <td>0.335546</td>\n",
       "      <td>London</td>\n",
       "      <td>United Kingdom</td>\n",
       "      <td>Please see the university website for further ...</td>\n",
       "      <td>Full-time: One year</td>\n",
       "      <td>Faculty of Natural and Mathematical Sciences</td>\n",
       "      <td>Faculty of Natural and Mathematical Sciences,K...</td>\n",
       "    </tr>\n",
       "    <tr>\n",
       "      <th>857</th>\n",
       "      <td>Advanced Nurse Practitioner/Professional Pract...</td>\n",
       "      <td>University of the Highlands and Islands</td>\n",
       "      <td>Developed in partnership with expert clinical ...</td>\n",
       "      <td>https://www.findamasters.com/masters-degrees/c...</td>\n",
       "      <td>0.304013</td>\n",
       "      <td>Inverness</td>\n",
       "      <td>United Kingdom</td>\n",
       "      <td>Please see the university website for further ...</td>\n",
       "      <td>1 year part time PGCert, 2 years part time PGD...</td>\n",
       "      <td>Science, Health and Engineering</td>\n",
       "      <td>Science, Health and Engineering,University of ...</td>\n",
       "    </tr>\n",
       "    <tr>\n",
       "      <th>698</th>\n",
       "      <td>Advanced Clinical Practice MSc</td>\n",
       "      <td>University of Greenwich</td>\n",
       "      <td>Develop your skills and deepen your knowledge ...</td>\n",
       "      <td>https://www.findamasters.com/masters-degrees/c...</td>\n",
       "      <td>0.297118</td>\n",
       "      <td>London</td>\n",
       "      <td>United Kingdom</td>\n",
       "      <td>Please see the university website for further ...</td>\n",
       "      <td>3 years</td>\n",
       "      <td>School of Health Sciences</td>\n",
       "      <td>School of Health Sciences,University of Greenw...</td>\n",
       "    </tr>\n",
       "  </tbody>\n",
       "</table>\n",
       "</div>"
      ],
      "text/plain": [
       "                                             courseName  \\\n",
       "651                    Advanced Clinical Practice - MSc   \n",
       "5242  Management and Digital Business (with Advanced...   \n",
       "753                              Advanced Computing MSc   \n",
       "857   Advanced Nurse Practitioner/Professional Pract...   \n",
       "698                      Advanced Clinical Practice MSc   \n",
       "\n",
       "                               universityName  \\\n",
       "651       Canterbury Christ Church University   \n",
       "5242         Liverpool John Moores University   \n",
       "753                     King’s College London   \n",
       "857   University of the Highlands and Islands   \n",
       "698                   University of Greenwich   \n",
       "\n",
       "                                            description  \\\n",
       "651   Gain the knowledge and skills needed to become...   \n",
       "5242  This Advanced Practice course provides an in-d...   \n",
       "753   Our Advanced Computing MSc provides knowledge ...   \n",
       "857   Developed in partnership with expert clinical ...   \n",
       "698   Develop your skills and deepen your knowledge ...   \n",
       "\n",
       "                                                    url  similarity  \\\n",
       "651   https://www.findamasters.com/masters-degrees/c...    0.344516   \n",
       "5242  https://www.findamasters.com/masters-degrees/c...    0.342258   \n",
       "753   https://www.findamasters.com/masters-degrees/c...    0.335546   \n",
       "857   https://www.findamasters.com/masters-degrees/c...    0.304013   \n",
       "698   https://www.findamasters.com/masters-degrees/c...    0.297118   \n",
       "\n",
       "            city         country  \\\n",
       "651   Canterbury  United Kingdom   \n",
       "5242   Liverpool  United Kingdom   \n",
       "753       London  United Kingdom   \n",
       "857    Inverness  United Kingdom   \n",
       "698       London  United Kingdom   \n",
       "\n",
       "                                                   fees  \\\n",
       "651   UK Part time - £915 or £1,580 per 20 credit mo...   \n",
       "5242  Please see the university website for further ...   \n",
       "753   Please see the university website for further ...   \n",
       "857   Please see the university website for further ...   \n",
       "698   Please see the university website for further ...   \n",
       "\n",
       "                                               duration  \\\n",
       "651                              2 or 3 years part time   \n",
       "5242                        See course dates on website   \n",
       "753                                 Full-time: One year   \n",
       "857   1 year part time PGCert, 2 years part time PGD...   \n",
       "698                                             3 years   \n",
       "\n",
       "                                       facultyName  \\\n",
       "651    Faculty of Medicine, Health and Social Care   \n",
       "5242                   Faculty of Business and Law   \n",
       "753   Faculty of Natural and Mathematical Sciences   \n",
       "857                Science, Health and Engineering   \n",
       "698                      School of Health Sciences   \n",
       "\n",
       "                                           Full_Address  \n",
       "651   Faculty of Medicine, Health and Social Care,Ca...  \n",
       "5242  Faculty of Business and Law,Liverpool John Moo...  \n",
       "753   Faculty of Natural and Mathematical Sciences,K...  \n",
       "857   Science, Health and Engineering,University of ...  \n",
       "698   School of Health Sciences,University of Greenw...  "
      ]
     },
     "execution_count": 29,
     "metadata": {},
     "output_type": "execute_result"
    }
   ],
   "source": [
    "result\n"
   ]
  },
  {
   "cell_type": "code",
   "execution_count": 30,
   "metadata": {},
   "outputs": [],
   "source": [
    "import googlemaps\n",
    "import os\n",
    "\n",
    "#Here we get the API key from the environment variable\n",
    "API_KEY = os.environ['GOOGLE_API_KEY']\n",
    "\n",
    "#Here we initialize the Google Maps API client\n",
    "gmaps = googlemaps.Client(key=API_KEY)\n",
    "\n",
    "result[\"lat\"] = result[\"Full_Address\"].apply(lambda x: gmaps.geocode(x)[0][\"geometry\"][\"location\"][\"lat\"])\n",
    "result[\"lng\"] = result[\"Full_Address\"].apply(lambda x: gmaps.geocode(x)[0][\"geometry\"][\"location\"][\"lng\"])\n",
    "\n",
    "\n",
    "\n"
   ]
  },
  {
   "cell_type": "code",
   "execution_count": 31,
   "metadata": {},
   "outputs": [
    {
     "data": {
      "text/html": [
       "<div>\n",
       "<style scoped>\n",
       "    .dataframe tbody tr th:only-of-type {\n",
       "        vertical-align: middle;\n",
       "    }\n",
       "\n",
       "    .dataframe tbody tr th {\n",
       "        vertical-align: top;\n",
       "    }\n",
       "\n",
       "    .dataframe thead th {\n",
       "        text-align: right;\n",
       "    }\n",
       "</style>\n",
       "<table border=\"1\" class=\"dataframe\">\n",
       "  <thead>\n",
       "    <tr style=\"text-align: right;\">\n",
       "      <th></th>\n",
       "      <th>courseName</th>\n",
       "      <th>universityName</th>\n",
       "      <th>description</th>\n",
       "      <th>url</th>\n",
       "      <th>similarity</th>\n",
       "      <th>city</th>\n",
       "      <th>country</th>\n",
       "      <th>fees</th>\n",
       "      <th>duration</th>\n",
       "      <th>facultyName</th>\n",
       "      <th>Full_Address</th>\n",
       "      <th>lat</th>\n",
       "      <th>lng</th>\n",
       "    </tr>\n",
       "  </thead>\n",
       "  <tbody>\n",
       "    <tr>\n",
       "      <th>651</th>\n",
       "      <td>Advanced Clinical Practice - MSc</td>\n",
       "      <td>Canterbury Christ Church University</td>\n",
       "      <td>Gain the knowledge and skills needed to become...</td>\n",
       "      <td>https://www.findamasters.com/masters-degrees/c...</td>\n",
       "      <td>0.344516</td>\n",
       "      <td>Canterbury</td>\n",
       "      <td>United Kingdom</td>\n",
       "      <td>UK Part time - £915 or £1,580 per 20 credit mo...</td>\n",
       "      <td>2 or 3 years part time</td>\n",
       "      <td>Faculty of Medicine, Health and Social Care</td>\n",
       "      <td>Faculty of Medicine, Health and Social Care,Ca...</td>\n",
       "      <td>51.279496</td>\n",
       "      <td>1.089876</td>\n",
       "    </tr>\n",
       "    <tr>\n",
       "      <th>5242</th>\n",
       "      <td>Management and Digital Business (with Advanced...</td>\n",
       "      <td>Liverpool John Moores University</td>\n",
       "      <td>This Advanced Practice course provides an in-d...</td>\n",
       "      <td>https://www.findamasters.com/masters-degrees/c...</td>\n",
       "      <td>0.342258</td>\n",
       "      <td>Liverpool</td>\n",
       "      <td>United Kingdom</td>\n",
       "      <td>Please see the university website for further ...</td>\n",
       "      <td>See course dates on website</td>\n",
       "      <td>Faculty of Business and Law</td>\n",
       "      <td>Faculty of Business and Law,Liverpool John Moo...</td>\n",
       "      <td>53.403288</td>\n",
       "      <td>-2.973098</td>\n",
       "    </tr>\n",
       "    <tr>\n",
       "      <th>753</th>\n",
       "      <td>Advanced Computing MSc</td>\n",
       "      <td>King’s College London</td>\n",
       "      <td>Our Advanced Computing MSc provides knowledge ...</td>\n",
       "      <td>https://www.findamasters.com/masters-degrees/c...</td>\n",
       "      <td>0.335546</td>\n",
       "      <td>London</td>\n",
       "      <td>United Kingdom</td>\n",
       "      <td>Please see the university website for further ...</td>\n",
       "      <td>Full-time: One year</td>\n",
       "      <td>Faculty of Natural and Mathematical Sciences</td>\n",
       "      <td>Faculty of Natural and Mathematical Sciences,K...</td>\n",
       "      <td>51.469949</td>\n",
       "      <td>-0.089087</td>\n",
       "    </tr>\n",
       "    <tr>\n",
       "      <th>857</th>\n",
       "      <td>Advanced Nurse Practitioner/Professional Pract...</td>\n",
       "      <td>University of the Highlands and Islands</td>\n",
       "      <td>Developed in partnership with expert clinical ...</td>\n",
       "      <td>https://www.findamasters.com/masters-degrees/c...</td>\n",
       "      <td>0.304013</td>\n",
       "      <td>Inverness</td>\n",
       "      <td>United Kingdom</td>\n",
       "      <td>Please see the university website for further ...</td>\n",
       "      <td>1 year part time PGCert, 2 years part time PGD...</td>\n",
       "      <td>Science, Health and Engineering</td>\n",
       "      <td>Science, Health and Engineering,University of ...</td>\n",
       "      <td>57.471014</td>\n",
       "      <td>-4.230628</td>\n",
       "    </tr>\n",
       "    <tr>\n",
       "      <th>698</th>\n",
       "      <td>Advanced Clinical Practice MSc</td>\n",
       "      <td>University of Greenwich</td>\n",
       "      <td>Develop your skills and deepen your knowledge ...</td>\n",
       "      <td>https://www.findamasters.com/masters-degrees/c...</td>\n",
       "      <td>0.297118</td>\n",
       "      <td>London</td>\n",
       "      <td>United Kingdom</td>\n",
       "      <td>Please see the university website for further ...</td>\n",
       "      <td>3 years</td>\n",
       "      <td>School of Health Sciences</td>\n",
       "      <td>School of Health Sciences,University of Greenw...</td>\n",
       "      <td>51.518173</td>\n",
       "      <td>-0.099507</td>\n",
       "    </tr>\n",
       "  </tbody>\n",
       "</table>\n",
       "</div>"
      ],
      "text/plain": [
       "                                             courseName  \\\n",
       "651                    Advanced Clinical Practice - MSc   \n",
       "5242  Management and Digital Business (with Advanced...   \n",
       "753                              Advanced Computing MSc   \n",
       "857   Advanced Nurse Practitioner/Professional Pract...   \n",
       "698                      Advanced Clinical Practice MSc   \n",
       "\n",
       "                               universityName  \\\n",
       "651       Canterbury Christ Church University   \n",
       "5242         Liverpool John Moores University   \n",
       "753                     King’s College London   \n",
       "857   University of the Highlands and Islands   \n",
       "698                   University of Greenwich   \n",
       "\n",
       "                                            description  \\\n",
       "651   Gain the knowledge and skills needed to become...   \n",
       "5242  This Advanced Practice course provides an in-d...   \n",
       "753   Our Advanced Computing MSc provides knowledge ...   \n",
       "857   Developed in partnership with expert clinical ...   \n",
       "698   Develop your skills and deepen your knowledge ...   \n",
       "\n",
       "                                                    url  similarity  \\\n",
       "651   https://www.findamasters.com/masters-degrees/c...    0.344516   \n",
       "5242  https://www.findamasters.com/masters-degrees/c...    0.342258   \n",
       "753   https://www.findamasters.com/masters-degrees/c...    0.335546   \n",
       "857   https://www.findamasters.com/masters-degrees/c...    0.304013   \n",
       "698   https://www.findamasters.com/masters-degrees/c...    0.297118   \n",
       "\n",
       "            city         country  \\\n",
       "651   Canterbury  United Kingdom   \n",
       "5242   Liverpool  United Kingdom   \n",
       "753       London  United Kingdom   \n",
       "857    Inverness  United Kingdom   \n",
       "698       London  United Kingdom   \n",
       "\n",
       "                                                   fees  \\\n",
       "651   UK Part time - £915 or £1,580 per 20 credit mo...   \n",
       "5242  Please see the university website for further ...   \n",
       "753   Please see the university website for further ...   \n",
       "857   Please see the university website for further ...   \n",
       "698   Please see the university website for further ...   \n",
       "\n",
       "                                               duration  \\\n",
       "651                              2 or 3 years part time   \n",
       "5242                        See course dates on website   \n",
       "753                                 Full-time: One year   \n",
       "857   1 year part time PGCert, 2 years part time PGD...   \n",
       "698                                             3 years   \n",
       "\n",
       "                                       facultyName  \\\n",
       "651    Faculty of Medicine, Health and Social Care   \n",
       "5242                   Faculty of Business and Law   \n",
       "753   Faculty of Natural and Mathematical Sciences   \n",
       "857                Science, Health and Engineering   \n",
       "698                      School of Health Sciences   \n",
       "\n",
       "                                           Full_Address        lat       lng  \n",
       "651   Faculty of Medicine, Health and Social Care,Ca...  51.279496  1.089876  \n",
       "5242  Faculty of Business and Law,Liverpool John Moo...  53.403288 -2.973098  \n",
       "753   Faculty of Natural and Mathematical Sciences,K...  51.469949 -0.089087  \n",
       "857   Science, Health and Engineering,University of ...  57.471014 -4.230628  \n",
       "698   School of Health Sciences,University of Greenw...  51.518173 -0.099507  "
      ]
     },
     "execution_count": 31,
     "metadata": {},
     "output_type": "execute_result"
    }
   ],
   "source": [
    "result\n"
   ]
  },
  {
   "cell_type": "code",
   "execution_count": 114,
   "metadata": {},
   "outputs": [
    {
     "data": {
      "application/vnd.plotly.v1+json": {
       "config": {
        "plotlyServerURL": "https://plot.ly"
       },
       "data": [
        {
         "customdata": [
          [
           "Canterbury Christ Church University",
           "Faculty of Medicine, Health and Social Care",
           "UK Part time - £915 or £1,580 per 20 credit module  Overseas Part time - £1,610 per 20 credit module",
           "2 or 3 years part time"
          ],
          [
           "Liverpool John Moores University",
           "Faculty of Business and Law",
           "Please see the university website for further information on fees for this course.",
           "See course dates on website"
          ],
          [
           "King’s College London",
           "Faculty of Natural and Mathematical Sciences",
           "Please see the university website for further information on fees for this course.",
           "Full-time: One year"
          ],
          [
           "University of the Highlands and Islands",
           "Science, Health and Engineering",
           "Please see the university website for further information on fees for this course.",
           "1 year part time PGCert, 2 years part time PGDip, 3 years part time MSc"
          ],
          [
           "University of Greenwich",
           "School of Health Sciences",
           "Please see the university website for further information on fees for this course.",
           "3 years"
          ]
         ],
         "hovertemplate": "%{hovertext}<br>University: %{customdata[0]}<br>Faculty: %{customdata[1]}<br>Fees: %{customdata[2]}<br>Duration: %{customdata[3]}",
         "hovertext": [
          "Advanced Clinical Practice - MSc",
          "Management and Digital Business (with Advanced Practice) MSc",
          "Advanced Computing MSc",
          "Advanced Nurse Practitioner/Professional Practice MSc",
          "Advanced Clinical Practice MSc"
         ],
         "lat": [
          51.27949599999999,
          53.4032879,
          51.4699486,
          57.47101379999999,
          51.5181731
         ],
         "legendgroup": "",
         "lon": [
          1.0898758,
          -2.9730985,
          -0.0890873,
          -4.2306276,
          -0.09950729999999999
         ],
         "marker": {
          "color": [
           0.3445161554104288,
           0.3422579643201441,
           0.3355456761602344,
           0.3040130118000648,
           0.29711789673792977
          ],
          "coloraxis": "coloraxis",
          "opacity": 0.7,
          "size": [
           0.3445161554104288,
           0.3422579643201441,
           0.3355456761602344,
           0.3040130118000648,
           0.29711789673792977
          ],
          "sizemode": "area",
          "sizeref": 0.000861290388526072
         },
         "mode": "markers",
         "name": "",
         "showlegend": false,
         "subplot": "mapbox",
         "type": "scattermapbox"
        }
       ],
       "layout": {
        "coloraxis": {
         "colorbar": {
          "orientation": "v",
          "title": {
           "text": "Similarity"
          },
          "x": 0,
          "y": 0.5
         },
         "colorscale": [
          [
           0,
           "#313131"
          ],
          [
           0.0625,
           "#3d019d"
          ],
          [
           0.125,
           "#3810dc"
          ],
          [
           0.1875,
           "#2d47f9"
          ],
          [
           0.25,
           "#2593ff"
          ],
          [
           0.3125,
           "#2adef6"
          ],
          [
           0.375,
           "#60fdfa"
          ],
          [
           0.4375,
           "#aefdff"
          ],
          [
           0.5,
           "#f3f3f1"
          ],
          [
           0.5625,
           "#fffda9"
          ],
          [
           0.625,
           "#fafd5b"
          ],
          [
           0.6875,
           "#f7da29"
          ],
          [
           0.75,
           "#ff8e25"
          ],
          [
           0.8125,
           "#f8432d"
          ],
          [
           0.875,
           "#d90d39"
          ],
          [
           0.9375,
           "#97023d"
          ],
          [
           1,
           "#313131"
          ]
         ]
        },
        "hovermode": "closest",
        "legend": {
         "itemsizing": "constant",
         "tracegroupgap": 0
        },
        "mapbox": {
         "center": {
          "lat": 53.02838387999999,
          "lon": -1.26048898
         },
         "domain": {
          "x": [
           0,
           1
          ],
          "y": [
           0,
           1
          ]
         },
         "style": "open-street-map",
         "zoom": 4
        },
        "margin": {
         "b": 0,
         "l": 0,
         "r": 0,
         "t": 0
        },
        "template": {
         "data": {
          "bar": [
           {
            "error_x": {
             "color": "#2a3f5f"
            },
            "error_y": {
             "color": "#2a3f5f"
            },
            "marker": {
             "line": {
              "color": "#E5ECF6",
              "width": 0.5
             },
             "pattern": {
              "fillmode": "overlay",
              "size": 10,
              "solidity": 0.2
             }
            },
            "type": "bar"
           }
          ],
          "barpolar": [
           {
            "marker": {
             "line": {
              "color": "#E5ECF6",
              "width": 0.5
             },
             "pattern": {
              "fillmode": "overlay",
              "size": 10,
              "solidity": 0.2
             }
            },
            "type": "barpolar"
           }
          ],
          "carpet": [
           {
            "aaxis": {
             "endlinecolor": "#2a3f5f",
             "gridcolor": "white",
             "linecolor": "white",
             "minorgridcolor": "white",
             "startlinecolor": "#2a3f5f"
            },
            "baxis": {
             "endlinecolor": "#2a3f5f",
             "gridcolor": "white",
             "linecolor": "white",
             "minorgridcolor": "white",
             "startlinecolor": "#2a3f5f"
            },
            "type": "carpet"
           }
          ],
          "choropleth": [
           {
            "colorbar": {
             "outlinewidth": 0,
             "ticks": ""
            },
            "type": "choropleth"
           }
          ],
          "contour": [
           {
            "colorbar": {
             "outlinewidth": 0,
             "ticks": ""
            },
            "colorscale": [
             [
              0,
              "#0d0887"
             ],
             [
              0.1111111111111111,
              "#46039f"
             ],
             [
              0.2222222222222222,
              "#7201a8"
             ],
             [
              0.3333333333333333,
              "#9c179e"
             ],
             [
              0.4444444444444444,
              "#bd3786"
             ],
             [
              0.5555555555555556,
              "#d8576b"
             ],
             [
              0.6666666666666666,
              "#ed7953"
             ],
             [
              0.7777777777777778,
              "#fb9f3a"
             ],
             [
              0.8888888888888888,
              "#fdca26"
             ],
             [
              1,
              "#f0f921"
             ]
            ],
            "type": "contour"
           }
          ],
          "contourcarpet": [
           {
            "colorbar": {
             "outlinewidth": 0,
             "ticks": ""
            },
            "type": "contourcarpet"
           }
          ],
          "heatmap": [
           {
            "colorbar": {
             "outlinewidth": 0,
             "ticks": ""
            },
            "colorscale": [
             [
              0,
              "#0d0887"
             ],
             [
              0.1111111111111111,
              "#46039f"
             ],
             [
              0.2222222222222222,
              "#7201a8"
             ],
             [
              0.3333333333333333,
              "#9c179e"
             ],
             [
              0.4444444444444444,
              "#bd3786"
             ],
             [
              0.5555555555555556,
              "#d8576b"
             ],
             [
              0.6666666666666666,
              "#ed7953"
             ],
             [
              0.7777777777777778,
              "#fb9f3a"
             ],
             [
              0.8888888888888888,
              "#fdca26"
             ],
             [
              1,
              "#f0f921"
             ]
            ],
            "type": "heatmap"
           }
          ],
          "heatmapgl": [
           {
            "colorbar": {
             "outlinewidth": 0,
             "ticks": ""
            },
            "colorscale": [
             [
              0,
              "#0d0887"
             ],
             [
              0.1111111111111111,
              "#46039f"
             ],
             [
              0.2222222222222222,
              "#7201a8"
             ],
             [
              0.3333333333333333,
              "#9c179e"
             ],
             [
              0.4444444444444444,
              "#bd3786"
             ],
             [
              0.5555555555555556,
              "#d8576b"
             ],
             [
              0.6666666666666666,
              "#ed7953"
             ],
             [
              0.7777777777777778,
              "#fb9f3a"
             ],
             [
              0.8888888888888888,
              "#fdca26"
             ],
             [
              1,
              "#f0f921"
             ]
            ],
            "type": "heatmapgl"
           }
          ],
          "histogram": [
           {
            "marker": {
             "pattern": {
              "fillmode": "overlay",
              "size": 10,
              "solidity": 0.2
             }
            },
            "type": "histogram"
           }
          ],
          "histogram2d": [
           {
            "colorbar": {
             "outlinewidth": 0,
             "ticks": ""
            },
            "colorscale": [
             [
              0,
              "#0d0887"
             ],
             [
              0.1111111111111111,
              "#46039f"
             ],
             [
              0.2222222222222222,
              "#7201a8"
             ],
             [
              0.3333333333333333,
              "#9c179e"
             ],
             [
              0.4444444444444444,
              "#bd3786"
             ],
             [
              0.5555555555555556,
              "#d8576b"
             ],
             [
              0.6666666666666666,
              "#ed7953"
             ],
             [
              0.7777777777777778,
              "#fb9f3a"
             ],
             [
              0.8888888888888888,
              "#fdca26"
             ],
             [
              1,
              "#f0f921"
             ]
            ],
            "type": "histogram2d"
           }
          ],
          "histogram2dcontour": [
           {
            "colorbar": {
             "outlinewidth": 0,
             "ticks": ""
            },
            "colorscale": [
             [
              0,
              "#0d0887"
             ],
             [
              0.1111111111111111,
              "#46039f"
             ],
             [
              0.2222222222222222,
              "#7201a8"
             ],
             [
              0.3333333333333333,
              "#9c179e"
             ],
             [
              0.4444444444444444,
              "#bd3786"
             ],
             [
              0.5555555555555556,
              "#d8576b"
             ],
             [
              0.6666666666666666,
              "#ed7953"
             ],
             [
              0.7777777777777778,
              "#fb9f3a"
             ],
             [
              0.8888888888888888,
              "#fdca26"
             ],
             [
              1,
              "#f0f921"
             ]
            ],
            "type": "histogram2dcontour"
           }
          ],
          "mesh3d": [
           {
            "colorbar": {
             "outlinewidth": 0,
             "ticks": ""
            },
            "type": "mesh3d"
           }
          ],
          "parcoords": [
           {
            "line": {
             "colorbar": {
              "outlinewidth": 0,
              "ticks": ""
             }
            },
            "type": "parcoords"
           }
          ],
          "pie": [
           {
            "automargin": true,
            "type": "pie"
           }
          ],
          "scatter": [
           {
            "fillpattern": {
             "fillmode": "overlay",
             "size": 10,
             "solidity": 0.2
            },
            "type": "scatter"
           }
          ],
          "scatter3d": [
           {
            "line": {
             "colorbar": {
              "outlinewidth": 0,
              "ticks": ""
             }
            },
            "marker": {
             "colorbar": {
              "outlinewidth": 0,
              "ticks": ""
             }
            },
            "type": "scatter3d"
           }
          ],
          "scattercarpet": [
           {
            "marker": {
             "colorbar": {
              "outlinewidth": 0,
              "ticks": ""
             }
            },
            "type": "scattercarpet"
           }
          ],
          "scattergeo": [
           {
            "marker": {
             "colorbar": {
              "outlinewidth": 0,
              "ticks": ""
             }
            },
            "type": "scattergeo"
           }
          ],
          "scattergl": [
           {
            "marker": {
             "colorbar": {
              "outlinewidth": 0,
              "ticks": ""
             }
            },
            "type": "scattergl"
           }
          ],
          "scattermapbox": [
           {
            "marker": {
             "colorbar": {
              "outlinewidth": 0,
              "ticks": ""
             }
            },
            "type": "scattermapbox"
           }
          ],
          "scatterpolar": [
           {
            "marker": {
             "colorbar": {
              "outlinewidth": 0,
              "ticks": ""
             }
            },
            "type": "scatterpolar"
           }
          ],
          "scatterpolargl": [
           {
            "marker": {
             "colorbar": {
              "outlinewidth": 0,
              "ticks": ""
             }
            },
            "type": "scatterpolargl"
           }
          ],
          "scatterternary": [
           {
            "marker": {
             "colorbar": {
              "outlinewidth": 0,
              "ticks": ""
             }
            },
            "type": "scatterternary"
           }
          ],
          "surface": [
           {
            "colorbar": {
             "outlinewidth": 0,
             "ticks": ""
            },
            "colorscale": [
             [
              0,
              "#0d0887"
             ],
             [
              0.1111111111111111,
              "#46039f"
             ],
             [
              0.2222222222222222,
              "#7201a8"
             ],
             [
              0.3333333333333333,
              "#9c179e"
             ],
             [
              0.4444444444444444,
              "#bd3786"
             ],
             [
              0.5555555555555556,
              "#d8576b"
             ],
             [
              0.6666666666666666,
              "#ed7953"
             ],
             [
              0.7777777777777778,
              "#fb9f3a"
             ],
             [
              0.8888888888888888,
              "#fdca26"
             ],
             [
              1,
              "#f0f921"
             ]
            ],
            "type": "surface"
           }
          ],
          "table": [
           {
            "cells": {
             "fill": {
              "color": "#EBF0F8"
             },
             "line": {
              "color": "white"
             }
            },
            "header": {
             "fill": {
              "color": "#C8D4E3"
             },
             "line": {
              "color": "white"
             }
            },
            "type": "table"
           }
          ]
         },
         "layout": {
          "annotationdefaults": {
           "arrowcolor": "#2a3f5f",
           "arrowhead": 0,
           "arrowwidth": 1
          },
          "autotypenumbers": "strict",
          "coloraxis": {
           "colorbar": {
            "outlinewidth": 0,
            "ticks": ""
           }
          },
          "colorscale": {
           "diverging": [
            [
             0,
             "#8e0152"
            ],
            [
             0.1,
             "#c51b7d"
            ],
            [
             0.2,
             "#de77ae"
            ],
            [
             0.3,
             "#f1b6da"
            ],
            [
             0.4,
             "#fde0ef"
            ],
            [
             0.5,
             "#f7f7f7"
            ],
            [
             0.6,
             "#e6f5d0"
            ],
            [
             0.7,
             "#b8e186"
            ],
            [
             0.8,
             "#7fbc41"
            ],
            [
             0.9,
             "#4d9221"
            ],
            [
             1,
             "#276419"
            ]
           ],
           "sequential": [
            [
             0,
             "#0d0887"
            ],
            [
             0.1111111111111111,
             "#46039f"
            ],
            [
             0.2222222222222222,
             "#7201a8"
            ],
            [
             0.3333333333333333,
             "#9c179e"
            ],
            [
             0.4444444444444444,
             "#bd3786"
            ],
            [
             0.5555555555555556,
             "#d8576b"
            ],
            [
             0.6666666666666666,
             "#ed7953"
            ],
            [
             0.7777777777777778,
             "#fb9f3a"
            ],
            [
             0.8888888888888888,
             "#fdca26"
            ],
            [
             1,
             "#f0f921"
            ]
           ],
           "sequentialminus": [
            [
             0,
             "#0d0887"
            ],
            [
             0.1111111111111111,
             "#46039f"
            ],
            [
             0.2222222222222222,
             "#7201a8"
            ],
            [
             0.3333333333333333,
             "#9c179e"
            ],
            [
             0.4444444444444444,
             "#bd3786"
            ],
            [
             0.5555555555555556,
             "#d8576b"
            ],
            [
             0.6666666666666666,
             "#ed7953"
            ],
            [
             0.7777777777777778,
             "#fb9f3a"
            ],
            [
             0.8888888888888888,
             "#fdca26"
            ],
            [
             1,
             "#f0f921"
            ]
           ]
          },
          "colorway": [
           "#636efa",
           "#EF553B",
           "#00cc96",
           "#ab63fa",
           "#FFA15A",
           "#19d3f3",
           "#FF6692",
           "#B6E880",
           "#FF97FF",
           "#FECB52"
          ],
          "font": {
           "color": "#2a3f5f"
          },
          "geo": {
           "bgcolor": "white",
           "lakecolor": "white",
           "landcolor": "#E5ECF6",
           "showlakes": true,
           "showland": true,
           "subunitcolor": "white"
          },
          "hoverlabel": {
           "align": "left"
          },
          "hovermode": "closest",
          "mapbox": {
           "style": "light"
          },
          "paper_bgcolor": "white",
          "plot_bgcolor": "#E5ECF6",
          "polar": {
           "angularaxis": {
            "gridcolor": "white",
            "linecolor": "white",
            "ticks": ""
           },
           "bgcolor": "#E5ECF6",
           "radialaxis": {
            "gridcolor": "white",
            "linecolor": "white",
            "ticks": ""
           }
          },
          "scene": {
           "xaxis": {
            "backgroundcolor": "#E5ECF6",
            "gridcolor": "white",
            "gridwidth": 2,
            "linecolor": "white",
            "showbackground": true,
            "ticks": "",
            "zerolinecolor": "white"
           },
           "yaxis": {
            "backgroundcolor": "#E5ECF6",
            "gridcolor": "white",
            "gridwidth": 2,
            "linecolor": "white",
            "showbackground": true,
            "ticks": "",
            "zerolinecolor": "white"
           },
           "zaxis": {
            "backgroundcolor": "#E5ECF6",
            "gridcolor": "white",
            "gridwidth": 2,
            "linecolor": "white",
            "showbackground": true,
            "ticks": "",
            "zerolinecolor": "white"
           }
          },
          "shapedefaults": {
           "line": {
            "color": "#2a3f5f"
           }
          },
          "ternary": {
           "aaxis": {
            "gridcolor": "white",
            "linecolor": "white",
            "ticks": ""
           },
           "baxis": {
            "gridcolor": "white",
            "linecolor": "white",
            "ticks": ""
           },
           "bgcolor": "#E5ECF6",
           "caxis": {
            "gridcolor": "white",
            "linecolor": "white",
            "ticks": ""
           }
          },
          "title": {
           "x": 0.05
          },
          "xaxis": {
           "automargin": true,
           "gridcolor": "white",
           "linecolor": "white",
           "ticks": "",
           "title": {
            "standoff": 15
           },
           "zerolinecolor": "white",
           "zerolinewidth": 2
          },
          "yaxis": {
           "automargin": true,
           "gridcolor": "white",
           "linecolor": "white",
           "ticks": "",
           "title": {
            "standoff": 15
           },
           "zerolinecolor": "white",
           "zerolinewidth": 2
          }
         }
        }
       }
      }
     },
     "metadata": {},
     "output_type": "display_data"
    }
   ],
   "source": [
    "import plotly.express as px\n",
    "\n",
    "#Here we plot the map\n",
    "fig = px.scatter_mapbox(\n",
    "    result,\n",
    "    lat=\"lat\",\n",
    "    lon=\"lng\",\n",
    "    hover_name=\"courseName\",\n",
    "    size=\"similarity\",\n",
    "    color=\"similarity\",\n",
    "    opacity=0.7,\n",
    "    color_continuous_scale=px.colors.cyclical.Edge,\n",
    "    hover_data=[\"universityName\", \"facultyName\", \"fees\", \"duration\"],\n",
    ")\n",
    "\n",
    "fig.update_layout(mapbox={\"style\": \"open-street-map\", \"zoom\": 4}, margin={\"t\":0,\"b\":0,\"l\":0,\"r\":0}, hovermode='closest', coloraxis_colorbar={\"title\":\"Similarity\", \"x\":0, \"y\":0.5, \"orientation\":\"v\"})\n",
    "\n",
    "fig.update_traces(hovertemplate=\"<br>\".join([\n",
    "    \"%{hovertext}\",\n",
    "    \"University: %{customdata[0]}\",\n",
    "    \"Faculty: %{customdata[1]}\",\n",
    "    \"Fees: %{customdata[2]}\",\n",
    "    \"Duration: %{customdata[3]}\"\n",
    "]))\n"
   ]
  }
 ],
 "metadata": {
  "kernelspec": {
   "display_name": "adm",
   "language": "python",
   "name": "python3"
  },
  "language_info": {
   "codemirror_mode": {
    "name": "ipython",
    "version": 3
   },
   "file_extension": ".py",
   "mimetype": "text/x-python",
   "name": "python",
   "nbconvert_exporter": "python",
   "pygments_lexer": "ipython3",
   "version": "3.11.6"
  }
 },
 "nbformat": 4,
 "nbformat_minor": 2
}
