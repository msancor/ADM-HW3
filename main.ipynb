{
 "cells": [
  {
   "cell_type": "markdown",
   "metadata": {},
   "source": [
    "# **Algorithmic Methods for Data Mining: Homework 3**\n",
    "\n",
    "**Author:** Miguel Angel Sanchez Cortes\n",
    "\n",
    "*MSc. in Data Science, Sapienza University of Rome*\n",
    "\n",
    "---\n",
    "\n",
    "## **0. Uploading the Classes and Modules**\n",
    "\n",
    "Before doing any kind of analysis it is necessary to upload both the relevant Classes and Modules we will use to work."
   ]
  },
  {
   "cell_type": "code",
   "execution_count": 1,
   "metadata": {},
   "outputs": [],
   "source": [
    "from modules.search_engine import SearchEngine, TopKSearchEngine, WeightedTopKSearchEngine\n",
    "from modules.data_preprocesser import DataPreprocesser\n",
    "from modules.web_scraper import WebScraper\n",
    "from modules.html_parser import HTMLParser\n",
    "from modules.map_plotter import MapPlotter\n",
    "import pickle\n",
    "\n"
   ]
  },
  {
   "cell_type": "markdown",
   "metadata": {},
   "source": [
    "---\n",
    "\n",
    "## **1. Data Collection**\n",
    "\n",
    "For this homework, there was no provided dataset, instead, we had to build our own. We were asked to obtain relevant information for the courses contained in the [Find a Masters](https://www.findamasters.com/) website. Specifically, we were asked to obtain information for the Masters courses contained on the first **400** pages of the [MSc. Degrees](https://www.findamasters.com/masters-degrees/msc-degrees/) section of the [Find a Masters](https://www.findamasters.com/) website.\n",
    "\n",
    "To do this, we created two custom-made **Python classes** that performed *Web Scraping* and *HTML Parsing* on the first 400 pages of the [MSc. Degrees](https://www.findamasters.com/masters-degrees/msc-degrees/) section of the [Find a Masters](https://www.findamasters.com/) website and obtained as a result a **Pandas Dataframe** with all the relevant information for each course within these pages. Here is a brief description of each of the classes:\n",
    "\n",
    "- `WebScraper`. This class performs web scraping on multiple pages of the [MSc. Degrees](https://www.findamasters.com/masters-degrees/msc-degrees/) section of the [Find a Masters](https://www.findamasters.com/) website. To do this it uses the following methods:\n",
    "\n",
    "    - `scrape_urls()`. Scrapes the urls for all the courses within the [MSc. Degrees](https://www.findamasters.com/masters-degrees/msc-degrees/) section of the [Find a Masters](https://www.findamasters.com/) website and saves them in a text file.\n",
    "    \n",
    "    - `scrape_htmls()`. Scrapes and saves the HTML file for each URL contained in the text file produced by the `scrape_urls()` method.\n",
    "\n",
    "- `HTMLParser`. This class parses each HTML file obtained with the `WebScraper.scrape_htmls()` method and obtains relevant information within these files. To do this it uses the following methods:\n",
    "\n",
    "    - `parse_htmls()`. Parses information within the HTMLs (courses) obtained with the `WebScraper.scrape_htmls()` method and obtains: the name of the course, name of the university, name of the faculty, modality (MSc., full time/part time, online/on campus, etc.), description, start date, fees, duration, city, country, and URL, and saves all this information on tsv files.\n",
    "\n",
    "    - `get_dataframe()`: Obtains a dataframe containing the parsed information of all the courses obtained with the `parse_htmls()` method.\n",
    "\n",
    "For more information about the **implementation** of these classes and methods, please refer to their corresponding `web_scraper.py` and `html_parser.py` files contained in the `modules` directory of our repository.\n",
    "\n",
    "\n",
    "### **1.1. Getting the list of Master's Degrees courses**\n",
    "\n",
    "First, we start by web scraping the [MSc. Degrees](https://www.findamasters.com/masters-degrees/msc-degrees/) section of the [Find a Masters](https://www.findamasters.com/) website. In particular, we start by collecting the URLs associated with all the Master courses within the first 400 pages of this section, since each page has 15 courses, we obtained 6000 unique master's degree URLs. We obtained as an output a .txt file where each single line corresponds to a particular master's URL.\n",
    "\n",
    "To do this, we used our `WebScraper` class. In particular, the `scrape_urls()` method of our `WebScraper` class:"
   ]
  },
  {
   "cell_type": "code",
   "execution_count": 2,
   "metadata": {},
   "outputs": [],
   "source": [
    "#First, we have to initialize the WebScraper class by calling the constructor\n",
    "web_scraper = WebScraper()\n",
    "\n",
    "#As a second step, we can call the .scrape_urls() method to get the list of urls mentioned above. This method doesn't return anything. \n",
    "#Instead, the method saves the URLs in a text file called urls.txt\n",
    "web_scraper.scrape_urls()\n"
   ]
  },
  {
   "cell_type": "markdown",
   "metadata": {},
   "source": [
    "After performing the last step we generated an `urls.txt` file where each line was a different URL for a course within the [MSc. Degrees](https://www.findamasters.com/masters-degrees/msc-degrees/) section of the [Find a Masters](https://www.findamasters.com/) website. As an exercise, to see that our code indeed worked we can print the first line of this file:"
   ]
  },
  {
   "cell_type": "code",
   "execution_count": 2,
   "metadata": {},
   "outputs": [
    {
     "name": "stdout",
     "output_type": "stream",
     "text": [
      "https://www.findamasters.com/masters-degrees/course/3d-design-for-virtual-environments-msc/?i93d2645c19223\n",
      "\n"
     ]
    }
   ],
   "source": [
    "#Here we print the first URL from the urls.txt file\n",
    "with open('data/urls.txt', 'r') as f:\n",
    "    print(f.readline())\n"
   ]
  },
  {
   "cell_type": "markdown",
   "metadata": {},
   "source": [
    "### **1.2. Crawling the master's degree pages**\n",
    "\n",
    "Once we got the URLs of the courses contained in the first 400 pages of the [MSc. Degrees](https://www.findamasters.com/masters-degrees/msc-degrees/) section of the [Find a Masters](https://www.findamasters.com/) website, we saved the HTML files of each individual URL. We performed the following steps:\n",
    "\n",
    "1. Downloading the HTML corresponding to each of the collected URLs.\n",
    "\n",
    "2. Saving the downloaded `HTML` file into folders. Where each folder contains the URLs belonging to a given page. In other words, each folder contains the `HTML` files of the courses on page 1, page 2, etc. of the list of master's programs.\n",
    "   \n",
    "To do this, we used our `WebScraper` class. In particular, the `scrape_htmls()` method of our `WebScraper` class:"
   ]
  },
  {
   "cell_type": "code",
   "execution_count": 3,
   "metadata": {},
   "outputs": [
    {
     "name": "stdout",
     "output_type": "stream",
     "text": [
      "Connection error: ('Connection aborted.', RemoteDisconnected('Remote end closed connection without response')). Waiting 60 seconds and trying again.\n",
      "Connection error: ('Connection aborted.', RemoteDisconnected('Remote end closed connection without response')). Waiting 60 seconds and trying again.\n"
     ]
    }
   ],
   "source": [
    "#Here, we can call the .scrape_htmls() method to get the HTMLs of the URLs mentioned above. This method doesn't return anything.\n",
    "#Instead, the method saves the HTMLs in a folder called htmls, where this folder contains subfolders for each page for the first 400 pages.\n",
    "#!!DO NOT RUN THIS METHOD IF YOU ALREADY HAVE THE HTMLS IN THE FOLDER!!\n",
    "web_scraper.scrape_htmls()\n"
   ]
  },
  {
   "cell_type": "markdown",
   "metadata": {},
   "source": [
    "It is important to notice that this method takes to run approximately $\\sim 10$ hours since we have to download $6000$ HTML files. We didn't try to optimize the running time since we encountered several issues that constrained our running time when performing web-scraping:\n",
    "\n",
    "1. When accessing the information, we encountered an error: **Error 429: Too Many Requests** since we were requesting information **too fast**, this constrained us to take a given amount of time between each request in order to ensure the correct obtention of information.\n",
    "\n",
    "3. We had a very *unstable* internet connection when trying to download the HTML files. In order to ensure the optimal obtention of data, we waited $60$ seconds every time there was a **ConnectionError** and tried again.\n",
    "\n",
    "4. Finally, even though we took a given amount of time between each request, there were cases where we obtained HTML files with only the text *\"Just a moment...\"* written on it. Therefore we augmented the time threshold between each request in order to avoid this situation and clearly this took a big toll on the running time of our final code.\n",
    "\n",
    "We consulted the following sources to solve each one of these problems:\n",
    "\n",
    "- [Problem HTTP error 403 in Python 3 Web Scraping](https://stackoverflow.com/questions/16627227/problem-http-error-403-in-python-3-web-scraping).\n",
    "\n",
    "- [urllib2 HTTP error 429](https://stackoverflow.com/questions/13213048/urllib2-http-error-429).\n",
    "\n",
    "- [Web Scraping using Python (and Beautiful Soup)](https://www.datacamp.com/tutorial/web-scraping-using-python).\n",
    "\n",
    "### **1.3 Parsing the downloaded pages**\n",
    "\n",
    "At this point, we have saved all the HTML documents about the master's degree of interest. The next step we need to perform is extracting relevant information from each one of the courses we have. The **structure** of the web pages for each course can be exemplified with the following list/image:\n",
    "\n",
    "\n",
    "<img align = \"right\" src=\"https://raw.githubusercontent.com/Sapienza-University-Rome/ADM/master/2023/Homework_3/img/example.jpeg\" width=\"650\" height = \"450\"/>\n",
    "\n",
    "<div style=\"text-align: left\"> \n",
    "\n",
    "The information we desire to obtain for each course and their format is as follows:\n",
    "\n",
    "1. Course Name (<span style='color:#CB0900'> **CourseName** </span>): `string`.\n",
    "\n",
    "2. University (<span style='color:#007B04'> **UniversityName** </span>): `string`.\n",
    "\n",
    "3. Faculty (<span style='color:orange'> **facultyName** </span>): `string`.\n",
    "\n",
    "4. Full or Part Time (<span style='color:#1A2E81'> **isItFullTime** </span>): `string`.\n",
    "\n",
    "5. Short Description (<span style='color:black'> **description** </span>): `string`.\n",
    "\n",
    "6. Start Date (<span style='color:purple'> **startDate** </span>): `string`.\n",
    "\n",
    "7. Fees (<span style='color:pink'> **fees** </span>): `string`.\n",
    "\n",
    "8. Modality (<span style='color:#FF9797'> **modality** </span>): `string`.\n",
    "\n",
    "9. Duration (<span style='color:#3ABC3C'> **duration** </span>): `string`.\n",
    "\n",
    "10. City (<span style='color:#F93345'> **city** </span>): `string`.\n",
    "\n",
    "11. Country (<span style='color:yellow'> **country** </span>): `string`.\n",
    "\n",
    "12. Presence or online modality (<span style='color:#0874FF'> **administration** </span>): `string`.\n",
    "\n",
    "13. Link to the page (**url**): `string`.\n",
    "</div>"
   ]
  },
  {
   "cell_type": "markdown",
   "metadata": {},
   "source": [
    "To obtain this information, we used our `HTMLParser` class. In particular, the `parse_htmls()` method of our `HTMLParser` class. This method extracts the previous information from each HTML file of every course contained in the first 400 pages of the [MSc. Degrees](https://www.findamasters.com/masters-degrees/msc-degrees/) section of the [Find a Masters](https://www.findamasters.com/) website and saves it in a `.tsv` file. At the end we should finish with $6000$ `.tsv` files:"
   ]
  },
  {
   "cell_type": "code",
   "execution_count": 29,
   "metadata": {},
   "outputs": [],
   "source": [
    "#First, we have to initialize the HTMLParser class by calling the constructor\n",
    "html_parser = HTMLParser()\n",
    "\n",
    "#As a second step, we can call the .parse_htmls() method to get the tsv files containing all the information mentioned before for each course.\n",
    "#Instead, the method saves the URLs in a text file called urls.txt\n",
    "html_parser.parse_htmls()\n"
   ]
  },
  {
   "cell_type": "markdown",
   "metadata": {},
   "source": [
    "As an exercise, to see that our code indeed worked we can print the first `.tsv` file i.e., the `.tsv` for the first course in the first page of the [MSc. Degrees](https://www.findamasters.com/masters-degrees/msc-degrees/) section of the [Find a Masters](https://www.findamasters.com/) website:"
   ]
  },
  {
   "cell_type": "code",
   "execution_count": 3,
   "metadata": {},
   "outputs": [
    {
     "name": "stdout",
     "output_type": "stream",
     "text": [
      "3D Design for Virtual Environments - MSc\tGlasgow Caledonian University\tSchool of Engineering and Built Environment\tFull time\t3D visualisation and animation play a role in many areas, and the popularity of these media just keeps growing. Digital animation provides the eye-catching special effects in the 21st century's favourite films and television shows; 3D design is also essential to everyday work in everything from computer games development, online virtual world development and industrial design to marketing, product design and architecture. GCU's programme in 3D Design for Virtual Environments will help you develop the skills to thrive in a successful career as a visual designer. The programme is practical and career-focused, oriented towards current industry needs, technology and practice. No prior knowledge of 3D design is required.\tSeptember\tPlease see the university website for further information on fees for this course.\tMSc\t1 year full-time\tGlasgow\tUnited Kingdom\tOn Campus\thttps://www.findamasters.com/masters-degrees/course/3d-design-for-virtual-environments-msc/?i93d2645c19223\n",
      "\n"
     ]
    }
   ],
   "source": [
    "#Here we print the first .tsv file from the data/tsvs folder\n",
    "with open(f'data/tsvs/course_{1}.tsv', 'r') as f:\n",
    "        print(f.read())\n"
   ]
  },
  {
   "cell_type": "markdown",
   "metadata": {},
   "source": [
    "Once we've obtained the relevant data we can finally visualize it properly by creating a *Pandas DataFrame*. To do this we can use the `get_dataframe()` method of our `HTMLParser` class. This method joins all the `.tsv` files created before in a single DataFrame:"
   ]
  },
  {
   "cell_type": "code",
   "execution_count": 2,
   "metadata": {},
   "outputs": [
    {
     "data": {
      "text/html": [
       "<div>\n",
       "<style scoped>\n",
       "    .dataframe tbody tr th:only-of-type {\n",
       "        vertical-align: middle;\n",
       "    }\n",
       "\n",
       "    .dataframe tbody tr th {\n",
       "        vertical-align: top;\n",
       "    }\n",
       "\n",
       "    .dataframe thead th {\n",
       "        text-align: right;\n",
       "    }\n",
       "</style>\n",
       "<table border=\"1\" class=\"dataframe\">\n",
       "  <thead>\n",
       "    <tr style=\"text-align: right;\">\n",
       "      <th></th>\n",
       "      <th>courseName</th>\n",
       "      <th>universityName</th>\n",
       "      <th>facultyName</th>\n",
       "      <th>isItFullTime</th>\n",
       "      <th>description</th>\n",
       "      <th>startDate</th>\n",
       "      <th>fees</th>\n",
       "      <th>modality</th>\n",
       "      <th>duration</th>\n",
       "      <th>city</th>\n",
       "      <th>country</th>\n",
       "      <th>administration</th>\n",
       "      <th>url</th>\n",
       "    </tr>\n",
       "  </thead>\n",
       "  <tbody>\n",
       "    <tr>\n",
       "      <th>0</th>\n",
       "      <td>3D Design for Virtual Environments - MSc</td>\n",
       "      <td>Glasgow Caledonian University</td>\n",
       "      <td>School of Engineering and Built Environment</td>\n",
       "      <td>Full time</td>\n",
       "      <td>3D visualisation and animation play a role in ...</td>\n",
       "      <td>September</td>\n",
       "      <td>Please see the university website for further ...</td>\n",
       "      <td>MSc</td>\n",
       "      <td>1 year full-time</td>\n",
       "      <td>Glasgow</td>\n",
       "      <td>United Kingdom</td>\n",
       "      <td>On Campus</td>\n",
       "      <td>https://www.findamasters.com/masters-degrees/c...</td>\n",
       "    </tr>\n",
       "    <tr>\n",
       "      <th>1</th>\n",
       "      <td>Accounting and Finance - MSc</td>\n",
       "      <td>University of Leeds</td>\n",
       "      <td>Leeds University Business School</td>\n",
       "      <td>Full time</td>\n",
       "      <td>Businesses and governments rely on sound finan...</td>\n",
       "      <td>September</td>\n",
       "      <td>UK: £18,000 (Total) International: £34,750 (To...</td>\n",
       "      <td>MSc</td>\n",
       "      <td>1 year full time</td>\n",
       "      <td>Leeds</td>\n",
       "      <td>United Kingdom</td>\n",
       "      <td>On Campus</td>\n",
       "      <td>https://www.findamasters.com/masters-degrees/c...</td>\n",
       "    </tr>\n",
       "    <tr>\n",
       "      <th>2</th>\n",
       "      <td>Accounting, Accountability &amp; Financial Managem...</td>\n",
       "      <td>King’s College London</td>\n",
       "      <td>King’s Business School</td>\n",
       "      <td>Full time</td>\n",
       "      <td>Our Accounting, Accountability &amp; Financial Man...</td>\n",
       "      <td>September</td>\n",
       "      <td>Please see the university website for further ...</td>\n",
       "      <td>MSc</td>\n",
       "      <td>1 year FT</td>\n",
       "      <td>London</td>\n",
       "      <td>United Kingdom</td>\n",
       "      <td>On Campus</td>\n",
       "      <td>https://www.findamasters.com/masters-degrees/c...</td>\n",
       "    </tr>\n",
       "    <tr>\n",
       "      <th>3</th>\n",
       "      <td>Accounting, Financial Management and Digital B...</td>\n",
       "      <td>University of Reading</td>\n",
       "      <td>Henley Business School</td>\n",
       "      <td>Full time</td>\n",
       "      <td>Embark on a professional accounting career wit...</td>\n",
       "      <td>September</td>\n",
       "      <td>Please see the university website for further ...</td>\n",
       "      <td>MSc</td>\n",
       "      <td>1 year full time</td>\n",
       "      <td>Reading</td>\n",
       "      <td>United Kingdom</td>\n",
       "      <td>On Campus</td>\n",
       "      <td>https://www.findamasters.com/masters-degrees/c...</td>\n",
       "    </tr>\n",
       "    <tr>\n",
       "      <th>4</th>\n",
       "      <td>Addictions MSc</td>\n",
       "      <td>King’s College London</td>\n",
       "      <td>Institute of Psychiatry, Psychology and Neuros...</td>\n",
       "      <td>Full time</td>\n",
       "      <td>Join us for an online session for prospective ...</td>\n",
       "      <td>September</td>\n",
       "      <td>Please see the university website for further ...</td>\n",
       "      <td>MSc</td>\n",
       "      <td>One year FT</td>\n",
       "      <td>London</td>\n",
       "      <td>United Kingdom</td>\n",
       "      <td>On Campus</td>\n",
       "      <td>https://www.findamasters.com/masters-degrees/c...</td>\n",
       "    </tr>\n",
       "  </tbody>\n",
       "</table>\n",
       "</div>"
      ],
      "text/plain": [
       "                                          courseName  \\\n",
       "0           3D Design for Virtual Environments - MSc   \n",
       "1                       Accounting and Finance - MSc   \n",
       "2  Accounting, Accountability & Financial Managem...   \n",
       "3  Accounting, Financial Management and Digital B...   \n",
       "4                                     Addictions MSc   \n",
       "\n",
       "                  universityName  \\\n",
       "0  Glasgow Caledonian University   \n",
       "1            University of Leeds   \n",
       "2          King’s College London   \n",
       "3          University of Reading   \n",
       "4          King’s College London   \n",
       "\n",
       "                                         facultyName isItFullTime  \\\n",
       "0        School of Engineering and Built Environment    Full time   \n",
       "1                   Leeds University Business School    Full time   \n",
       "2                             King’s Business School    Full time   \n",
       "3                             Henley Business School    Full time   \n",
       "4  Institute of Psychiatry, Psychology and Neuros...    Full time   \n",
       "\n",
       "                                         description  startDate  \\\n",
       "0  3D visualisation and animation play a role in ...  September   \n",
       "1  Businesses and governments rely on sound finan...  September   \n",
       "2  Our Accounting, Accountability & Financial Man...  September   \n",
       "3  Embark on a professional accounting career wit...  September   \n",
       "4  Join us for an online session for prospective ...  September   \n",
       "\n",
       "                                                fees modality  \\\n",
       "0  Please see the university website for further ...      MSc   \n",
       "1  UK: £18,000 (Total) International: £34,750 (To...      MSc   \n",
       "2  Please see the university website for further ...      MSc   \n",
       "3  Please see the university website for further ...      MSc   \n",
       "4  Please see the university website for further ...      MSc   \n",
       "\n",
       "           duration     city         country administration  \\\n",
       "0  1 year full-time  Glasgow  United Kingdom      On Campus   \n",
       "1  1 year full time    Leeds  United Kingdom      On Campus   \n",
       "2         1 year FT   London  United Kingdom      On Campus   \n",
       "3  1 year full time  Reading  United Kingdom      On Campus   \n",
       "4       One year FT   London  United Kingdom      On Campus   \n",
       "\n",
       "                                                 url  \n",
       "0  https://www.findamasters.com/masters-degrees/c...  \n",
       "1  https://www.findamasters.com/masters-degrees/c...  \n",
       "2  https://www.findamasters.com/masters-degrees/c...  \n",
       "3  https://www.findamasters.com/masters-degrees/c...  \n",
       "4  https://www.findamasters.com/masters-degrees/c...  "
      ]
     },
     "execution_count": 2,
     "metadata": {},
     "output_type": "execute_result"
    }
   ],
   "source": [
    "#Here we can call the .get_dataframe() method to get the pandas dataframe containing all the information mentioned before for each course.\n",
    "course_dataset = html_parser.get_dataframe()\n",
    "#Here we print the first 5 rows of the dataframe\n",
    "course_dataset.head()\n"
   ]
  },
  {
   "cell_type": "markdown",
   "metadata": {},
   "source": [
    "----\n",
    "\n",
    "## **2. Search Engine**\n",
    "\n",
    "Now that we have our data cleaned and organized in one dataset, we want to build a Search Engine that, given as input a query, return the courses that match the query. To do this we created **three** custom-made Python classes that helped us build our Search Engine and pre-process our data in order to make our Search Engine efficient and accurate. Here is a brief description of each of the classes:\n",
    "\n",
    "- `DataPreprocesser`: This class preprocesses the fees column and the text columns (removes punctuation/stopwords and performs tokenizing and lemmatizing) of the MSc courses dataset. To do this it uses the following methods:\n",
    "\n",
    "    - `preprocess_fees_column()`. Finds and converts the course fees into Euros, obtains the maximum fee and saves it as a float in a new column.\n",
    "\n",
    "    - `preprocess_text_column()`. Removes punctuation and stopwords from the text, and performs tokenizing and lemmatizing of every word.\n",
    "\n",
    "- `SearchEngine`:  This class implements a Search Engine that queries documents by their description and returns the documents that include **all** the words in the given query. To do this it uses the following method:\n",
    "\n",
    "    - `query()`. Function that queries the dataset and returns the documents that contain all the words in a given text query sorted by index.\n",
    "\n",
    "* `TopKSearchEngine`: This class implements a Search Engine that queries documents by their description and returns the documents that include **all** the words in the given query sorted by their **cosine similarity** with the query. This class inherits from the `SearchEngine` parent class and has the same method:\n",
    "\n",
    "    - `query()`. Function that queries the dataset and returns the documents that contain all the words in a given text query sorted by cosine similarity. \n",
    "\n",
    "For more information about the **implementation** of these classes and methods, please refer to their corresponding `data_preprocesser.py` and `search_engine.py` files contained in the `modules` directory of our repository.\n",
    "\n",
    "### **2.0. Preprocessing the text**\n",
    "\n",
    "First, we must pre-process the text information collected for each MSc in order to make our Search Engine more accurate in finding documents. To do this we performed the following data-processing pipeline:\n",
    "\n",
    "1. First, we performed text **tokenization**. Text can be thought as being formed by units called *tokens* that build up the entire text corpus and the process of splitting a text sequence into its tokens is *tokenization*. For example, when tokenizing the string *\"Hello, World!\"* we find four tokens: *\"hello\"* *\",\"* *\"world\"* *\"!\"*.\n",
    "\n",
    "    As we can see, while tokenizing we also take into account punctuation as tokens. This is why, we chose to also **remove punctuation** when performing tokenization. Another important thing to notice is that we chose to convert all our text to lower case in other to treat words like \"Hello\" and \"hello\" as the same.\n",
    "\n",
    "2. Once we tokenized the text, we then removed **stopwords**. Stopwords are a set of commonly used words in a language. Examples of stop words in English are “a,” “the,” “is,” “are,” etc. This words don't carry much information and they are not important when performing a query, this is why we chose to eliminate them along with other **non-alphanumeric** characters.\n",
    "\n",
    "3. Finally, once we tokenized and removed the stopwords we performed **lemmatization** on the text. Lemmatization is another technique used to reduce inflected words to their root word. It describes the algorithmic process of identifying an inflected word’s *lemma* (dictionary form) based on its intended meaning. For example, when lemmatizing the word *\"running\"*, we obtain its lemma: *\"run\"*.\n",
    "\n",
    "    We chose lemmatization as opposed to **stemming** since stemming algorithms function by taking a list of frequent prefixes and suffixes found in inflected words and chopping off the end or beginning of the word. This can occasionally result in word stems that are not real words. Lemmatization is more accurate and takes into account the **meaning** of the word.\n",
    "\n",
    "In the end, we ended up with tokenized text containing words reduced to their roots that synthesize the content of each document. As an example of our process, let's pre-process the string: *\"I like eating Carbonara. Carbonara is a type of pasta.\"*:\n",
    "\n",
    "1. **Tokens (lowercase and without punctuation)**: *\"i\"* *\"like\"* *\"eating\"* *\"carbonara\"* *\"carbonara\"* *\"is\"* *\"a\"* *\"type\"* *\"of\"* *\"pasta\"*\n",
    "\n",
    "2. **Tokens (without stop words)**: *\"like\"* *\"eating\"* *\"carbonara\"* *\"carbonara\"* *\"type\"* *\"pasta\"*\n",
    "\n",
    "3. **Lemmatized tokens**: *\"like\"* *\"eat\"* *\"carbonara\"* *\"carbonara\"* *\"type\"* *\"pasta\"*\n",
    "\n",
    "As we can see, we end up with key words without giving up the main idea of the text. We performed this text pre-processing for the following text fields of our dataset since they will be useful throughout this notebook:\n",
    "\n",
    "- `description`: A brief description of the Master's Degree course.\n",
    "\n",
    "- `courseName`: The name of the course.\n",
    "\n",
    "- `universityName`: The name of the university.\n",
    "\n",
    "- `facultyName`: The faculty name.\n",
    "\n",
    "- `city`: The city where the course takes place.\n",
    "\n",
    "- `country`: The country where the course takes place.\n",
    "\n",
    "To do this, we used our `DataPreprocesser` class. In particular, the `preprocess_text_column()` method of our `DataPreprocesser` class:"
   ]
  },
  {
   "cell_type": "code",
   "execution_count": 3,
   "metadata": {},
   "outputs": [],
   "source": [
    "#Here we initialize the DataPreprocesser class by calling the constructor\n",
    "data_preprocesser = DataPreprocesser(course_dataset)\n",
    "\n",
    "#Here we call the .preprocess_text_column() method to preprocess the description column of the dataframe\n",
    "data_preprocesser.preprocess_text_column(column_name=\"description\")\n",
    "#Here we call the .preprocess_text_column() method to preprocess the courseName column of the dataframe\n",
    "data_preprocesser.preprocess_text_column(column_name=\"courseName\")\n",
    "#Here we call the .preprocess_text_column() method to preprocess the universityName column of the dataframe\n",
    "data_preprocesser.preprocess_text_column(column_name=\"universityName\")\n",
    "#Here we call the .preprocess_text_column() method to preprocess the facultyName column of the dataframe\n",
    "data_preprocesser.preprocess_text_column(column_name=\"facultyName\")\n",
    "#Here we call the .preprocess_text_column() method to preprocess the city column of the dataframe\n",
    "data_preprocesser.preprocess_text_column(column_name=\"city\")\n",
    "#Here we call the .preprocess_text_column() method to preprocess the country column of the dataframe\n",
    "data_preprocesser.preprocess_text_column(column_name=\"country\")\n"
   ]
  },
  {
   "cell_type": "markdown",
   "metadata": {},
   "source": [
    "We can observe the resulting preprocessed columns for our dataset:"
   ]
  },
  {
   "cell_type": "code",
   "execution_count": 4,
   "metadata": {},
   "outputs": [
    {
     "data": {
      "text/html": [
       "<div>\n",
       "<style scoped>\n",
       "    .dataframe tbody tr th:only-of-type {\n",
       "        vertical-align: middle;\n",
       "    }\n",
       "\n",
       "    .dataframe tbody tr th {\n",
       "        vertical-align: top;\n",
       "    }\n",
       "\n",
       "    .dataframe thead th {\n",
       "        text-align: right;\n",
       "    }\n",
       "</style>\n",
       "<table border=\"1\" class=\"dataframe\">\n",
       "  <thead>\n",
       "    <tr style=\"text-align: right;\">\n",
       "      <th></th>\n",
       "      <th>description (PROCESSED)</th>\n",
       "      <th>courseName (PROCESSED)</th>\n",
       "      <th>universityName (PROCESSED)</th>\n",
       "      <th>facultyName (PROCESSED)</th>\n",
       "      <th>city (PROCESSED)</th>\n",
       "      <th>country (PROCESSED)</th>\n",
       "    </tr>\n",
       "  </thead>\n",
       "  <tbody>\n",
       "    <tr>\n",
       "      <th>0</th>\n",
       "      <td>3d,visualisation,animation,play,role,many,area...</td>\n",
       "      <td>3d,design,virtual,environment,msc</td>\n",
       "      <td>glasgow,caledonian,university</td>\n",
       "      <td>school,engineering,build,environment</td>\n",
       "      <td>glasgow</td>\n",
       "      <td>united,kingdom</td>\n",
       "    </tr>\n",
       "    <tr>\n",
       "      <th>1</th>\n",
       "      <td>business,government,rely,sound,financial,knowl...</td>\n",
       "      <td>accounting,finance,msc</td>\n",
       "      <td>university,leeds</td>\n",
       "      <td>leeds,university,business,school</td>\n",
       "      <td>leeds</td>\n",
       "      <td>united,kingdom</td>\n",
       "    </tr>\n",
       "    <tr>\n",
       "      <th>2</th>\n",
       "      <td>accounting,accountability,financial,management...</td>\n",
       "      <td>accounting,accountability,financial,management...</td>\n",
       "      <td>king,college,london</td>\n",
       "      <td>king,business,school</td>\n",
       "      <td>london</td>\n",
       "      <td>united,kingdom</td>\n",
       "    </tr>\n",
       "    <tr>\n",
       "      <th>3</th>\n",
       "      <td>embark,professional,accounting,career,academic...</td>\n",
       "      <td>account,financial,management,digital,business,msc</td>\n",
       "      <td>university,reading</td>\n",
       "      <td>henley,business,school</td>\n",
       "      <td>reading</td>\n",
       "      <td>united,kingdom</td>\n",
       "    </tr>\n",
       "    <tr>\n",
       "      <th>4</th>\n",
       "      <td>join,u,online,session,prospective,student,find...</td>\n",
       "      <td>addiction,msc</td>\n",
       "      <td>king,college,london</td>\n",
       "      <td>institute,psychiatry,psychology,neuroscience</td>\n",
       "      <td>london</td>\n",
       "      <td>united,kingdom</td>\n",
       "    </tr>\n",
       "  </tbody>\n",
       "</table>\n",
       "</div>"
      ],
      "text/plain": [
       "                             description (PROCESSED)  \\\n",
       "0  3d,visualisation,animation,play,role,many,area...   \n",
       "1  business,government,rely,sound,financial,knowl...   \n",
       "2  accounting,accountability,financial,management...   \n",
       "3  embark,professional,accounting,career,academic...   \n",
       "4  join,u,online,session,prospective,student,find...   \n",
       "\n",
       "                              courseName (PROCESSED)  \\\n",
       "0                  3d,design,virtual,environment,msc   \n",
       "1                             accounting,finance,msc   \n",
       "2  accounting,accountability,financial,management...   \n",
       "3  account,financial,management,digital,business,msc   \n",
       "4                                      addiction,msc   \n",
       "\n",
       "      universityName (PROCESSED)  \\\n",
       "0  glasgow,caledonian,university   \n",
       "1               university,leeds   \n",
       "2            king,college,london   \n",
       "3             university,reading   \n",
       "4            king,college,london   \n",
       "\n",
       "                        facultyName (PROCESSED) city (PROCESSED)  \\\n",
       "0          school,engineering,build,environment          glasgow   \n",
       "1              leeds,university,business,school            leeds   \n",
       "2                          king,business,school           london   \n",
       "3                        henley,business,school          reading   \n",
       "4  institute,psychiatry,psychology,neuroscience           london   \n",
       "\n",
       "  country (PROCESSED)  \n",
       "0      united,kingdom  \n",
       "1      united,kingdom  \n",
       "2      united,kingdom  \n",
       "3      united,kingdom  \n",
       "4      united,kingdom  "
      ]
     },
     "execution_count": 4,
     "metadata": {},
     "output_type": "execute_result"
    }
   ],
   "source": [
    "#Here we print the first 5 rows of the dataframe with the preprocessed columns\n",
    "data_preprocesser.dataset[[\"description (PROCESSED)\", \"courseName (PROCESSED)\", \"universityName (PROCESSED)\", \"facultyName (PROCESSED)\", \"city (PROCESSED)\", \"country (PROCESSED)\"]].head()\n"
   ]
  },
  {
   "cell_type": "markdown",
   "metadata": {},
   "source": [
    "### **2.0.1 Preprocessing the fees column**\n",
    "\n",
    "We also want the preprocess the ```fees``` field in order to collect numeric information. To do this we followed these steps:\n",
    "\n",
    "1. First, we found all the currency strings included in the ```fees```. Since there are a lot of different ways to write textual currency we checked the most important cases using Regular Expressions (for more information, check the `data_preprocesser.py` module). In particular we extracted strings with the following formats:\n",
    "\n",
    "    * `(\\p{Sc})\\s?(\\d+[\\.\\,\\s]{0,1}[\\d\\.\\,]{0,}`: Strings with format € 2,209, $2,209, etc.\n",
    "\n",
    "    * `(\\d+[\\.\\,\\s]{0,1}[\\d\\.\\,]{0,})\\s?(\\p{Sc})`: Strings with format 2,209 €, 2,209$, etc.\n",
    "    \n",
    "    * `([A-Z\\p{Sc}]{3})\\s?(\\d+[\\.\\,\\s]{0,1}[\\d\\.\\,]{0,})`: Strings with format EUR 2,209, USD2,209, etc.\n",
    "\n",
    "    * `(\\d+[\\.\\,\\s]{0,1}[\\d\\.\\,]{0,})\\s?([A-Z\\p{Sc}]{3})`: Strings with format 2,209 EUR, 2,209USD, etc.\n",
    "\n",
    "    * `\\p{Sc}\\s?(\\d+[\\.\\,\\s]{0,1}[\\d\\.\\,]{0,})\\s?([A-Z]{3})`: Strings with format € 2,209 EUR, $2,209USD, etc.\n",
    "\n",
    "    * `([A-Z]{3})\\s?\\p{Sc}\\s?(\\d+[\\.\\,\\s]{0,1}[\\d\\.\\,]{0,})`: Strings with format EUR € 2,209, USD$2,209, etc.\n",
    "\n",
    "    2. Once we found all the currency strings, we grouped them in tuples `(value, currency)` in order to distinguish the symbols/ISO codes of the currencies from the actual numeric values. At the same time, we eliminated duplicates since we could have the case that the same value is written in two different ways. For example: `(200, USD)` and `(200, $)`. We made sure to keep the currency [ISO](https://en.wikipedia.org/wiki/ISO_4217) code when present since it is helpful when trying to convert currencies.\n",
    "\n",
    "    3. Once we had all the numeric values without duplicates, we proceeded to convert all the currencies to a common currency (in this case, EUR). To do this we first asked ChatGPT for help in finding an API that could help us performing this task. The prompt we wrote was:\n",
    "\n",
    "        > I have a DataFrame column containing values in different currencies. How can I convert them to euros using Python?\n",
    "\n",
    "        And the response was:\n",
    "\n",
    "        > To convert values in different currencies to euros in a DataFrame column using Python, you can use a currency conversion API or a library that provides exchange rates. One popular library for this task is the `forex-python` library. First, you need to install the library if you haven't already:\n",
    "        >```bash\n",
    "        > pip install forex-python\n",
    "        >```\n",
    "        > Then, you can use the library to convert currencies. Here's an example:\n",
    "        >```python\n",
    "        >import pandas as pd\n",
    "        >from forex_python.converter import CurrencyRates\n",
    "        >\n",
    "        ># Create a sample DataFrame\n",
    "        >data = {'Amount': [100, 150, 200],\n",
    "        >        'Currency': ['USD', 'GBP', 'JPY']}\n",
    "        >df = pd.DataFrame(data)\n",
    "        >\n",
    "        ># Function to convert currency to euros\n",
    "        >def convert_to_euros(row):\n",
    "        >    currency_rates = CurrencyRates()\n",
    "        >    exchange_rate = currency_rates.get_rate(row['Currency'], 'EUR')\n",
    "        >    return row['Amount'] * exchange_rate\n",
    "        >\n",
    "        ># Apply the conversion function to the DataFrame\n",
    "        >df['Amount_in_EUR'] = df.apply(convert_to_euros, axis=1)\n",
    "        >\n",
    "        ># Display the resulting DataFrame\n",
    "        >print(df)\n",
    "        >\n",
    "        >```\n",
    "        >In this example, the convert_to_euros function takes a row of the DataFrame, retrieves the exchange rate for the given currency against euros using the `forex-python` library, and then calculates the equivalent amount in euros. The apply method is used to apply this function to each row of the DataFrame, and a new column 'Amount_in_EUR' is created to store the converted values.\n",
    "        >\n",
    "        >Note that you need an internet connection to fetch the exchange rates from the API. If you have a large DataFrame, you may want to explore more efficient ways to perform the conversion, such as parallel processing or vectorized operations.\n",
    "\n",
    "        We used the `forex-python` library to convert all the fees we found to EUR by mapping each currency to its corresponding ISO code and then performing the conversion. In order to avoid not finding conversion rates, we always took the conversion rate of the day before we coded this part.\n",
    "\n",
    "    4. Finally, once we had all the fees in EUR we performed another step. When there were more than one fees in a given Master's course, we took the highest fee as our fee and ignored the others. In the end, we finished with a column filled with only a numeric value in EUR (or NA if there was no fee).\n",
    "\n",
    "To do this, we used our `DataPreprocesser` class. In particular, the `preprocess_fees_column()` method of our `DataPreprocesser` class:"
   ]
  },
  {
   "cell_type": "code",
   "execution_count": 5,
   "metadata": {},
   "outputs": [],
   "source": [
    "#Here we call the .preprocess_fees_column() method to preprocess the fees column of the dataframe\n",
    "data_preprocesser.preprocess_fees_column()\n"
   ]
  },
  {
   "cell_type": "markdown",
   "metadata": {},
   "source": [
    "We can observe the resulting preprocessed fees column for our dataset:"
   ]
  },
  {
   "cell_type": "code",
   "execution_count": 6,
   "metadata": {},
   "outputs": [
    {
     "data": {
      "text/html": [
       "<div>\n",
       "<style scoped>\n",
       "    .dataframe tbody tr th:only-of-type {\n",
       "        vertical-align: middle;\n",
       "    }\n",
       "\n",
       "    .dataframe tbody tr th {\n",
       "        vertical-align: top;\n",
       "    }\n",
       "\n",
       "    .dataframe thead th {\n",
       "        text-align: right;\n",
       "    }\n",
       "</style>\n",
       "<table border=\"1\" class=\"dataframe\">\n",
       "  <thead>\n",
       "    <tr style=\"text-align: right;\">\n",
       "      <th></th>\n",
       "      <th>fees</th>\n",
       "      <th>fees (EUR)</th>\n",
       "    </tr>\n",
       "  </thead>\n",
       "  <tbody>\n",
       "    <tr>\n",
       "      <th>0</th>\n",
       "      <td>Please see the university website for further ...</td>\n",
       "      <td>NaN</td>\n",
       "    </tr>\n",
       "    <tr>\n",
       "      <th>1</th>\n",
       "      <td>UK: £18,000 (Total) International: £34,750 (To...</td>\n",
       "      <td>39871.493</td>\n",
       "    </tr>\n",
       "    <tr>\n",
       "      <th>2</th>\n",
       "      <td>Please see the university website for further ...</td>\n",
       "      <td>NaN</td>\n",
       "    </tr>\n",
       "    <tr>\n",
       "      <th>3</th>\n",
       "      <td>Please see the university website for further ...</td>\n",
       "      <td>NaN</td>\n",
       "    </tr>\n",
       "    <tr>\n",
       "      <th>4</th>\n",
       "      <td>Please see the university website for further ...</td>\n",
       "      <td>NaN</td>\n",
       "    </tr>\n",
       "  </tbody>\n",
       "</table>\n",
       "</div>"
      ],
      "text/plain": [
       "                                                fees  fees (EUR)\n",
       "0  Please see the university website for further ...         NaN\n",
       "1  UK: £18,000 (Total) International: £34,750 (To...   39871.493\n",
       "2  Please see the university website for further ...         NaN\n",
       "3  Please see the university website for further ...         NaN\n",
       "4  Please see the university website for further ...         NaN"
      ]
     },
     "execution_count": 6,
     "metadata": {},
     "output_type": "execute_result"
    }
   ],
   "source": [
    "#Here we print the first 5 rows of the processed fees column\n",
    "data_preprocesser.dataset[[\"fees\", \"fees (EUR)\"]].head()\n"
   ]
  },
  {
   "cell_type": "markdown",
   "metadata": {},
   "source": [
    "As we can see, within the first 5 rows of our dataset, only the second row contained information for fees, resulting in a fee numeric value of $39871$ EUR.\n",
    "\n",
    "### **2.1. Conjunctive query**\n",
    "\n",
    "For the first version of our Search Engine, we narrowed our interest to the `description` column of each course. This means that our Search Engine will evaluate queries only concerning the course's description. To evaluate the queries our Search Engine follows the following steps:\n",
    "\n",
    "1. It builds a dictionary containing all the (preprocessed) words found in the `description` column of each course. Using this vocabulary it built the **inverted index** of the words. The inverted index is a dictionary of the form:\n",
    "    ```\n",
    "    {\n",
    "    term_id_1:[document_1, document_2, document_4],\n",
    "    term_id_2:[document_1, document_3, document_5, document_6],\n",
    "    ...}\n",
    "    ```\n",
    "    where  `document_i` is the *id* of a document that contains a specific word. The `term_id_i` is the *id* of a specific word in the vocabulary.\n",
    "\n",
    "    This index gives a mapping from every word in the vocabulary to all the documents that contain it.\n",
    "\n",
    "2. Once it built (and saved) the vocabulary and inverted index, it takes a **query** as an input. As a first step it preprocesses the query and then searchs for all the documents that contain **all** of the words/tokens in the query. To perform this search it takes advantage of the inverted index since it only has to take the intersection of the lists of the terms contained in the query.\n",
    "\n",
    "3. Once it gets all the relevant documents, it returns them sorted by index. The sorting part was optional but we decided to do it since it is more visually appealing.\n",
    "\n",
    "### **2.1.1 Creating your index!**\n",
    "\n",
    "As we mentioned before, the vocabulary and the inverted index are the building blocks of our Search Engine, this is why they are obtained *before* making any query to the Search Engine and saved into memory. In this way they are loaded into memory when necessary instead of being calculated each time. To do this we incorporated them as class **attributes** so they are loaded into memory each time the `SearchEngine` class is initialized.\n",
    "\n",
    "As an exercise, we can see the structure of the vocabulary:\n",
    "\n"
   ]
  },
  {
   "cell_type": "code",
   "execution_count": 7,
   "metadata": {},
   "outputs": [
    {
     "name": "stdout",
     "output_type": "stream",
     "text": [
      "2193\n"
     ]
    }
   ],
   "source": [
    "#Here we load the vocabulary of the description column\n",
    "with open(f\"data/description_vocabulary.pickle\", \"rb\") as f:\n",
    "                vocabulary = pickle.load(f)\n",
    "\n",
    "#As an example we can print the index of the word \"data\"\n",
    "print(vocabulary[\"data\"])\n"
   ]
  },
  {
   "cell_type": "markdown",
   "metadata": {},
   "source": [
    "As we can observe, the `term_id` of the word *data* is $2193$. Therefore if we search this id within the inverted index:"
   ]
  },
  {
   "cell_type": "code",
   "execution_count": 8,
   "metadata": {},
   "outputs": [
    {
     "name": "stdout",
     "output_type": "stream",
     "text": [
      "[13, 19, 20, 24, 34, 35, 36, 57, 58, 60]\n"
     ]
    }
   ],
   "source": [
    "#Here we load the inverted index of the description column\n",
    "with open(f\"data/description_inverted_index.pickle\", \"rb\") as f:\n",
    "                inverted_index = pickle.load(f)\n",
    "\n",
    "#As an example we can print the inverted index of the word \"data\" (at least the first 10 documents)\n",
    "print(inverted_index[2193][:10])\n"
   ]
  },
  {
   "cell_type": "markdown",
   "metadata": {},
   "source": [
    "We can observe that the first 10 documents that contain the word *data*  in their description field are the documents: 13, 19, 20, 24, 34, 35, 36, 57, 58 and 60.\n",
    "\n",
    "#### **2.1.2 Execute the query**\n",
    "\n",
    "We can test our Search Engine by executing the query \"advanced knowledge\". To do this, we use our `SearchEngine` class. In particular, the `query()` method of our `SearchEngine` class:"
   ]
  },
  {
   "cell_type": "code",
   "execution_count": 10,
   "metadata": {},
   "outputs": [
    {
     "data": {
      "text/html": [
       "<div>\n",
       "<style scoped>\n",
       "    .dataframe tbody tr th:only-of-type {\n",
       "        vertical-align: middle;\n",
       "    }\n",
       "\n",
       "    .dataframe tbody tr th {\n",
       "        vertical-align: top;\n",
       "    }\n",
       "\n",
       "    .dataframe thead th {\n",
       "        text-align: right;\n",
       "    }\n",
       "</style>\n",
       "<table border=\"1\" class=\"dataframe\">\n",
       "  <thead>\n",
       "    <tr style=\"text-align: right;\">\n",
       "      <th></th>\n",
       "      <th>courseName</th>\n",
       "      <th>universityName</th>\n",
       "      <th>description</th>\n",
       "      <th>url</th>\n",
       "    </tr>\n",
       "  </thead>\n",
       "  <tbody>\n",
       "    <tr>\n",
       "      <th>1</th>\n",
       "      <td>Accounting and Finance - MSc</td>\n",
       "      <td>University of Leeds</td>\n",
       "      <td>Businesses and governments rely on sound finan...</td>\n",
       "      <td>https://www.findamasters.com/masters-degrees/c...</td>\n",
       "    </tr>\n",
       "    <tr>\n",
       "      <th>198</th>\n",
       "      <td>Master of Public Health (MPH) Online</td>\n",
       "      <td>Brunel University Online</td>\n",
       "      <td>Brunel’s Master of Public Health (online) has ...</td>\n",
       "      <td>https://www.findamasters.com/masters-degrees/c...</td>\n",
       "    </tr>\n",
       "    <tr>\n",
       "      <th>204</th>\n",
       "      <td>Master of Science in Mechanical Engineering</td>\n",
       "      <td>The Hong Kong University of Science and Techno...</td>\n",
       "      <td>The program is designed to benefit students wi...</td>\n",
       "      <td>https://www.findamasters.com/masters-degrees/c...</td>\n",
       "    </tr>\n",
       "    <tr>\n",
       "      <th>215</th>\n",
       "      <td>Materials Science and Engineering - MSc</td>\n",
       "      <td>University of Leeds</td>\n",
       "      <td>Materials science is at the forefront of provi...</td>\n",
       "      <td>https://www.findamasters.com/masters-degrees/c...</td>\n",
       "    </tr>\n",
       "    <tr>\n",
       "      <th>239</th>\n",
       "      <td>MSc Advanced Computer Science</td>\n",
       "      <td>University of Sheffield</td>\n",
       "      <td>This MSc keeps you at the cutting edge of deve...</td>\n",
       "      <td>https://www.findamasters.com/masters-degrees/c...</td>\n",
       "    </tr>\n",
       "  </tbody>\n",
       "</table>\n",
       "</div>"
      ],
      "text/plain": [
       "                                      courseName  \\\n",
       "1                   Accounting and Finance - MSc   \n",
       "198         Master of Public Health (MPH) Online   \n",
       "204  Master of Science in Mechanical Engineering   \n",
       "215      Materials Science and Engineering - MSc   \n",
       "239                MSc Advanced Computer Science   \n",
       "\n",
       "                                        universityName  \\\n",
       "1                                  University of Leeds   \n",
       "198                           Brunel University Online   \n",
       "204  The Hong Kong University of Science and Techno...   \n",
       "215                                University of Leeds   \n",
       "239                            University of Sheffield   \n",
       "\n",
       "                                           description  \\\n",
       "1    Businesses and governments rely on sound finan...   \n",
       "198  Brunel’s Master of Public Health (online) has ...   \n",
       "204  The program is designed to benefit students wi...   \n",
       "215  Materials science is at the forefront of provi...   \n",
       "239  This MSc keeps you at the cutting edge of deve...   \n",
       "\n",
       "                                                   url  \n",
       "1    https://www.findamasters.com/masters-degrees/c...  \n",
       "198  https://www.findamasters.com/masters-degrees/c...  \n",
       "204  https://www.findamasters.com/masters-degrees/c...  \n",
       "215  https://www.findamasters.com/masters-degrees/c...  \n",
       "239  https://www.findamasters.com/masters-degrees/c...  "
      ]
     },
     "execution_count": 10,
     "metadata": {},
     "output_type": "execute_result"
    }
   ],
   "source": [
    "#First we initialize the SearchEngine class by calling the constructor. In this step is when the vocabulary and the inverted index are created/saved or loaded into memory\n",
    "search_engine = SearchEngine(data_preprocesser.dataset)\n",
    "\n",
    "#Here we call the .query() method to get the results of the query \"advanced knowledge\"\n",
    "result = search_engine.query(\"advanced knowledge\")\n",
    "#Here we print the first 5 results\n",
    "result.head()\n"
   ]
  },
  {
   "cell_type": "markdown",
   "metadata": {},
   "source": [
    "We only printed the first 5 documents in order to keep the Notebook as tidy as possible. Nevertheless we can see that the total number of documents that contain all the words in our query are 188. This is a big quantity and we can't distinguish one from another, this is why it is necessary to make some adjustments to this basic Search Engine."
   ]
  },
  {
   "cell_type": "code",
   "execution_count": 12,
   "metadata": {},
   "outputs": [
    {
     "name": "stdout",
     "output_type": "stream",
     "text": [
      "Number of results: 188\n"
     ]
    }
   ],
   "source": [
    "#Here we print the number of results that the query \"advanced knowledge\" returned\n",
    "print(f\"Number of results: {len(result)}\")\n"
   ]
  },
  {
   "cell_type": "markdown",
   "metadata": {},
   "source": [
    "### **2.2 Conjunctive query & Ranking score**\n",
    "\n",
    "For the second Search Engine, given a query, we want to get the *top-k* (in this case, we chose $k=5$) documents related to the query and a **similarity** measure. In particular we chose to perform the following procedure:\n",
    "\n",
    "1. We built a dictionary containing all the words found in the `description` column of each course (in reality, use the one we created before). Using this vocabulary we built the **TfIdf inverted index** of the words. The TfIdf inverted index is a dictionary of the form:\n",
    "    ```\n",
    "    {\n",
    "    term_id_1:[(document_1, tfIdf_{term,document1}), (document_2, tfIdf_{term,document2}), (document_4, tfIdf_{term,document4})],\n",
    "    term_id_2:[(document_1, tfIdf_{term,document1}), (document_3, tfIdf_{term,document3}), (document_5, tfIdf_{term,document5}), (document_6, tfIdf_{term,document6})],\n",
    "    ...}\n",
    "    ```\n",
    "    where `document_i` is the *id* of a document that contains a specific word, the `term_id_i` is the *id* of a specific word in the vocabulary, and the `TfIdf` is the Term Frequency-Inverse Document Frequency value of the `term_id_i` within `document_i`. The Term Frequency-Inverse Document Frequency is given by:\n",
    "\n",
    "    \\begin{equation}\n",
    "    \\text{TfIdf}(t,d) = \\text{Tf}(t,d) \\times \\text{Idf}(t) =  \\text{Tf}(t,d) \\times \\log \\left(\\frac{N}{1+df}\\right),\n",
    "    \\end{equation}\n",
    "\n",
    "    where $\\text{Tf}(t,d)$ is the (normalized) frequency of times the term $t$ appears in document $d$ and $\\text{Idf}(t)$ is the **inverse document frequency** of term $t$, where $df$ is the number of documents that include term $t$ and $N$ is the total number of documents. The purpose of the Idf is to give higher weight to terms that are rare across the entire corpus of a text and lower weight to terms that are common.\n",
    "\n",
    "    The TfIdf index gives a mapping from every word in the vocabulary to all the documents that contain it and a measurement **how important** is that word within each document relative to its importance across all documents. \n",
    "\n",
    "2. Once we built (and saved) the vocabulary and TfIdf inverted index, we take a **query** as an input. As a first step we preprocess the query and then search for all the documents that contain **all** of the words/tokens in the query. To perform this search we takes advantage of the TfIdf inverted index since we only have to take the intersection of the lists of the terms contained in the query (the lists of the first elements of the tuple).\n",
    "\n",
    "3. Once we got all the relevant documents, we decided to sort them by their **Cosine Similarity** with respect to the query. The Cosine Similarity is a vector similarity measure that measures how similar are two vectors $\\vec{A}$ and $\\vec{B}$ by taking the angle $\\theta$ between them. It is given by:\n",
    "\n",
    "    \\begin{equation}\n",
    "    \\text{sim}\\left(\\vec{A}, \\vec{B}\\right) = cos(\\theta) = \\frac{\\vec{A}\\cdot\\vec{B}}{|\\vec{A}||\\vec{B}|}.\n",
    "    \\tag{2}\n",
    "    \\end{equation}\n",
    "\n",
    "    In the context of NLP, we can represent documents as vectors where each vector value is the tfIdf representation of a term within this document. Therefore, we can obtain the similarity between documents by taking the **cosine similarity** of their tfIdf representation. In this case, we obtained the cosine similarity between the query and all the obtained documents. \n",
    "    \n",
    "    Once we had a similarity value for all the relevant documents, we **sorted** them in descending value with respect to the similarity with the query. In order to mantain the top-$k$ documents in an efficient way, we used a **max-heap** data structure.\n",
    "\n",
    "#### **2.2.1 Inverted index**\n",
    "\n",
    "As in the first Search Engine we built, the TfIdf inverted index is a fundamental tool for building of our Search Engine, this is why they are obtained *before* making any query to the Search Engine and saved into memory. In this way they are loaded into memory when necessary instead of being calculated each time. To do this we incorporated them as a class **attribute** so it was loaded into memory each time the `TopKSearchEngine` class is initialized.\n",
    "\n",
    "As an exercise, we can observe the first 5 elements of the TfIdf inverted index value for the \"data\" term as we did before:"
   ]
  },
  {
   "cell_type": "code",
   "execution_count": 17,
   "metadata": {},
   "outputs": [
    {
     "name": "stdout",
     "output_type": "stream",
     "text": [
      "[(13, 0.08754502045096446), (19, 0.10059505738094911), (20, 0.09754119920675935), (24, 0.054922388160716075), (34, 0.21374332346270045)]\n"
     ]
    }
   ],
   "source": [
    "#Here we load the inverted index of the description column\n",
    "with open(f\"data/description_tfIdf_inverted_index.pickle\", \"rb\") as f:\n",
    "                tf_idf_inverted_index = pickle.load(f)\n",
    "\n",
    "#As an example we can print the inverted index of the word \"data\" (at least the first 5 documents)\n",
    "print(tf_idf_inverted_index[2193][:5])\n"
   ]
  },
  {
   "cell_type": "markdown",
   "metadata": {},
   "source": [
    "#### **2.2.2 Execute the query**\n",
    "\n",
    "We can test our Search Engine by executing once again the query \"advanced knowledge\". To do this, we use our `TopKSearchEngine` class. In particular, the `query()` method of our `TopKSearchEngine` class:"
   ]
  },
  {
   "cell_type": "code",
   "execution_count": 18,
   "metadata": {},
   "outputs": [
    {
     "data": {
      "text/html": [
       "<div>\n",
       "<style scoped>\n",
       "    .dataframe tbody tr th:only-of-type {\n",
       "        vertical-align: middle;\n",
       "    }\n",
       "\n",
       "    .dataframe tbody tr th {\n",
       "        vertical-align: top;\n",
       "    }\n",
       "\n",
       "    .dataframe thead th {\n",
       "        text-align: right;\n",
       "    }\n",
       "</style>\n",
       "<table border=\"1\" class=\"dataframe\">\n",
       "  <thead>\n",
       "    <tr style=\"text-align: right;\">\n",
       "      <th></th>\n",
       "      <th>courseName</th>\n",
       "      <th>universityName</th>\n",
       "      <th>description</th>\n",
       "      <th>url</th>\n",
       "      <th>similarity</th>\n",
       "    </tr>\n",
       "  </thead>\n",
       "  <tbody>\n",
       "    <tr>\n",
       "      <th>651</th>\n",
       "      <td>Advanced Clinical Practice - MSc</td>\n",
       "      <td>Canterbury Christ Church University</td>\n",
       "      <td>Gain the knowledge and skills needed to become...</td>\n",
       "      <td>https://www.findamasters.com/masters-degrees/c...</td>\n",
       "      <td>0.343794</td>\n",
       "    </tr>\n",
       "    <tr>\n",
       "      <th>5242</th>\n",
       "      <td>Management and Digital Business (with Advanced...</td>\n",
       "      <td>Liverpool John Moores University</td>\n",
       "      <td>This Advanced Practice course provides an in-d...</td>\n",
       "      <td>https://www.findamasters.com/masters-degrees/c...</td>\n",
       "      <td>0.341632</td>\n",
       "    </tr>\n",
       "    <tr>\n",
       "      <th>753</th>\n",
       "      <td>Advanced Computing MSc</td>\n",
       "      <td>King’s College London</td>\n",
       "      <td>Our Advanced Computing MSc provides knowledge ...</td>\n",
       "      <td>https://www.findamasters.com/masters-degrees/c...</td>\n",
       "      <td>0.335160</td>\n",
       "    </tr>\n",
       "    <tr>\n",
       "      <th>857</th>\n",
       "      <td>Advanced Nurse Practitioner/Professional Pract...</td>\n",
       "      <td>University of the Highlands and Islands</td>\n",
       "      <td>Developed in partnership with expert clinical ...</td>\n",
       "      <td>https://www.findamasters.com/masters-degrees/c...</td>\n",
       "      <td>0.303509</td>\n",
       "    </tr>\n",
       "    <tr>\n",
       "      <th>698</th>\n",
       "      <td>Advanced Clinical Practice MSc</td>\n",
       "      <td>University of Greenwich</td>\n",
       "      <td>Develop your skills and deepen your knowledge ...</td>\n",
       "      <td>https://www.findamasters.com/masters-degrees/c...</td>\n",
       "      <td>0.296750</td>\n",
       "    </tr>\n",
       "  </tbody>\n",
       "</table>\n",
       "</div>"
      ],
      "text/plain": [
       "                                             courseName  \\\n",
       "651                    Advanced Clinical Practice - MSc   \n",
       "5242  Management and Digital Business (with Advanced...   \n",
       "753                              Advanced Computing MSc   \n",
       "857   Advanced Nurse Practitioner/Professional Pract...   \n",
       "698                      Advanced Clinical Practice MSc   \n",
       "\n",
       "                               universityName  \\\n",
       "651       Canterbury Christ Church University   \n",
       "5242         Liverpool John Moores University   \n",
       "753                     King’s College London   \n",
       "857   University of the Highlands and Islands   \n",
       "698                   University of Greenwich   \n",
       "\n",
       "                                            description  \\\n",
       "651   Gain the knowledge and skills needed to become...   \n",
       "5242  This Advanced Practice course provides an in-d...   \n",
       "753   Our Advanced Computing MSc provides knowledge ...   \n",
       "857   Developed in partnership with expert clinical ...   \n",
       "698   Develop your skills and deepen your knowledge ...   \n",
       "\n",
       "                                                    url  similarity  \n",
       "651   https://www.findamasters.com/masters-degrees/c...    0.343794  \n",
       "5242  https://www.findamasters.com/masters-degrees/c...    0.341632  \n",
       "753   https://www.findamasters.com/masters-degrees/c...    0.335160  \n",
       "857   https://www.findamasters.com/masters-degrees/c...    0.303509  \n",
       "698   https://www.findamasters.com/masters-degrees/c...    0.296750  "
      ]
     },
     "execution_count": 18,
     "metadata": {},
     "output_type": "execute_result"
    }
   ],
   "source": [
    "#First we initialize the TopKSearchEngine class by calling the constructor. In this step is when the vocabulary and the inverted index are created/saved or loaded into memory\n",
    "search_engine = TopKSearchEngine(data_preprocesser.dataset)\n",
    "#Here we call the .query() method to get the results of the query \"advanced knowledge\"\n",
    "result = search_engine.query(\"advanced knowledge\")\n",
    "#Here we print the first 5 results\n",
    "result\n"
   ]
  },
  {
   "cell_type": "markdown",
   "metadata": {},
   "source": [
    "----\n",
    "\n",
    "## 3. **Define a new score!**\n",
    "\n",
    "Can we do better? In our last implementation of our Search Engine we sorted our results by the **cosine similarity** of the TfIdf representation of their description column with respect to the TfIdf representation of the query. Nevertheless this doesn't take into account the following things:\n",
    "\n",
    "1. A particular course can be **more** similar to a particular query if it includes the query words **also** in other information fields. For example:\n",
    "\n",
    "     If we search for the query *\"engineering\"* we obtain a similarity measure of the results regarding the frequency of this word within the description of each document but we **ignore** if this words also appear say in the `courseName` or even the `facultyName` of the course. In many cases this would be the case since generally engineering courses are given by engineering schools and have engineering names.\n",
    "\n",
    "2. Users are generally more interested in finding courses in **places** they are interested in (cities, countries or even universities). Therefore our Search Engine could favour queries that include this data within their text. For example if we search \"engineering Rome\", we should define a similarity measure that favours engineering courses that indeed are taken in Rome.\n",
    "\n",
    "To this end we propose a **weighted** cosine similarity measure, that takes into account not only the `description` field of our documents, but also other main information fields (`courseName`, `facultyName`) and location fields (`universityName`, `country`, `city`). Our new similarity measure is defined as:\n",
    "\n",
    "\\begin{equation}\n",
    "\\text{similarity}(\\vec{d}, \\vec{q}) = \\frac{w_{\\text{context}}}{3}\\cdot \\left[\\text{cs}_{\\text{description}}(\\vec{d}, \\vec{q}) + \\text{cs}_{\\text{course}}(\\vec{d}, \\vec{q}) + \\text{cs}_{\\text{faculty}}(\\vec{d}, \\vec{q})\\right] + \\frac{w_{\\text{places}}}{3}\\cdot \\left[\\text{cs}_{\\text{university}}(\\vec{d}, \\vec{q}) + \\text{cs}_{\\text{country}}(\\vec{d}, \\vec{q}) + \\text{cs}_{\\text{city}}(\\vec{d}, \\vec{q})\\right],\n",
    "\\tag{3}\n",
    "\\end{equation}\n",
    "\n",
    "where $\\vec{d}$ and $\\vec{q}$ are the TfIdf representations of a given document and a query and the $1/3$ are normalization factors to keep the measure between 0 and 1. Let's explain this measure a little better:\n",
    "\n",
    "The purpose of the similarity measure defined in $(3)$ is give more (or less) weight to **main information** related characteristics (description, course name and faculty name) of a given document i.e. we want our similarity measure to take into account words that relate to the general information of a given course. In the same way, we want to give more (or less) weight to **location** related characteristics (university, country and city) in case the user wants to find courses in a particular place around the world.\n",
    "\n",
    "The choice of the weights is up to us and it depends on which characteristics we deem more relevant. In our case we decided to give more weight to the **location** related characteristics since as international students, finding Masters courses around the world is something we're very familiar with and we consider very important. This takes us to the final version of our equation:\n",
    "\n",
    "\\begin{equation}\n",
    "\\text{similarity}(\\vec{d}, \\vec{q}) = \\frac{1}{9}\\cdot \\left[\\text{cs}_{\\text{description}}(\\vec{d}, \\vec{q}) + \\text{cs}_{\\text{course}}(\\vec{d}, \\vec{q}) + \\text{cs}_{\\text{faculty}}(\\vec{d}, \\vec{q})\\right] + \\frac{2}{9}\\cdot \\left[\\text{cs}_{\\text{university}}(\\vec{d}, \\vec{q}) + \\text{cs}_{\\text{country}}(\\vec{d}, \\vec{q}) + \\text{cs}_{\\text{city}}(\\vec{d}, \\vec{q})\\right],\n",
    "\\tag{4}\n",
    "\\end{equation}\n",
    "\n",
    "where we defined $w_{\\text{context}} = 1/3$ and $w_{\\text{places}} = 2/3$. We can see that this measure favours location-related queries with respect to information-related queries and in case a word appears only in **one** column, this reduces to a scaled version of the original **cosine similarity** we used before.\n",
    "\n",
    ">**Note:** Since we are only defining a **new** similarity measure it is important to account that we're working with the vocabulary we built for the `description` column, therefore if a word in the query **doesn't** appear in the description field it doesn't matter if it is on the other fields, the Search Engine won't find a match. The purpose of the weighted similarity measure is to favour queries that appear in the description field **and** in other fields as well.\n",
    "\n",
    "### **3.1 Executing a location-based query**\n",
    "\n",
    "In order to test our brand new similarity measure, we created a custom-made Python class called `WeightedTopKSearchEngine`. This class implements a Search Engine that queries documents by their description and returns the documents that include **all** the words in the given query sorted by their **weighted cosine similarity** (defined above) with the query. This class inherits from the `TopKSearchEngine` parent class and has the same method:\n",
    "\n",
    "- `query()`. Function that queries the dataset and returns the documents that contain all the words in a given text query sorted by their weighted cosine similarity. \n",
    "\n",
    "For more information about the **implementation** of this class and method, please refer to the corresponding `search_engine.py` file contained in the `modules` directory of our repository.\n",
    "\n",
    "First, we can test our Search Engine by executing a location-based query: \"engineering London\". If our assumptions are correct, this `WeightedTopKSearchEngine` should sort in a better way the documents than its \"simpler\" version, the `TopKSearchEngine`. To do this, we can use the `query()` method of our `WeightedTopKSearchEngine` class:"
   ]
  },
  {
   "cell_type": "code",
   "execution_count": 10,
   "metadata": {},
   "outputs": [
    {
     "data": {
      "text/html": [
       "<div>\n",
       "<style scoped>\n",
       "    .dataframe tbody tr th:only-of-type {\n",
       "        vertical-align: middle;\n",
       "    }\n",
       "\n",
       "    .dataframe tbody tr th {\n",
       "        vertical-align: top;\n",
       "    }\n",
       "\n",
       "    .dataframe thead th {\n",
       "        text-align: right;\n",
       "    }\n",
       "</style>\n",
       "<table border=\"1\" class=\"dataframe\">\n",
       "  <thead>\n",
       "    <tr style=\"text-align: right;\">\n",
       "      <th></th>\n",
       "      <th>courseName</th>\n",
       "      <th>universityName</th>\n",
       "      <th>description</th>\n",
       "      <th>url</th>\n",
       "      <th>similarity</th>\n",
       "    </tr>\n",
       "  </thead>\n",
       "  <tbody>\n",
       "    <tr>\n",
       "      <th>1928</th>\n",
       "      <td>Civil Engineering MSc</td>\n",
       "      <td>University of East London</td>\n",
       "      <td>Our MSc Civil Engineering degree will develop ...</td>\n",
       "      <td>https://www.findamasters.com/masters-degrees/c...</td>\n",
       "      <td>0.220554</td>\n",
       "    </tr>\n",
       "    <tr>\n",
       "      <th>4085</th>\n",
       "      <td>Global Innovation Design - MA/MSc</td>\n",
       "      <td>Imperial College London</td>\n",
       "      <td>Global Innovation Design is a joint Master's d...</td>\n",
       "      <td>https://www.findamasters.com/masters-degrees/c...</td>\n",
       "      <td>0.172554</td>\n",
       "    </tr>\n",
       "    <tr>\n",
       "      <th>4555</th>\n",
       "      <td>Innovation Design Engineering MA/MSc</td>\n",
       "      <td>Royal College of Art</td>\n",
       "      <td>The MA/ MSc Innovation Design Engineering (IDE...</td>\n",
       "      <td>https://www.findamasters.com/masters-degrees/c...</td>\n",
       "      <td>0.156729</td>\n",
       "    </tr>\n",
       "    <tr>\n",
       "      <th>5089</th>\n",
       "      <td>Lightweight Structures and Impact Engineering MSc</td>\n",
       "      <td>Brunel University London</td>\n",
       "      <td>NSIRC industry scholarships are available. Del...</td>\n",
       "      <td>https://www.findamasters.com/masters-degrees/c...</td>\n",
       "      <td>0.148807</td>\n",
       "    </tr>\n",
       "    <tr>\n",
       "      <th>2927</th>\n",
       "      <td>Disability, Design and Innovation MSc</td>\n",
       "      <td>University College London</td>\n",
       "      <td>Become a pioneer in disability innovation and ...</td>\n",
       "      <td>https://www.findamasters.com/masters-degrees/c...</td>\n",
       "      <td>0.146027</td>\n",
       "    </tr>\n",
       "  </tbody>\n",
       "</table>\n",
       "</div>"
      ],
      "text/plain": [
       "                                             courseName  \\\n",
       "1928                              Civil Engineering MSc   \n",
       "4085                  Global Innovation Design - MA/MSc   \n",
       "4555               Innovation Design Engineering MA/MSc   \n",
       "5089  Lightweight Structures and Impact Engineering MSc   \n",
       "2927              Disability, Design and Innovation MSc   \n",
       "\n",
       "                 universityName  \\\n",
       "1928  University of East London   \n",
       "4085    Imperial College London   \n",
       "4555       Royal College of Art   \n",
       "5089   Brunel University London   \n",
       "2927  University College London   \n",
       "\n",
       "                                            description  \\\n",
       "1928  Our MSc Civil Engineering degree will develop ...   \n",
       "4085  Global Innovation Design is a joint Master's d...   \n",
       "4555  The MA/ MSc Innovation Design Engineering (IDE...   \n",
       "5089  NSIRC industry scholarships are available. Del...   \n",
       "2927  Become a pioneer in disability innovation and ...   \n",
       "\n",
       "                                                    url  similarity  \n",
       "1928  https://www.findamasters.com/masters-degrees/c...    0.220554  \n",
       "4085  https://www.findamasters.com/masters-degrees/c...    0.172554  \n",
       "4555  https://www.findamasters.com/masters-degrees/c...    0.156729  \n",
       "5089  https://www.findamasters.com/masters-degrees/c...    0.148807  \n",
       "2927  https://www.findamasters.com/masters-degrees/c...    0.146027  "
      ]
     },
     "execution_count": 10,
     "metadata": {},
     "output_type": "execute_result"
    }
   ],
   "source": [
    "#Here we initialize the WeightedTopKSearchEngine class by calling the constructor. \n",
    "search_engine = WeightedTopKSearchEngine(data_preprocesser.dataset)\n",
    "#Here we call the .query() method to get the results of the query \"engineering London\"\n",
    "result = search_engine.query(\"engineering London\")\n",
    "#Here we print the first 5 results\n",
    "result\n"
   ]
  },
  {
   "cell_type": "markdown",
   "metadata": {},
   "source": [
    "If we compare the results of this query with the same query applied to the `TopKSearchEngine` class, we can see that:"
   ]
  },
  {
   "cell_type": "code",
   "execution_count": 11,
   "metadata": {},
   "outputs": [
    {
     "data": {
      "text/html": [
       "<div>\n",
       "<style scoped>\n",
       "    .dataframe tbody tr th:only-of-type {\n",
       "        vertical-align: middle;\n",
       "    }\n",
       "\n",
       "    .dataframe tbody tr th {\n",
       "        vertical-align: top;\n",
       "    }\n",
       "\n",
       "    .dataframe thead th {\n",
       "        text-align: right;\n",
       "    }\n",
       "</style>\n",
       "<table border=\"1\" class=\"dataframe\">\n",
       "  <thead>\n",
       "    <tr style=\"text-align: right;\">\n",
       "      <th></th>\n",
       "      <th>courseName</th>\n",
       "      <th>universityName</th>\n",
       "      <th>description</th>\n",
       "      <th>url</th>\n",
       "      <th>similarity</th>\n",
       "    </tr>\n",
       "  </thead>\n",
       "  <tbody>\n",
       "    <tr>\n",
       "      <th>1928</th>\n",
       "      <td>Civil Engineering MSc</td>\n",
       "      <td>University of East London</td>\n",
       "      <td>Our MSc Civil Engineering degree will develop ...</td>\n",
       "      <td>https://www.findamasters.com/masters-degrees/c...</td>\n",
       "      <td>0.324583</td>\n",
       "    </tr>\n",
       "    <tr>\n",
       "      <th>4555</th>\n",
       "      <td>Innovation Design Engineering MA/MSc</td>\n",
       "      <td>Royal College of Art</td>\n",
       "      <td>The MA/ MSc Innovation Design Engineering (IDE...</td>\n",
       "      <td>https://www.findamasters.com/masters-degrees/c...</td>\n",
       "      <td>0.295204</td>\n",
       "    </tr>\n",
       "    <tr>\n",
       "      <th>2927</th>\n",
       "      <td>Disability, Design and Innovation MSc</td>\n",
       "      <td>University College London</td>\n",
       "      <td>Become a pioneer in disability innovation and ...</td>\n",
       "      <td>https://www.findamasters.com/masters-degrees/c...</td>\n",
       "      <td>0.260738</td>\n",
       "    </tr>\n",
       "    <tr>\n",
       "      <th>5184</th>\n",
       "      <td>Machine Learning and Data Science (Online) - MSc</td>\n",
       "      <td>Imperial College London</td>\n",
       "      <td>This Master's course aims to accelerate your c...</td>\n",
       "      <td>https://www.findamasters.com/masters-degrees/c...</td>\n",
       "      <td>0.161661</td>\n",
       "    </tr>\n",
       "    <tr>\n",
       "      <th>4085</th>\n",
       "      <td>Global Innovation Design - MA/MSc</td>\n",
       "      <td>Imperial College London</td>\n",
       "      <td>Global Innovation Design is a joint Master's d...</td>\n",
       "      <td>https://www.findamasters.com/masters-degrees/c...</td>\n",
       "      <td>0.147866</td>\n",
       "    </tr>\n",
       "  </tbody>\n",
       "</table>\n",
       "</div>"
      ],
      "text/plain": [
       "                                            courseName  \\\n",
       "1928                             Civil Engineering MSc   \n",
       "4555              Innovation Design Engineering MA/MSc   \n",
       "2927             Disability, Design and Innovation MSc   \n",
       "5184  Machine Learning and Data Science (Online) - MSc   \n",
       "4085                 Global Innovation Design - MA/MSc   \n",
       "\n",
       "                 universityName  \\\n",
       "1928  University of East London   \n",
       "4555       Royal College of Art   \n",
       "2927  University College London   \n",
       "5184    Imperial College London   \n",
       "4085    Imperial College London   \n",
       "\n",
       "                                            description  \\\n",
       "1928  Our MSc Civil Engineering degree will develop ...   \n",
       "4555  The MA/ MSc Innovation Design Engineering (IDE...   \n",
       "2927  Become a pioneer in disability innovation and ...   \n",
       "5184  This Master's course aims to accelerate your c...   \n",
       "4085  Global Innovation Design is a joint Master's d...   \n",
       "\n",
       "                                                    url  similarity  \n",
       "1928  https://www.findamasters.com/masters-degrees/c...    0.324583  \n",
       "4555  https://www.findamasters.com/masters-degrees/c...    0.295204  \n",
       "2927  https://www.findamasters.com/masters-degrees/c...    0.260738  \n",
       "5184  https://www.findamasters.com/masters-degrees/c...    0.161661  \n",
       "4085  https://www.findamasters.com/masters-degrees/c...    0.147866  "
      ]
     },
     "execution_count": 11,
     "metadata": {},
     "output_type": "execute_result"
    }
   ],
   "source": [
    "#Here we initialize the WeightedTopKSearchEngine class by calling the constructor. \n",
    "search_engine = TopKSearchEngine(data_preprocesser.dataset)\n",
    "#Here we call the .query() method to get the results of the query \"engineering London\"\n",
    "result = search_engine.query(\"engineering London\")\n",
    "#Here we print the first 5 results\n",
    "result\n"
   ]
  },
  {
   "cell_type": "markdown",
   "metadata": {},
   "source": [
    "From this we can conclude the following:\n",
    "\n",
    "- Similarity values are generally **lower** for our custom similarity measure than the original cosine similarity. This is expected since we're taking into account more parameters and therefore if a word doesn't exist in **all** of them, values will be gradually lower.\n",
    "\n",
    "- Our similarity approach indeed favours courses where locations are mentioned throughout the name, faculty, description, etc. As we can see, the Search Engine with our custom-made similarity almost always returns courses where the name has *\"engineering\"* in it and the university has the word *\"London\"* in it. Nevertheless we can see that results are not that far away for both Search Engines, suggesting that maybe we could just stick with the original similarity approach and we would obtain similar results.\n",
    "\n",
    "### **3.2 Executing a non-location-based query**\n",
    "\n",
    "Now, we can test the other way around, a query that doesn't include location information and just wants to find a course by some keywords. We could use our previous query: \"advanced knowledge\" and see what we obtain:"
   ]
  },
  {
   "cell_type": "code",
   "execution_count": 12,
   "metadata": {},
   "outputs": [
    {
     "data": {
      "text/html": [
       "<div>\n",
       "<style scoped>\n",
       "    .dataframe tbody tr th:only-of-type {\n",
       "        vertical-align: middle;\n",
       "    }\n",
       "\n",
       "    .dataframe tbody tr th {\n",
       "        vertical-align: top;\n",
       "    }\n",
       "\n",
       "    .dataframe thead th {\n",
       "        text-align: right;\n",
       "    }\n",
       "</style>\n",
       "<table border=\"1\" class=\"dataframe\">\n",
       "  <thead>\n",
       "    <tr style=\"text-align: right;\">\n",
       "      <th></th>\n",
       "      <th>courseName</th>\n",
       "      <th>universityName</th>\n",
       "      <th>description</th>\n",
       "      <th>url</th>\n",
       "      <th>similarity</th>\n",
       "    </tr>\n",
       "  </thead>\n",
       "  <tbody>\n",
       "    <tr>\n",
       "      <th>712</th>\n",
       "      <td>Advanced Clinical Practitioner Master's Degree...</td>\n",
       "      <td>Brunel University London</td>\n",
       "      <td>The Advanced Clinical Practice Apprenticeship ...</td>\n",
       "      <td>https://www.findamasters.com/masters-degrees/c...</td>\n",
       "      <td>0.076331</td>\n",
       "    </tr>\n",
       "    <tr>\n",
       "      <th>651</th>\n",
       "      <td>Advanced Clinical Practice - MSc</td>\n",
       "      <td>Canterbury Christ Church University</td>\n",
       "      <td>Gain the knowledge and skills needed to become...</td>\n",
       "      <td>https://www.findamasters.com/masters-degrees/c...</td>\n",
       "      <td>0.069608</td>\n",
       "    </tr>\n",
       "    <tr>\n",
       "      <th>753</th>\n",
       "      <td>Advanced Computing MSc</td>\n",
       "      <td>King’s College London</td>\n",
       "      <td>Our Advanced Computing MSc provides knowledge ...</td>\n",
       "      <td>https://www.findamasters.com/masters-degrees/c...</td>\n",
       "      <td>0.069516</td>\n",
       "    </tr>\n",
       "    <tr>\n",
       "      <th>698</th>\n",
       "      <td>Advanced Clinical Practice MSc</td>\n",
       "      <td>University of Greenwich</td>\n",
       "      <td>Develop your skills and deepen your knowledge ...</td>\n",
       "      <td>https://www.findamasters.com/masters-degrees/c...</td>\n",
       "      <td>0.064381</td>\n",
       "    </tr>\n",
       "    <tr>\n",
       "      <th>857</th>\n",
       "      <td>Advanced Nurse Practitioner/Professional Pract...</td>\n",
       "      <td>University of the Highlands and Islands</td>\n",
       "      <td>Developed in partnership with expert clinical ...</td>\n",
       "      <td>https://www.findamasters.com/masters-degrees/c...</td>\n",
       "      <td>0.058131</td>\n",
       "    </tr>\n",
       "  </tbody>\n",
       "</table>\n",
       "</div>"
      ],
      "text/plain": [
       "                                            courseName  \\\n",
       "712  Advanced Clinical Practitioner Master's Degree...   \n",
       "651                   Advanced Clinical Practice - MSc   \n",
       "753                             Advanced Computing MSc   \n",
       "698                     Advanced Clinical Practice MSc   \n",
       "857  Advanced Nurse Practitioner/Professional Pract...   \n",
       "\n",
       "                              universityName  \\\n",
       "712                 Brunel University London   \n",
       "651      Canterbury Christ Church University   \n",
       "753                    King’s College London   \n",
       "698                  University of Greenwich   \n",
       "857  University of the Highlands and Islands   \n",
       "\n",
       "                                           description  \\\n",
       "712  The Advanced Clinical Practice Apprenticeship ...   \n",
       "651  Gain the knowledge and skills needed to become...   \n",
       "753  Our Advanced Computing MSc provides knowledge ...   \n",
       "698  Develop your skills and deepen your knowledge ...   \n",
       "857  Developed in partnership with expert clinical ...   \n",
       "\n",
       "                                                   url  similarity  \n",
       "712  https://www.findamasters.com/masters-degrees/c...    0.076331  \n",
       "651  https://www.findamasters.com/masters-degrees/c...    0.069608  \n",
       "753  https://www.findamasters.com/masters-degrees/c...    0.069516  \n",
       "698  https://www.findamasters.com/masters-degrees/c...    0.064381  \n",
       "857  https://www.findamasters.com/masters-degrees/c...    0.058131  "
      ]
     },
     "execution_count": 12,
     "metadata": {},
     "output_type": "execute_result"
    }
   ],
   "source": [
    "#Here we initialize the WeightedTopKSearchEngine class by calling the constructor. \n",
    "search_engine = WeightedTopKSearchEngine(data_preprocesser.dataset)\n",
    "#Here we call the .query() method to get the results of the query \"advanced knowledge\"\n",
    "result = search_engine.query(\"advanced knowledge\")\n",
    "#Here we print the first 5 results\n",
    "result\n"
   ]
  },
  {
   "cell_type": "markdown",
   "metadata": {},
   "source": [
    "Now for our benchmark Search Engine:"
   ]
  },
  {
   "cell_type": "code",
   "execution_count": 13,
   "metadata": {},
   "outputs": [
    {
     "data": {
      "text/html": [
       "<div>\n",
       "<style scoped>\n",
       "    .dataframe tbody tr th:only-of-type {\n",
       "        vertical-align: middle;\n",
       "    }\n",
       "\n",
       "    .dataframe tbody tr th {\n",
       "        vertical-align: top;\n",
       "    }\n",
       "\n",
       "    .dataframe thead th {\n",
       "        text-align: right;\n",
       "    }\n",
       "</style>\n",
       "<table border=\"1\" class=\"dataframe\">\n",
       "  <thead>\n",
       "    <tr style=\"text-align: right;\">\n",
       "      <th></th>\n",
       "      <th>courseName</th>\n",
       "      <th>universityName</th>\n",
       "      <th>description</th>\n",
       "      <th>url</th>\n",
       "      <th>similarity</th>\n",
       "    </tr>\n",
       "  </thead>\n",
       "  <tbody>\n",
       "    <tr>\n",
       "      <th>651</th>\n",
       "      <td>Advanced Clinical Practice - MSc</td>\n",
       "      <td>Canterbury Christ Church University</td>\n",
       "      <td>Gain the knowledge and skills needed to become...</td>\n",
       "      <td>https://www.findamasters.com/masters-degrees/c...</td>\n",
       "      <td>0.343794</td>\n",
       "    </tr>\n",
       "    <tr>\n",
       "      <th>5242</th>\n",
       "      <td>Management and Digital Business (with Advanced...</td>\n",
       "      <td>Liverpool John Moores University</td>\n",
       "      <td>This Advanced Practice course provides an in-d...</td>\n",
       "      <td>https://www.findamasters.com/masters-degrees/c...</td>\n",
       "      <td>0.341632</td>\n",
       "    </tr>\n",
       "    <tr>\n",
       "      <th>753</th>\n",
       "      <td>Advanced Computing MSc</td>\n",
       "      <td>King’s College London</td>\n",
       "      <td>Our Advanced Computing MSc provides knowledge ...</td>\n",
       "      <td>https://www.findamasters.com/masters-degrees/c...</td>\n",
       "      <td>0.335160</td>\n",
       "    </tr>\n",
       "    <tr>\n",
       "      <th>857</th>\n",
       "      <td>Advanced Nurse Practitioner/Professional Pract...</td>\n",
       "      <td>University of the Highlands and Islands</td>\n",
       "      <td>Developed in partnership with expert clinical ...</td>\n",
       "      <td>https://www.findamasters.com/masters-degrees/c...</td>\n",
       "      <td>0.303509</td>\n",
       "    </tr>\n",
       "    <tr>\n",
       "      <th>698</th>\n",
       "      <td>Advanced Clinical Practice MSc</td>\n",
       "      <td>University of Greenwich</td>\n",
       "      <td>Develop your skills and deepen your knowledge ...</td>\n",
       "      <td>https://www.findamasters.com/masters-degrees/c...</td>\n",
       "      <td>0.296750</td>\n",
       "    </tr>\n",
       "  </tbody>\n",
       "</table>\n",
       "</div>"
      ],
      "text/plain": [
       "                                             courseName  \\\n",
       "651                    Advanced Clinical Practice - MSc   \n",
       "5242  Management and Digital Business (with Advanced...   \n",
       "753                              Advanced Computing MSc   \n",
       "857   Advanced Nurse Practitioner/Professional Pract...   \n",
       "698                      Advanced Clinical Practice MSc   \n",
       "\n",
       "                               universityName  \\\n",
       "651       Canterbury Christ Church University   \n",
       "5242         Liverpool John Moores University   \n",
       "753                     King’s College London   \n",
       "857   University of the Highlands and Islands   \n",
       "698                   University of Greenwich   \n",
       "\n",
       "                                            description  \\\n",
       "651   Gain the knowledge and skills needed to become...   \n",
       "5242  This Advanced Practice course provides an in-d...   \n",
       "753   Our Advanced Computing MSc provides knowledge ...   \n",
       "857   Developed in partnership with expert clinical ...   \n",
       "698   Develop your skills and deepen your knowledge ...   \n",
       "\n",
       "                                                    url  similarity  \n",
       "651   https://www.findamasters.com/masters-degrees/c...    0.343794  \n",
       "5242  https://www.findamasters.com/masters-degrees/c...    0.341632  \n",
       "753   https://www.findamasters.com/masters-degrees/c...    0.335160  \n",
       "857   https://www.findamasters.com/masters-degrees/c...    0.303509  \n",
       "698   https://www.findamasters.com/masters-degrees/c...    0.296750  "
      ]
     },
     "execution_count": 13,
     "metadata": {},
     "output_type": "execute_result"
    }
   ],
   "source": [
    "#Here we initialize the WeightedTopKSearchEngine class by calling the constructor. \n",
    "search_engine = TopKSearchEngine(data_preprocesser.dataset)\n",
    "#Here we call the .query() method to get the results of the query \"advanced knowledge\"\n",
    "result = search_engine.query(\"advanced knowledge\")\n",
    "#Here we print the first 5 results\n",
    "result\n"
   ]
  },
  {
   "cell_type": "markdown",
   "metadata": {},
   "source": [
    "From this we can observe the following:\n",
    "\n",
    "- Similarity values **decrease** in an important way. We assume that since \"advanced knowledge\" is a query that cannot be generally found in location-based fields of our document, our similarity measure reflects this by giving very low similarity values for this given query.\n",
    "\n",
    "\n",
    "- Our similarity approach returns documents that contain also \"advanced knowledge\" within their names, university names, etc. In this case this is not really convenient since we would want to find courses that provide us with \"advanced knowledge\" and not courses that contain \"advanced\" in other fields of the document. In conclusions, context is important for this approach to work well.\n",
    "\n",
    "We can generally conclude that our approach presents us with **better** results when querying locations or specific information details like university names. Nevertheless it has a lot of weakness when providing results for general queries like we showed above. Although we cannot say our approach is better than the original approach, we can say that it works better in specific contexts.\n",
    "\n",
    "----\n",
    "\n",
    "## **4. Visualizing the most relevant MSc degrees**\n",
    "\n",
    "Using maps can help people understand how far one university is from another so they can plan their academic careers more adequately. Therefore in this part we were asked to show a map of the courses found with our score defined in **Section 3**. To do this we performed the following process:\n",
    "\n",
    "1. Once we obtained the results from our Search Engine we added extra-information of these courses we wanted to show on our plot to our resulting DataFrame. This extra information is shown when **hovering** over a point (course) in our map and includes:\n",
    "\n",
    "    - `courseName`\n",
    "    - `universityName`\n",
    "    - `facultyName`\n",
    "    - `fees`\n",
    "    \n",
    "    - `duration`\n",
    "\n",
    "2. Along with this information we obtained the **geographical** information (longitude and latitude) of each course within our results. To do this we performed the following steps:\n",
    "\n",
    "    - We built a new column called `fullAddress` made of the sum of the `facultyName`, `universityName`, `city` and `country` columns. For example, a value of this column could be: \"Engineering School, London University, London, United Kingdom\".\n",
    "\n",
    "    - Once we've built this new column we proceeded to obtain the longitude and latitude of each `fullAddress` value by calling the Google Maps API and obtaining this information. We stored it in new columns called `lat` and `long`.\n",
    "\n",
    "    - Finally we used all this information to build a map using the Plotly Express package.\n",
    "\n",
    "To do this we built a custom-made class called `Map Plotter`. This class plots a map containing the most similar courses found with the SearchEngine class. It do this using the following method:\n",
    "\n",
    "- `plot()`: Function that plots the map with the most similar courses found.\n",
    "\n",
    "For more information about the **implementation** of this class and method, please refer to their corresponding `map_plotter.py` file contained in the `modules` directory of our repository. We can make an example using the results of our Search Engine that sorts results by their **weighted** cosine similarity. Using the results obtained before:\n",
    "    \n"
   ]
  },
  {
   "cell_type": "code",
   "execution_count": 7,
   "metadata": {},
   "outputs": [
    {
     "data": {
      "text/html": [
       "<div>\n",
       "<style scoped>\n",
       "    .dataframe tbody tr th:only-of-type {\n",
       "        vertical-align: middle;\n",
       "    }\n",
       "\n",
       "    .dataframe tbody tr th {\n",
       "        vertical-align: top;\n",
       "    }\n",
       "\n",
       "    .dataframe thead th {\n",
       "        text-align: right;\n",
       "    }\n",
       "</style>\n",
       "<table border=\"1\" class=\"dataframe\">\n",
       "  <thead>\n",
       "    <tr style=\"text-align: right;\">\n",
       "      <th></th>\n",
       "      <th>courseName</th>\n",
       "      <th>universityName</th>\n",
       "      <th>description</th>\n",
       "      <th>url</th>\n",
       "      <th>similarity</th>\n",
       "    </tr>\n",
       "  </thead>\n",
       "  <tbody>\n",
       "    <tr>\n",
       "      <th>1928</th>\n",
       "      <td>Civil Engineering MSc</td>\n",
       "      <td>University of East London</td>\n",
       "      <td>Our MSc Civil Engineering degree will develop ...</td>\n",
       "      <td>https://www.findamasters.com/masters-degrees/c...</td>\n",
       "      <td>0.220554</td>\n",
       "    </tr>\n",
       "    <tr>\n",
       "      <th>4085</th>\n",
       "      <td>Global Innovation Design - MA/MSc</td>\n",
       "      <td>Imperial College London</td>\n",
       "      <td>Global Innovation Design is a joint Master's d...</td>\n",
       "      <td>https://www.findamasters.com/masters-degrees/c...</td>\n",
       "      <td>0.172554</td>\n",
       "    </tr>\n",
       "    <tr>\n",
       "      <th>4555</th>\n",
       "      <td>Innovation Design Engineering MA/MSc</td>\n",
       "      <td>Royal College of Art</td>\n",
       "      <td>The MA/ MSc Innovation Design Engineering (IDE...</td>\n",
       "      <td>https://www.findamasters.com/masters-degrees/c...</td>\n",
       "      <td>0.156729</td>\n",
       "    </tr>\n",
       "    <tr>\n",
       "      <th>5089</th>\n",
       "      <td>Lightweight Structures and Impact Engineering MSc</td>\n",
       "      <td>Brunel University London</td>\n",
       "      <td>NSIRC industry scholarships are available. Del...</td>\n",
       "      <td>https://www.findamasters.com/masters-degrees/c...</td>\n",
       "      <td>0.148807</td>\n",
       "    </tr>\n",
       "    <tr>\n",
       "      <th>2927</th>\n",
       "      <td>Disability, Design and Innovation MSc</td>\n",
       "      <td>University College London</td>\n",
       "      <td>Become a pioneer in disability innovation and ...</td>\n",
       "      <td>https://www.findamasters.com/masters-degrees/c...</td>\n",
       "      <td>0.146027</td>\n",
       "    </tr>\n",
       "  </tbody>\n",
       "</table>\n",
       "</div>"
      ],
      "text/plain": [
       "                                             courseName  \\\n",
       "1928                              Civil Engineering MSc   \n",
       "4085                  Global Innovation Design - MA/MSc   \n",
       "4555               Innovation Design Engineering MA/MSc   \n",
       "5089  Lightweight Structures and Impact Engineering MSc   \n",
       "2927              Disability, Design and Innovation MSc   \n",
       "\n",
       "                 universityName  \\\n",
       "1928  University of East London   \n",
       "4085    Imperial College London   \n",
       "4555       Royal College of Art   \n",
       "5089   Brunel University London   \n",
       "2927  University College London   \n",
       "\n",
       "                                            description  \\\n",
       "1928  Our MSc Civil Engineering degree will develop ...   \n",
       "4085  Global Innovation Design is a joint Master's d...   \n",
       "4555  The MA/ MSc Innovation Design Engineering (IDE...   \n",
       "5089  NSIRC industry scholarships are available. Del...   \n",
       "2927  Become a pioneer in disability innovation and ...   \n",
       "\n",
       "                                                    url  similarity  \n",
       "1928  https://www.findamasters.com/masters-degrees/c...    0.220554  \n",
       "4085  https://www.findamasters.com/masters-degrees/c...    0.172554  \n",
       "4555  https://www.findamasters.com/masters-degrees/c...    0.156729  \n",
       "5089  https://www.findamasters.com/masters-degrees/c...    0.148807  \n",
       "2927  https://www.findamasters.com/masters-degrees/c...    0.146027  "
      ]
     },
     "execution_count": 7,
     "metadata": {},
     "output_type": "execute_result"
    }
   ],
   "source": [
    "#Here we initialize the WeightedTopKSearchEngine class by calling the constructor. \n",
    "search_engine = WeightedTopKSearchEngine(data_preprocesser.dataset)\n",
    "#Here we call the .query() method to get the results of the query \"engineering London\"\n",
    "result = search_engine.query(\"engineering London\")\n",
    "#Here we print the first 5 results\n",
    "result\n"
   ]
  },
  {
   "cell_type": "markdown",
   "metadata": {},
   "source": [
    "We obtain the following map:"
   ]
  },
  {
   "cell_type": "code",
   "execution_count": 8,
   "metadata": {},
   "outputs": [
    {
     "data": {
      "application/vnd.plotly.v1+json": {
       "config": {
        "plotlyServerURL": "https://plot.ly"
       },
       "data": [
        {
         "customdata": [
          [
           "University of East London",
           "School of Architecture, Computing and Engineering",
           "Please see the university website for further information on fees for this course.",
           "See programme description"
          ],
          [
           "Imperial College London",
           "Dyson School of Design Engineering",
           "Please see the university website for further information on fees for this course.",
           "21 months full-time"
          ],
          [
           "Royal College of Art",
           "Postgraduate Courses",
           "Please see the university website for further information on fees for this course.",
           "2 years full time"
          ],
          [
           "Brunel University London",
           "National Structural Integrity Research Centre (NSIRC), Cambridge",
           "Please see the university website for further information on fees for this course.",
           "Full time: 1 year | Part time: 2 years"
          ],
          [
           "University College London",
           "Department of Computer Science",
           "Full time - £18,000",
           "1 year full time"
          ]
         ],
         "hovertemplate": "%{hovertext}<br>University: %{customdata[0]}<br>Faculty: %{customdata[1]}<br>Fees: %{customdata[2]}<br>Duration: %{customdata[3]}",
         "hovertext": [
          "Civil Engineering MSc",
          "Global Innovation Design - MA/MSc",
          "Innovation Design Engineering MA/MSc",
          "Lightweight Structures and Impact Engineering MSc",
          "Disability, Design and Innovation MSc"
         ],
         "lat": [
          51.5297522,
          51.4979591,
          51.5011441,
          51.5321389,
          51.498947
         ],
         "legendgroup": "",
         "lon": [
          -0.06925239999999999,
          -0.1744928,
          -0.1792847,
          -0.4727493,
          -0.1791185
         ],
         "marker": {
          "color": [
           null,
           null,
           null,
           null,
           20652.86
          ],
          "coloraxis": "coloraxis",
          "opacity": 0.7,
          "size": [
           0.22055362833061953,
           0.17255356442575726,
           0.15672878301114082,
           0.14880694009753065,
           0.14602714083785515
          ],
          "sizemode": "area",
          "sizeref": 0.0005513840708265489
         },
         "mode": "markers",
         "name": "",
         "showlegend": false,
         "subplot": "mapbox",
         "type": "scattermapbox"
        }
       ],
       "layout": {
        "coloraxis": {
         "cmax": 92937.869,
         "cmin": 64.253,
         "colorbar": {
          "orientation": "v",
          "tickfont": {
           "color": "black",
           "size": 14
          },
          "title": {
           "font": {
            "color": "black",
            "size": 18
           },
           "text": "Fees (EUR)"
          },
          "x": -5,
          "y": 0.5
         },
         "colorscale": [
          [
           0,
           "#30123b"
          ],
          [
           0.07142857142857142,
           "#4145ab"
          ],
          [
           0.14285714285714285,
           "#4675ed"
          ],
          [
           0.21428571428571427,
           "#39a2fc"
          ],
          [
           0.2857142857142857,
           "#1bcfd4"
          ],
          [
           0.35714285714285715,
           "#24eca6"
          ],
          [
           0.42857142857142855,
           "#61fc6c"
          ],
          [
           0.5,
           "#a4fc3b"
          ],
          [
           0.5714285714285714,
           "#d1e834"
          ],
          [
           0.6428571428571429,
           "#f3c63a"
          ],
          [
           0.7142857142857143,
           "#fe9b2d"
          ],
          [
           0.7857142857142857,
           "#f36315"
          ],
          [
           0.8571428571428571,
           "#d93806"
          ],
          [
           0.9285714285714286,
           "#b11901"
          ],
          [
           1,
           "#7a0402"
          ]
         ]
        },
        "height": 600,
        "hovermode": "closest",
        "legend": {
         "itemsizing": "constant",
         "tracegroupgap": 0
        },
        "mapbox": {
         "accesstoken": "pk.eyJ1IjoibXNhbmNvciIsImEiOiJjbHBjaTE2cHcwN3dhMmtscGJvNDY5dzQxIn0.2FmfU7Rx0POHuL2dcLGtlw",
         "center": {
          "lat": 51.511988259999995,
          "lon": -0.21497954
         },
         "domain": {
          "x": [
           0,
           1
          ],
          "y": [
           0,
           1
          ]
         },
         "style": "light",
         "zoom": 8
        },
        "margin": {
         "b": 0,
         "l": 0,
         "r": 0,
         "t": 50
        },
        "paper_bgcolor": "rgba(0,0,0,0)",
        "plot_bgcolor": "rgba(0,0,0,0)",
        "template": {
         "data": {
          "bar": [
           {
            "error_x": {
             "color": "#2a3f5f"
            },
            "error_y": {
             "color": "#2a3f5f"
            },
            "marker": {
             "line": {
              "color": "#E5ECF6",
              "width": 0.5
             },
             "pattern": {
              "fillmode": "overlay",
              "size": 10,
              "solidity": 0.2
             }
            },
            "type": "bar"
           }
          ],
          "barpolar": [
           {
            "marker": {
             "line": {
              "color": "#E5ECF6",
              "width": 0.5
             },
             "pattern": {
              "fillmode": "overlay",
              "size": 10,
              "solidity": 0.2
             }
            },
            "type": "barpolar"
           }
          ],
          "carpet": [
           {
            "aaxis": {
             "endlinecolor": "#2a3f5f",
             "gridcolor": "white",
             "linecolor": "white",
             "minorgridcolor": "white",
             "startlinecolor": "#2a3f5f"
            },
            "baxis": {
             "endlinecolor": "#2a3f5f",
             "gridcolor": "white",
             "linecolor": "white",
             "minorgridcolor": "white",
             "startlinecolor": "#2a3f5f"
            },
            "type": "carpet"
           }
          ],
          "choropleth": [
           {
            "colorbar": {
             "outlinewidth": 0,
             "ticks": ""
            },
            "type": "choropleth"
           }
          ],
          "contour": [
           {
            "colorbar": {
             "outlinewidth": 0,
             "ticks": ""
            },
            "colorscale": [
             [
              0,
              "#0d0887"
             ],
             [
              0.1111111111111111,
              "#46039f"
             ],
             [
              0.2222222222222222,
              "#7201a8"
             ],
             [
              0.3333333333333333,
              "#9c179e"
             ],
             [
              0.4444444444444444,
              "#bd3786"
             ],
             [
              0.5555555555555556,
              "#d8576b"
             ],
             [
              0.6666666666666666,
              "#ed7953"
             ],
             [
              0.7777777777777778,
              "#fb9f3a"
             ],
             [
              0.8888888888888888,
              "#fdca26"
             ],
             [
              1,
              "#f0f921"
             ]
            ],
            "type": "contour"
           }
          ],
          "contourcarpet": [
           {
            "colorbar": {
             "outlinewidth": 0,
             "ticks": ""
            },
            "type": "contourcarpet"
           }
          ],
          "heatmap": [
           {
            "colorbar": {
             "outlinewidth": 0,
             "ticks": ""
            },
            "colorscale": [
             [
              0,
              "#0d0887"
             ],
             [
              0.1111111111111111,
              "#46039f"
             ],
             [
              0.2222222222222222,
              "#7201a8"
             ],
             [
              0.3333333333333333,
              "#9c179e"
             ],
             [
              0.4444444444444444,
              "#bd3786"
             ],
             [
              0.5555555555555556,
              "#d8576b"
             ],
             [
              0.6666666666666666,
              "#ed7953"
             ],
             [
              0.7777777777777778,
              "#fb9f3a"
             ],
             [
              0.8888888888888888,
              "#fdca26"
             ],
             [
              1,
              "#f0f921"
             ]
            ],
            "type": "heatmap"
           }
          ],
          "heatmapgl": [
           {
            "colorbar": {
             "outlinewidth": 0,
             "ticks": ""
            },
            "colorscale": [
             [
              0,
              "#0d0887"
             ],
             [
              0.1111111111111111,
              "#46039f"
             ],
             [
              0.2222222222222222,
              "#7201a8"
             ],
             [
              0.3333333333333333,
              "#9c179e"
             ],
             [
              0.4444444444444444,
              "#bd3786"
             ],
             [
              0.5555555555555556,
              "#d8576b"
             ],
             [
              0.6666666666666666,
              "#ed7953"
             ],
             [
              0.7777777777777778,
              "#fb9f3a"
             ],
             [
              0.8888888888888888,
              "#fdca26"
             ],
             [
              1,
              "#f0f921"
             ]
            ],
            "type": "heatmapgl"
           }
          ],
          "histogram": [
           {
            "marker": {
             "pattern": {
              "fillmode": "overlay",
              "size": 10,
              "solidity": 0.2
             }
            },
            "type": "histogram"
           }
          ],
          "histogram2d": [
           {
            "colorbar": {
             "outlinewidth": 0,
             "ticks": ""
            },
            "colorscale": [
             [
              0,
              "#0d0887"
             ],
             [
              0.1111111111111111,
              "#46039f"
             ],
             [
              0.2222222222222222,
              "#7201a8"
             ],
             [
              0.3333333333333333,
              "#9c179e"
             ],
             [
              0.4444444444444444,
              "#bd3786"
             ],
             [
              0.5555555555555556,
              "#d8576b"
             ],
             [
              0.6666666666666666,
              "#ed7953"
             ],
             [
              0.7777777777777778,
              "#fb9f3a"
             ],
             [
              0.8888888888888888,
              "#fdca26"
             ],
             [
              1,
              "#f0f921"
             ]
            ],
            "type": "histogram2d"
           }
          ],
          "histogram2dcontour": [
           {
            "colorbar": {
             "outlinewidth": 0,
             "ticks": ""
            },
            "colorscale": [
             [
              0,
              "#0d0887"
             ],
             [
              0.1111111111111111,
              "#46039f"
             ],
             [
              0.2222222222222222,
              "#7201a8"
             ],
             [
              0.3333333333333333,
              "#9c179e"
             ],
             [
              0.4444444444444444,
              "#bd3786"
             ],
             [
              0.5555555555555556,
              "#d8576b"
             ],
             [
              0.6666666666666666,
              "#ed7953"
             ],
             [
              0.7777777777777778,
              "#fb9f3a"
             ],
             [
              0.8888888888888888,
              "#fdca26"
             ],
             [
              1,
              "#f0f921"
             ]
            ],
            "type": "histogram2dcontour"
           }
          ],
          "mesh3d": [
           {
            "colorbar": {
             "outlinewidth": 0,
             "ticks": ""
            },
            "type": "mesh3d"
           }
          ],
          "parcoords": [
           {
            "line": {
             "colorbar": {
              "outlinewidth": 0,
              "ticks": ""
             }
            },
            "type": "parcoords"
           }
          ],
          "pie": [
           {
            "automargin": true,
            "type": "pie"
           }
          ],
          "scatter": [
           {
            "fillpattern": {
             "fillmode": "overlay",
             "size": 10,
             "solidity": 0.2
            },
            "type": "scatter"
           }
          ],
          "scatter3d": [
           {
            "line": {
             "colorbar": {
              "outlinewidth": 0,
              "ticks": ""
             }
            },
            "marker": {
             "colorbar": {
              "outlinewidth": 0,
              "ticks": ""
             }
            },
            "type": "scatter3d"
           }
          ],
          "scattercarpet": [
           {
            "marker": {
             "colorbar": {
              "outlinewidth": 0,
              "ticks": ""
             }
            },
            "type": "scattercarpet"
           }
          ],
          "scattergeo": [
           {
            "marker": {
             "colorbar": {
              "outlinewidth": 0,
              "ticks": ""
             }
            },
            "type": "scattergeo"
           }
          ],
          "scattergl": [
           {
            "marker": {
             "colorbar": {
              "outlinewidth": 0,
              "ticks": ""
             }
            },
            "type": "scattergl"
           }
          ],
          "scattermapbox": [
           {
            "marker": {
             "colorbar": {
              "outlinewidth": 0,
              "ticks": ""
             }
            },
            "type": "scattermapbox"
           }
          ],
          "scatterpolar": [
           {
            "marker": {
             "colorbar": {
              "outlinewidth": 0,
              "ticks": ""
             }
            },
            "type": "scatterpolar"
           }
          ],
          "scatterpolargl": [
           {
            "marker": {
             "colorbar": {
              "outlinewidth": 0,
              "ticks": ""
             }
            },
            "type": "scatterpolargl"
           }
          ],
          "scatterternary": [
           {
            "marker": {
             "colorbar": {
              "outlinewidth": 0,
              "ticks": ""
             }
            },
            "type": "scatterternary"
           }
          ],
          "surface": [
           {
            "colorbar": {
             "outlinewidth": 0,
             "ticks": ""
            },
            "colorscale": [
             [
              0,
              "#0d0887"
             ],
             [
              0.1111111111111111,
              "#46039f"
             ],
             [
              0.2222222222222222,
              "#7201a8"
             ],
             [
              0.3333333333333333,
              "#9c179e"
             ],
             [
              0.4444444444444444,
              "#bd3786"
             ],
             [
              0.5555555555555556,
              "#d8576b"
             ],
             [
              0.6666666666666666,
              "#ed7953"
             ],
             [
              0.7777777777777778,
              "#fb9f3a"
             ],
             [
              0.8888888888888888,
              "#fdca26"
             ],
             [
              1,
              "#f0f921"
             ]
            ],
            "type": "surface"
           }
          ],
          "table": [
           {
            "cells": {
             "fill": {
              "color": "#EBF0F8"
             },
             "line": {
              "color": "white"
             }
            },
            "header": {
             "fill": {
              "color": "#C8D4E3"
             },
             "line": {
              "color": "white"
             }
            },
            "type": "table"
           }
          ]
         },
         "layout": {
          "annotationdefaults": {
           "arrowcolor": "#2a3f5f",
           "arrowhead": 0,
           "arrowwidth": 1
          },
          "autotypenumbers": "strict",
          "coloraxis": {
           "colorbar": {
            "outlinewidth": 0,
            "ticks": ""
           }
          },
          "colorscale": {
           "diverging": [
            [
             0,
             "#8e0152"
            ],
            [
             0.1,
             "#c51b7d"
            ],
            [
             0.2,
             "#de77ae"
            ],
            [
             0.3,
             "#f1b6da"
            ],
            [
             0.4,
             "#fde0ef"
            ],
            [
             0.5,
             "#f7f7f7"
            ],
            [
             0.6,
             "#e6f5d0"
            ],
            [
             0.7,
             "#b8e186"
            ],
            [
             0.8,
             "#7fbc41"
            ],
            [
             0.9,
             "#4d9221"
            ],
            [
             1,
             "#276419"
            ]
           ],
           "sequential": [
            [
             0,
             "#0d0887"
            ],
            [
             0.1111111111111111,
             "#46039f"
            ],
            [
             0.2222222222222222,
             "#7201a8"
            ],
            [
             0.3333333333333333,
             "#9c179e"
            ],
            [
             0.4444444444444444,
             "#bd3786"
            ],
            [
             0.5555555555555556,
             "#d8576b"
            ],
            [
             0.6666666666666666,
             "#ed7953"
            ],
            [
             0.7777777777777778,
             "#fb9f3a"
            ],
            [
             0.8888888888888888,
             "#fdca26"
            ],
            [
             1,
             "#f0f921"
            ]
           ],
           "sequentialminus": [
            [
             0,
             "#0d0887"
            ],
            [
             0.1111111111111111,
             "#46039f"
            ],
            [
             0.2222222222222222,
             "#7201a8"
            ],
            [
             0.3333333333333333,
             "#9c179e"
            ],
            [
             0.4444444444444444,
             "#bd3786"
            ],
            [
             0.5555555555555556,
             "#d8576b"
            ],
            [
             0.6666666666666666,
             "#ed7953"
            ],
            [
             0.7777777777777778,
             "#fb9f3a"
            ],
            [
             0.8888888888888888,
             "#fdca26"
            ],
            [
             1,
             "#f0f921"
            ]
           ]
          },
          "colorway": [
           "#636efa",
           "#EF553B",
           "#00cc96",
           "#ab63fa",
           "#FFA15A",
           "#19d3f3",
           "#FF6692",
           "#B6E880",
           "#FF97FF",
           "#FECB52"
          ],
          "font": {
           "color": "#2a3f5f"
          },
          "geo": {
           "bgcolor": "white",
           "lakecolor": "white",
           "landcolor": "#E5ECF6",
           "showlakes": true,
           "showland": true,
           "subunitcolor": "white"
          },
          "hoverlabel": {
           "align": "left"
          },
          "hovermode": "closest",
          "mapbox": {
           "style": "light"
          },
          "paper_bgcolor": "white",
          "plot_bgcolor": "#E5ECF6",
          "polar": {
           "angularaxis": {
            "gridcolor": "white",
            "linecolor": "white",
            "ticks": ""
           },
           "bgcolor": "#E5ECF6",
           "radialaxis": {
            "gridcolor": "white",
            "linecolor": "white",
            "ticks": ""
           }
          },
          "scene": {
           "xaxis": {
            "backgroundcolor": "#E5ECF6",
            "gridcolor": "white",
            "gridwidth": 2,
            "linecolor": "white",
            "showbackground": true,
            "ticks": "",
            "zerolinecolor": "white"
           },
           "yaxis": {
            "backgroundcolor": "#E5ECF6",
            "gridcolor": "white",
            "gridwidth": 2,
            "linecolor": "white",
            "showbackground": true,
            "ticks": "",
            "zerolinecolor": "white"
           },
           "zaxis": {
            "backgroundcolor": "#E5ECF6",
            "gridcolor": "white",
            "gridwidth": 2,
            "linecolor": "white",
            "showbackground": true,
            "ticks": "",
            "zerolinecolor": "white"
           }
          },
          "shapedefaults": {
           "line": {
            "color": "#2a3f5f"
           }
          },
          "ternary": {
           "aaxis": {
            "gridcolor": "white",
            "linecolor": "white",
            "ticks": ""
           },
           "baxis": {
            "gridcolor": "white",
            "linecolor": "white",
            "ticks": ""
           },
           "bgcolor": "#E5ECF6",
           "caxis": {
            "gridcolor": "white",
            "linecolor": "white",
            "ticks": ""
           }
          },
          "title": {
           "x": 0.05
          },
          "xaxis": {
           "automargin": true,
           "gridcolor": "white",
           "linecolor": "white",
           "ticks": "",
           "title": {
            "standoff": 15
           },
           "zerolinecolor": "white",
           "zerolinewidth": 2
          },
          "yaxis": {
           "automargin": true,
           "gridcolor": "white",
           "linecolor": "white",
           "ticks": "",
           "title": {
            "standoff": 15
           },
           "zerolinecolor": "white",
           "zerolinewidth": 2
          }
         }
        },
        "title": {
         "font": {
          "color": "black",
          "size": 24
         },
         "text": "Most Similar Courses",
         "x": 0.5
        },
        "width": 1200
       }
      }
     },
     "metadata": {},
     "output_type": "display_data"
    }
   ],
   "source": [
    "#Here we initialize the MapPlotter class by calling the constructor.\n",
    "map_plotter = MapPlotter(data_preprocesser.dataset)\n",
    "#Here we call the .plot() method to plot the results of the query \"engineering London\"\n",
    "map_plotter.plot(result)\n"
   ]
  },
  {
   "cell_type": "markdown",
   "metadata": {},
   "source": [
    "As we can see, this is an interactive map that shows the top-5 courses resulting from our query. This plot has the following features:\n",
    "\n",
    "- You can zoom in/out as long as you want in case not all the courses are found in the same country. It also has street resolution in case we want to observe the exact location where our course takes place.\n",
    "\n",
    "- The **size** of any point in the map represents the **weighted** cosine similarity of the course with our query in order to highlight courses that are more similar to what we wanted to find.\n",
    "\n",
    "- The **color** of any point in the map represents the **fees** (in euros) of the course as we can see by the colorbar. In case a fee isn't included in the course information or we didn't convert it to euros, it has a default gray color.\n",
    "\n",
    "- When hovering over a point one can obtain basic information about the course including: name, faculty, university, duration, etc.\n",
    "\n",
    "----\n",
    "\n",
    "## **6. Command Line Question**\n",
    "\n",
    "For this Command Line question we were asked to perform the following things:\n",
    "\n",
    "1. First, take the `course_i.tsv` files we created in **Section 1** and merge them using Linux commands.\n",
    "\n",
    "2. Obtain the following information from our new `merged_courses.tsv` file:\n",
    "\n",
    "    * Which country offers the most Master's Degrees? Which city?\n",
    "    * How many colleges offer Part-Time education?\n",
    "    * Print the percentage of courses in Engineering (the word \"Engineer\" is contained in the course's name).\n",
    "\n",
    "To solve this problems we wrote an executable `CommandLine.sh` bash script that performs the following steps:\n",
    "\n",
    "1. Creates a `merged_courses.tsv` adding the headers of each column and appending all the information from the 6000 `course_i.tsv` files we created in **Section 1**.\n",
    "\n",
    "2. Takes the `country` column of the `merged_courses.tsv`, counts each time a unique country appears and prints the country that appears the **greatest** number of times. It does the same also for the `city` column.\n",
    "\n",
    "3. Takes the `universityName` and `modality` columns of the `merged_courses.tsv`,  selects all the courses that include the word \"Part time\" in the `modality` column using a RegEx (`Part time`), counts each time a unique university has Part Time courses and print the **total** number of universities that offer Part Time.\n",
    "\n",
    "4. Takes the `courseName` column of the `merged_courses.tsv`, selects all the courses that include the word Engineer/engineer using a RegEx (`[eE]ngineer`) and count the **total** number of universities.\n",
    "\n",
    "For more information about the **implementation** of this script please refer to the `CommandLine.sh` script file included in our repository. We can test this script using the bash commands given by Jupyter and obtaining the following results:\n",
    "\n"
   ]
  },
  {
   "cell_type": "code",
   "execution_count": 9,
   "metadata": {},
   "outputs": [
    {
     "name": "stdout",
     "output_type": "stream",
     "text": [
      "The country that offers most courses is:  United Kingdom\n",
      "The city that offers most courses is:  London\n",
      "The number of universities that offer part-time courses is: 121\n",
      "The percentage of courses in Engineering is: 10.4167%\n"
     ]
    }
   ],
   "source": [
    "#Here we run the CommandLine.sh script in our terminal\n",
    "! bash CommandLine.sh\n"
   ]
  },
  {
   "cell_type": "markdown",
   "metadata": {},
   "source": [
    "**NOTE:** We didn't include a screenshot of the script running in our terminal since essentially we're doing the same by running it right here in the notebook.\n",
    "\n",
    "----\n",
    "\n",
    "## **7. Algorithmic Question**\n",
    "\n",
    "We were presented with the following question:\n",
    "\n",
    ">Leonardo is an intern at a company. He is paid based on the total number of hours he has worked. They agreed __d__ days ago that Leonardo could not work less than $minTime_i$ or more than $maxTime_i$ hours per <ins>i-th</ins> day. Furthermore, he was warned by HR that on his last day at the company, he should provide a detailed report on how many hours he worked <ins>each day</ins> for the previous d days.\n",
    ">\n",
    ">Today is the day Leonardo should report to HR, but the problem is that he <ins>didn't</ins> account for how many hours he put in for each day, so he only has the __total sum of the hours__ ($sumHours$) he put in total in these d days. He believes that if he creates a report in which each number $dayHours_i$ corresponds to the __total hours he worked on the i-th day__ while satisfying the HR limitations and the total sum of all $dayHours_i$ equals $sumHours$, he would be fine.\n",
    ">\n",
    ">He cannot create such a report independently and requests your assistance. He will give you the number of days $d$, total hours spent $sumHours$, and the HR limitations for each day $i$, and he wants you to assist him in determining whether it is possible to create such a fake report. If that is possible, make such a report. \n",
    ">\n",
    ">**Input**\n",
    ">\n",
    ">The first line of input contains two integers __d__, $sumHours$ - the number of days Leonardo worked there and the total number of hours he worked for the company. Each of the following __d__ lines contains two integer numbers $minTime_i$ and $maxTime_i$ - the minimum and maximum hours he can work on the $i_{th}$ day. \n",
    ">\n",
    ">**Output**\n",
    ">\n",
    ">If such a report cannot be generated, print 'NO' in one output line. If such a report is possible, print 'YES' in the output and d numbers - the number of hours Leonardo spent each day - in the second line. If more than one solution exists, print any of them. \n",
    "\n",
    "### **7.1 Implementing a Solution**\n",
    "\n",
    "As a first approach to this problem, we wrote a script that performs the following steps:\n",
    "\n",
    "1. Reads the first line of input: $d$, the number of days Leonardo worked, and $sumHours$, the total number of hours Leonardo worked during the $d$ days.\n",
    "\n",
    "2. Reads the other $d$ lines of input: $minTime$, the minimum hours Leonardo can work during the $i$-th day and $maxTime$, the maximum hours Leonardo can work during the $i$-th day.\n",
    "\n",
    "3. Prints `NO` when one of the following conditions are satisfied:\n",
    "\n",
    "    - The sum of the the minimum hours Leonardo can work ($sum\\_ min\\_ hours$) for all the $d$ days is greater than the actual hours Leonardo worked ($sumHours$).\n",
    "    \n",
    "    - The sum of the maximum hours Leonardo can work ($sum\\_ max\\_ hours$) for all the $d$ days is less than the actual hours Leonardo worked ($sumHours$).\n",
    "\n",
    "    This is done since by definition $sum\\_ min\\_ hours \\leq sumHours\\leq sum\\_ max\\_ hours$.\n",
    "\n",
    "4. Prints `YES` when $sum\\_ min\\_ hours \\leq sumHours\\leq sum\\_ max\\_ hours$ and finds a solution that satisfies this condition performing the following steps:\n",
    "\n",
    "    - Obtaining the minimum hours Leonardo **should** work each day.\n",
    "\n",
    "    - If the sum of these hours is **less** than the total hours Leonardo worked ($sumHours$) then:\n",
    "\n",
    "        * We sum **1 hour** to one of the days (if we can) and go on to the next day.\n",
    "        \n",
    "        * We check if the sum of the minimum hours (plus 1) is still less than $sumHours$, if it is, we repeat the loop.\n",
    "\n",
    "    This loop finishes when $sum\\_ min\\_ hours = sumHours\\leq sum\\_ max\\_ hours$. When it does, we print the hours by day Leonardo \"worked\" for the condition to be satisfied.\n",
    "\n",
    "We can see the script in the next cell, tested with the following input:\n",
    "\n",
    "__Input 1__\n",
    "```\n",
    "2 5\n",
    "0 1\n",
    "3 5\n",
    "```"
   ]
  },
  {
   "cell_type": "code",
   "execution_count": 19,
   "metadata": {},
   "outputs": [
    {
     "name": "stdout",
     "output_type": "stream",
     "text": [
      "YES\n",
      "1 4\n"
     ]
    }
   ],
   "source": [
    "#First, we read the first line of input, we also split it by space and we convert each element to an integer:\n",
    "#d: the number of days Leonardo worked\n",
    "#sumHours: the total number of hours Leonardo worked during the d days\n",
    "d, sumHours = map(int, input().strip().split())\n",
    "\n",
    "#Then, we read the other d lines of input, which we also split by space, convert each element to an integer and we store them in a list called daily_hours\n",
    "#Each element of the list is a tuple (minTime, maxTime) which represents the minimum and maximum number of hours Leonardo worked during the i-th day\n",
    "daily_hours = [tuple(map(int, input().strip().split())) for i in range(d)]\n",
    "\n",
    "#Now, we calculate the sum of the minimum hours and the sum of the maximum hours that Leonardo can work during the d days\n",
    "sum_min_hours = sum([minTime for minTime, maxTime in daily_hours])\n",
    "sum_max_hours = sum([maxTime for minTime, maxTime in daily_hours])\n",
    "\n",
    "#We use this to check two conditions:\n",
    "#1. If the total number of hours Leonardo worked during the d days is less than the sum of the minimum hours he should work during the d days, then we print \"NO\" and we exit the program\n",
    "#2. If the total number of hours Leonardo worked during the d days is greater than the sum of the maximum hours he should work during the d days, then we print \"NO\" and we exit the program\n",
    "if sum_min_hours > sumHours or sum_max_hours < sumHours:\n",
    "    print(\"NO\")\n",
    "\n",
    "#If instead, the total number of hours Leonardo worked during the d days is between the sum of the minimum hours and the sum of the maximum hours he should work during the d days, we can find a solution.\n",
    "#To find the solution we perform the following steps: \n",
    "else:\n",
    "    #First we print \"YES\" to indicate that we can find a solution\n",
    "    print(\"YES\")\n",
    "    #First we initialize three variables:\n",
    "    #hours: a list of length d which contains the hours Leonardo will write in the report for each day. We initialize this list with the minimum hours Leonardo has to work during each day\n",
    "    #sum_hours: the sum of the hours Leonardo will write in the report for each day. We initialize this variable with the sum of the minimum hours Leonardo has to work during each day\n",
    "    #i: an integer which represents the index of the day we are currently working on\n",
    "    hours = [minTime for minTime, maxTime in daily_hours]\n",
    "    sum_hours = sum_min_hours\n",
    "    i = 0\n",
    "    #Now, we start a while loop to find a solution that satisfies the condition that sum_hours == sumHours. To do this, we perform the following steps:\n",
    "    while sum_hours < sumHours:\n",
    "        #First we check if the minimum hours Leonardo \"worked\" during the i-th day is less than the maximum hours he can work during the i-th day. \n",
    "        #If this is true, then we can increase the number of hours he \"worked\" during the i-th day by 1 and check again if the condition sum_hours == sumHours is satisfied.\n",
    "        if hours[i] < daily_hours[i][1]:\n",
    "            #Here we increase the number of hours Leonardo \"worked\" during the i-th day by 1\n",
    "            hours[i] += 1\n",
    "            #Here we increase the sum of the hours Leonardo \"worked\" during the d days by 1\n",
    "            sum_hours += 1\n",
    "        #Here we increase the index of the day we are currently working on by 1 and use the modulo operator to make sure that the index is between 0 and d-1 always\n",
    "        #This ensures that we are always working on a valid day\n",
    "        i = (i + 1) % d\n",
    "    #The while loop ends when the condition sum_hours == sumHours is satisfied. Now, we can print the solution that satisfies this condition\n",
    "    #To do this, we print the elements of the hours list separated by a space\n",
    "    print(*hours, sep=\" \")\n",
    "\n"
   ]
  },
  {
   "cell_type": "markdown",
   "metadata": {},
   "source": [
    "### **7.2 Calculated Time Complexity O**\n",
    "\n",
    "Let's calculate the time complexity (Big O notation) of this script by line:\n",
    "\n",
    "1. The first line has **constant** time complexity $O(c)$, for $c\\in \\mathbf{N}$, since it only reads two values and converts them to integer:\n",
    "\n",
    "    ```python\n",
    "    d, sumHours = map(int, input().strip().split())\n",
    "    ```\n",
    "\n",
    "2. The second line has time complexity $O(d)$, where $d$ is the number of days Leonardo worked since it saves $d$ pairs of integer values in a list:\n",
    "\n",
    "    ```python\n",
    "    daily_hours = [tuple(map(int, input().strip().split())) for i in range(d)]\n",
    "    ```\n",
    "\n",
    "3. The third line has **overall** time complexity $O(d)$ since first it obtains the `minTime` values of the `daily_hours` list (with time complexity $O(d)$) and then sums these values (with time complexity $O(d)$):\n",
    "\n",
    "    ```python\n",
    "    sum_min_hours = sum([minTime for minTime, maxTime in daily_hours])\n",
    "    ```\n",
    "\n",
    "    The same thing applies for line four:\n",
    "\n",
    "    ```python\n",
    "    sum_max_hours = sum([maxTime for minTime, maxTime in daily_hours])\n",
    "    ```\n",
    "\n",
    "4. The fifth line checks if a condition is satisfied. From this line onwards, we have two options:\n",
    "\n",
    "    - If the last condition is satisfied, then we print `NO` and exit the program. This has time complexity $O(c)$, for $c\\in \\mathbf{N}$:\n",
    "\n",
    "        ```python\n",
    "        if sum_min_hours > sumHours or sum_max_hours < sumHours:\n",
    "            print(\"NO\")\n",
    "        ```\n",
    "\n",
    "        When this happens, the **overall** time complexity of all the program is: $O(d)$ since it **dominates** through all the constant time complexities.\n",
    "\n",
    "    - If it isn't satisfied, then we print `YES` (with t.c. $O(1)$) and perform extra steps since we have to find a solution for the hours Leonardo should work:\n",
    "\n",
    "        * First we initialize a list with the minimum hours Leonardo should work for each day, this has time complexity $O(d)$ since we have to loop for all days:\n",
    "\n",
    "            ```python\n",
    "            hours = [minTime for minTime, maxTime in daily_hours]\n",
    "            ```\n",
    "\n",
    "        * We also initialize a variable that contains the sum of the hours Leonardo \"worked\" and an index $i$. This clearly has time complexity $O(c)$, for $c\\in \\mathbf{N}$:\n",
    "\n",
    "            ```python\n",
    "            sum_hours = sum_min_hours\n",
    "            i = 0\n",
    "            ```\n",
    "\n",
    "        * Then, we create a `while` loop that sums 1 hour to each element of the `hours` list **until** the `sum_hours` and `sumHours` variables are the same. Let's analyze only the **worst** case scenario of this loop:\n",
    "\n",
    "            ```python\n",
    "            while sum_hours < sumHours:\n",
    "                if hours[i] < daily_hours[i][1]:\n",
    "                    hours[i] += 1\n",
    "                    sum_hours += 1\n",
    "                i = (i + 1) % d\n",
    "            ```\n",
    "\n",
    "            We can observe that this loop not only loops throughout the $d$ elements of the `hours` list, but it also can repeat this loop a particular number of times depending on the initialization of our `sum_hours` variable since we can not always enter the `if` condition. Moreover, the **worst** case scenario would be when `sum_hours = 0` since in this case we would have to loop for a minimum of `sumHours` steps (since we sum by 1 at a time) to a maximum of `sumHours`*`d` steps since we can skip the `if` a maximum of `d` number of times.\n",
    "\n",
    "            Therefore in the **worst** case scenario the **overall** time complexity of this chunk of the program is: $O(d*sumHours)$.\n",
    "\n",
    "        * Finally, we print the hours Leonardo \"worked\" each day to satisfy the `sumHours`. This takes overall time complexity $O(d)$ since we print $d$ elements:\n",
    "\n",
    "            ```python\n",
    "             print(*hours, sep=\" \")\n",
    "            ```\n",
    "\n",
    "\n",
    "When summing the time complexities of the entire program, we can see that, in the **worst** case scenario (when we have to find a solution and sum a big number of times), our program has an **overall** time complexity of $\\boxed{O(d*sumHours)}$ since it **dominates** through all the constant time complexities and $O(d)$ time complexities.\n",
    "\n",
    "\n",
    "### **7.3 ChatGPT's answer**\n",
    "\n",
    "We can ask ChatGPT to obtain our code's time complexity to check if indeed it obtains the same or not. The prompt we wrote was the following:\n",
    "\n",
    ">Obtain the time complexity (big O notation) of the following code:\n",
    ">```python\n",
    ">d, sumHours = map(int, input().strip().split())\n",
    ">daily_hours = [tuple(map(int, input().strip().split())) for i in range(d)]\n",
    ">sum_min_hours = sum([minTime for minTime, maxTime in daily_hours])\n",
    ">sum_max_hours = sum([maxTime for minTime, maxTime in daily_hours])\n",
    ">\n",
    ">if sum_min_hours > sumHours or sum_max_hours < sumHours:\n",
    ">    print(\"NO\")\n",
    ">else:\n",
    ">    print(\"YES\")\n",
    ">    hours = [minTime for minTime, maxTime in daily_hours]\n",
    ">    sum_hours = sum_min_hours\n",
    ">    i = 0\n",
    ">    while sum_hours < sumHours:\n",
    ">        if hours[i] < daily_hours[i][1]:\n",
    ">            hours[i] += 1\n",
    ">            sum_hours += 1\n",
    ">        i = (i + 1) % d\n",
    ">    print(\" \".join(map(str, hours)))\n",
    ">```\n",
    "\n",
    "And its answer was:\n",
    "\n",
    ">Let's analyze the time complexity of the given code:\n",
    ">\n",
    ">1. The first line takes constant time, $O(1)$, to read and parse two integers.\n",
    ">\n",
    ">2. The second line creates a list of tuples, which takes $O(d)$ time, where $d$ is the number of days.\n",
    ">\n",
    ">3. The third and fourth lines calculate the sum of the minimum and maximum hours, respectively. Both of these operations take $O(d)$ time.\n",
    ">\n",
    ">4. The if-else block has constant time complexity as it involves simple arithmetic operations and conditional checks.\n",
    ">\n",
    ">Now, let's analyze the time complexity of the while loop:\n",
    ">\n",
    ">- The while loop iterates until `sum_hours` is equal to or greater than `sumHours`.\n",
    ">\n",
    ">- In each iteration, the loop increments the `hours` array and updates the `sum_hours`.\n",
    ">\n",
    ">- The loop goes through each day, updating the `hours` array and `sum_hours` accordingly.\n",
    ">\n",
    ">The worst-case scenario is when the initial `sum_hours` is less than `sumHours`, and each day needs to be incremented until `sum_hours` becomes equal to or greater than `sumHours`. In the worst case, each day will be visited at most `sumHours` times.\n",
    ">\n",
    ">Therefore, the overall time complexity of the while loop is $O(d * sumHours)$.\n",
    ">\n",
    ">The dominant term in the time complexity is $O(d * sumHours)$, so the final time complexity of the entire code is $O(d * sumHours)$.\n",
    "\n",
    "Surprisingly this is accurate even though it is not as well explained as we would hope so. We believe this is correct since it is the same result we arrived to by justifying every step of the way.\n",
    "\n",
    "### **7.4 Is our code optimal?**\n",
    "\n",
    "We believe our code is **not** optimal and can be reduced to $O(d)$ for two reasons:\n",
    "\n",
    "1. In the **best** case scenario our code (when the first condition is satisfied) has a time complexity of $O(d)$ since it only reads the time values for each day and performs a comparison. This makes us think that we could achieve the same time complexity also when the other condition is satisfied. Indeed we can have time complexity of $O(d)$ for the second condition in the specific case when `sum_hours` is equal to `sumHours` from the beginning.\n",
    "\n",
    "2. In the `while` loop we can not always enter the `if` condition when `hours[i] >= daily_hours[i][1]` (i.e. when the hours worked in a day are equal or greater than the maximum ones Leonardo can work). This is the reason why we can **repeat** the loop more than $d$ times and results in a waste of time since when this condition is not fulfilled, the code's running time increases a lot.\n",
    "\n",
    "    Ideally we would like to loop through the `daily_hours` list the **minimum** number of times possible (that would be indeed $d$).\n",
    "\n",
    "For these reasons we propose the following improvement to our previous code (tested with the same code as before):"
   ]
  },
  {
   "cell_type": "code",
   "execution_count": 20,
   "metadata": {},
   "outputs": [
    {
     "name": "stdout",
     "output_type": "stream",
     "text": [
      "YES\n",
      "1 4\n"
     ]
    }
   ],
   "source": [
    "#First, we read the first line of input, we also split it by space and we convert each element to an integer:\n",
    "#d: the number of days Leonardo worked\n",
    "#sumHours: the total number of hours Leonardo worked during the d days\n",
    "d, sumHours = map(int, input().strip().split())\n",
    "\n",
    "#Then, we read the other d lines of input, which we also split by space, convert each element to an integer and we store them in a list called daily_hours\n",
    "#Each element of the list is a tuple (minTime, maxTime) which represents the minimum and maximum number of hours Leonardo worked during the i-th day\n",
    "daily_hours = [tuple(map(int, input().strip().split())) for i in range(d)]\n",
    "\n",
    "#Now, we calculate the sum of the minimum hours and the sum of the maximum hours that Leonardo can work during the d days\n",
    "sum_min_hours = sum([minTime for minTime, maxTime in daily_hours])\n",
    "sum_max_hours = sum([maxTime for minTime, maxTime in daily_hours])\n",
    "\n",
    "#We use this to check two conditions:\n",
    "#1. If the total number of hours Leonardo worked during the d days is less than the sum of the minimum hours he should work during the d days, then we print \"NO\" and we exit the program\n",
    "#2. If the total number of hours Leonardo worked during the d days is greater than the sum of the maximum hours he should work during the d days, then we print \"NO\" and we exit the program\n",
    "if sum_min_hours > sumHours or sum_max_hours < sumHours:\n",
    "    print(\"NO\")\n",
    "\n",
    "#If instead, the total number of hours Leonardo worked during the d days is between the sum of the minimum hours and the sum of the maximum hours he should work during the d days, we can find a solution.\n",
    "#To find the solution we perform the following steps: \n",
    "else:\n",
    "    #First, we find the difference between the total number of hours Leonardo worked during the d days and the sum of the minimum hours he should work during the d days\n",
    "    #This difference represents the number of hours we can add to the already minimum hours we know Leonardo has to work during the d days\n",
    "    diff = sumHours - sum_min_hours\n",
    "    #We also initialize a list called hours which will contain the hours Leonardo will write in the report for each day\n",
    "    hours = []\n",
    "    #Now, we iterate over the d days and perform the following steps:\n",
    "    for i in range(d):\n",
    "        #Here we get the minimum hours Leonardo has to work during the i-th day\n",
    "        minTime = daily_hours[i][0]\n",
    "        #Here we get the maximum hours Leonardo can work during the i-th day\n",
    "        maxTime = daily_hours[i][1]\n",
    "        #Here we get the number of hours that we can add to the i-th day. We try to optimize this number by making sure that we don't add more hours than the maximum hours Leonardo can work during the i-th day\n",
    "        #We also make sure that we don't add more hours than the difference between the total number of hours Leonardo worked during the d days and the sum of the minimum hours he should work during the d days\n",
    "        #We do this by taking the minimum between the difference and the maximum hours Leonardo can work during the i-th day\n",
    "        add = min(diff, maxTime - minTime)\n",
    "        #Here we add the number of hours we can add to the i-th day and add them to the minimum hours Leonardo has to work during the i-th day\n",
    "        hours.append(minTime + add)\n",
    "        #Finally we subtract the number of hours we added to the i-th day from the difference since we already used them\n",
    "        diff -= add\n",
    "\n",
    "    #In the end we should have used all the hours we can add to the already minimum hours we know Leonardo has to work during the d days\n",
    "    #Nevertheless, we check if this is true by checking if the difference is greater than 0. If this is true, then we print \"NO\" and we exit the program\n",
    "    if diff > 0:\n",
    "        print(\"NO\")\n",
    "    #If instead, the difference is equal to 0, then we can print the solution that satisfies the condition diff == 0\n",
    "    else:\n",
    "        print(\"YES\")\n",
    "        print(*hours)\n",
    "    \n",
    "\n"
   ]
  },
  {
   "cell_type": "markdown",
   "metadata": {},
   "source": [
    "As we can see, we only changed the second condition, since the `while` loop was the part that was more expensive in time. Instead we propose the following solution:\n",
    "\n",
    "1. First, we find the number of hours we **have** to add to the minimum hours Leonardo has to work and also create a list to store the final result. This has constant time complexity $O(2)$:\n",
    "    ```python\n",
    "    diff = sumHours - sum_min_hours\n",
    "    hours = []\n",
    "    ```\n",
    "\n",
    "2. Then, we start a `for` loop where we visit each day **only once**:\n",
    "    ```python\n",
    "    for i in range(d):\n",
    "        minTime = daily_hours[i][0]\n",
    "        maxTime = daily_hours[i][1]\n",
    "        add = min(diff, maxTime - minTime)\n",
    "        hours.append(minTime + add)\n",
    "        diff -= add\n",
    "    ```\n",
    "\n",
    "    As we can see, inside the `for` loop we're only dealing with numbers (defining variables, calculating the minimum of two numbers, appending a value and substracting a value). Therefore we repeat each step only once for each day. This ensures us that the overall time complexity of this `for` loop is $O(d)$.\n",
    "\n",
    "3. Finally, we print the result. In the worst case scenario we have to print the solution we've find, so since we have to print the hours worked for each day, this has time complexity of $O(d)$.\n",
    "\n",
    "Therefore in this case, we have an overall time complexity for all the program of $\\boxed{O(d)}$. Clearly this is **optimal** since as a minimum we have to read the values for all the $d$ days and this has the same time complexity."
   ]
  }
 ],
 "metadata": {
  "kernelspec": {
   "display_name": "adm",
   "language": "python",
   "name": "python3"
  },
  "language_info": {
   "codemirror_mode": {
    "name": "ipython",
    "version": 3
   },
   "file_extension": ".py",
   "mimetype": "text/x-python",
   "name": "python",
   "nbconvert_exporter": "python",
   "pygments_lexer": "ipython3",
   "version": "3.11.6"
  }
 },
 "nbformat": 4,
 "nbformat_minor": 2
}
